{
<<<<<<< HEAD
<<<<<<< HEAD
 "cells": [
  {
   "cell_type": "markdown",
   "metadata": {},
   "source": [
    "We&rsquo;ve already met numbers, strings, and lists, but Python provides\n",
    "other basic data types such as the *dictionary* which, in other\n",
    "languages, might be named an associative array.  Python dictionaries\n",
    "associate *values* (either mutable or immutable) to keys (which must\n",
    "be immutable).\n",
    "\n"
   ]
  },
  {
   "cell_type": "markdown",
   "metadata": {},
   "source": [
    "## Creating dictionaries\n",
    "\n"
   ]
  },
  {
   "cell_type": "code",
   "execution_count": 1,
   "metadata": {},
   "outputs": [
    {
     "data": {
      "text/plain": [
       "{'cat': 17, 'dog': -15, 'turtle': 0}"
      ]
     },
     "execution_count": 1,
     "metadata": {},
     "output_type": "execute_result"
    }
   ],
   "source": [
    "{'cat': 17, 'dog': -15, 'turtle': 0}"
   ]
  },
  {
   "cell_type": "markdown",
   "metadata": {},
   "source": [
    "There is the empty list `[]` and likewise the empty dictionary `{}`.\n",
    "\n"
   ]
  },
  {
   "cell_type": "code",
   "execution_count": 2,
   "metadata": {},
   "outputs": [],
   "source": [
    "empty = {}"
   ]
  },
  {
   "cell_type": "markdown",
   "metadata": {},
   "source": [
    "## Operations on dictionaries\n",
    "\n"
   ]
  },
  {
   "cell_type": "markdown",
   "metadata": {},
   "source": [
    "You can look-up values associated to a given key.\n",
    "\n"
   ]
  },
  {
   "cell_type": "code",
   "execution_count": 3,
   "metadata": {},
   "outputs": [
    {
     "data": {
      "text/plain": [
       "0"
      ]
     },
     "execution_count": 3,
     "metadata": {},
     "output_type": "execute_result"
    }
   ],
   "source": [
    "d = {'cat': 17, 'dog': -15, 'turtle': 0}\n",
    "d['turtle']"
   ]
  },
  {
   "cell_type": "markdown",
   "metadata": {},
   "source": [
    "What happens if you try to access a missing key?\n",
    "\n"
   ]
  },
  {
   "cell_type": "code",
   "execution_count": 4,
   "metadata": {},
   "outputs": [
    {
     "ename": "KeyError",
     "evalue": "'purple'",
     "output_type": "error",
     "traceback": [
      "\u001b[0;31m---------------------------------------------------------------------------\u001b[0m",
      "\u001b[0;31mKeyError\u001b[0m                                  Traceback (most recent call last)",
      "\u001b[0;32m<ipython-input-4-e5ea44c15859>\u001b[0m in \u001b[0;36m<module>\u001b[0;34m\u001b[0m\n\u001b[1;32m      1\u001b[0m \u001b[0md\u001b[0m \u001b[0;34m=\u001b[0m \u001b[0;34m{\u001b[0m\u001b[0;34m'cat'\u001b[0m\u001b[0;34m:\u001b[0m \u001b[0;36m17\u001b[0m\u001b[0;34m,\u001b[0m \u001b[0;34m'dog'\u001b[0m\u001b[0;34m:\u001b[0m \u001b[0;34m-\u001b[0m\u001b[0;36m15\u001b[0m\u001b[0;34m,\u001b[0m \u001b[0;34m'turtle'\u001b[0m\u001b[0;34m:\u001b[0m \u001b[0;36m0\u001b[0m\u001b[0;34m}\u001b[0m\u001b[0;34m\u001b[0m\u001b[0m\n\u001b[0;32m----> 2\u001b[0;31m \u001b[0mprint\u001b[0m\u001b[0;34m(\u001b[0m\u001b[0md\u001b[0m\u001b[0;34m[\u001b[0m\u001b[0;34m'purple'\u001b[0m\u001b[0;34m]\u001b[0m\u001b[0;34m)\u001b[0m\u001b[0;34m\u001b[0m\u001b[0m\n\u001b[0m",
      "\u001b[0;31mKeyError\u001b[0m: 'purple'"
     ]
    }
   ],
   "source": [
    "d = {'cat': 17, 'dog': -15, 'turtle': 0}\n",
    "print(d['purple'])"
   ]
  },
  {
   "cell_type": "markdown",
   "metadata": {},
   "source": [
    "Contrast that with the result of using `get`.\n",
    "\n"
   ]
  },
  {
   "cell_type": "code",
   "execution_count": 5,
   "metadata": {},
   "outputs": [
    {
     "name": "stdout",
     "output_type": "stream",
     "text": [
      "None\n"
     ]
    }
   ],
   "source": [
    "d = {'cat': 17, 'dog': -15, 'turtle': 0}\n",
    "print(d.get('purple'))"
   ]
  },
  {
   "cell_type": "markdown",
   "metadata": {},
   "source": [
    "In what cases would you prefer `get`?\n",
    "\n",
    "Dictionaries are mutable.\n",
    "\n"
   ]
  },
  {
   "cell_type": "code",
   "execution_count": 6,
   "metadata": {},
   "outputs": [
    {
     "name": "stdout",
     "output_type": "stream",
     "text": [
      "17\n",
      "{'cat': 1000, 'dog': -15, 'turtle': 0, 'fish': 100}\n"
     ]
    }
   ],
   "source": [
    "d = {'cat': 17, 'dog': -15, 'turtle': 0, 'fish': 100}\n",
    "print(d['cat'])\n",
    "d['cat'] = 1000\n",
    "print(d)"
   ]
  },
  {
   "cell_type": "markdown",
   "metadata": {},
   "source": [
    "You can remove items.\n",
    "\n"
   ]
  },
  {
   "cell_type": "code",
   "execution_count": 1,
   "metadata": {},
   "outputs": [],
   "source": [
    "del d['fish']\n",
    "d"
   ]
  },
  {
   "cell_type": "markdown",
   "metadata": {},
   "source": [
    "Can you describe when two dictionaries are equal?\n",
    "\n"
   ]
  },
  {
   "cell_type": "code",
   "execution_count": 7,
   "metadata": {},
   "outputs": [
    {
     "data": {
      "text/plain": [
       "False"
      ]
     },
     "execution_count": 7,
     "metadata": {},
     "output_type": "execute_result"
    }
   ],
   "source": [
    "e = {}\n",
    "e['cat'] = 1000\n",
    "e['dog'] = -15\n",
    "e['turtle'] = 0\n",
    "e == d"
   ]
  },
  {
   "cell_type": "markdown",
   "metadata": {},
   "source": [
    "## Some methods\n",
    "\n"
   ]
  },
  {
   "cell_type": "markdown",
   "metadata": {},
   "source": [
    "What happens when you call the `keys` method on a dictionary?  Why do I wrap this in `list`?\n",
    "\n"
   ]
  },
  {
   "cell_type": "code",
   "execution_count": 8,
   "metadata": {},
   "outputs": [
    {
     "data": {
      "text/plain": [
       "['cat', 'dog', 'turtle', 'fish']"
      ]
     },
     "execution_count": 8,
     "metadata": {},
     "output_type": "execute_result"
    }
   ],
   "source": [
    "list(d.keys())"
   ]
  },
  {
   "cell_type": "code",
   "execution_count": 9,
   "metadata": {},
   "outputs": [
    {
     "data": {
      "text/plain": [
       "[1000, -15, 0, 100]"
      ]
     },
     "execution_count": 9,
     "metadata": {},
     "output_type": "execute_result"
    }
   ],
   "source": [
    "list(d.values())"
   ]
  },
  {
   "cell_type": "code",
   "execution_count": 10,
   "metadata": {},
   "outputs": [
    {
     "data": {
      "text/plain": [
       "[('cat', 1000), ('dog', -15), ('turtle', 0), ('fish', 100)]"
      ]
     },
     "execution_count": 10,
     "metadata": {},
     "output_type": "execute_result"
    }
   ],
   "source": [
    "list(d.items())"
   ]
  },
  {
   "cell_type": "markdown",
   "metadata": {},
   "source": [
    "We met `get` earlier, but there is more to `get`.  For instance, there\n",
    "is a facility for including default values instead of `None`.\n",
    "\n"
   ]
  },
  {
   "cell_type": "code",
   "execution_count": 11,
   "metadata": {},
   "outputs": [
    {
     "name": "stdout",
     "output_type": "stream",
     "text": [
      "17\n",
      "-1\n"
     ]
    }
   ],
   "source": [
    "d = {'cat': 17, 'dog': -15, 'turtle': 0}\n",
    "print(d.get('cat',-1))\n",
    "print(d.get('purple',-1))"
   ]
  },
  {
   "cell_type": "markdown",
   "metadata": {},
   "source": [
    "There is also `pop`.\n",
    "\n"
   ]
  },
  {
   "cell_type": "code",
   "execution_count": 12,
   "metadata": {},
   "outputs": [
    {
     "name": "stdout",
     "output_type": "stream",
     "text": [
      "{'cat': 17, 'dog': -15, 'turtle': 0}\n",
      "17\n",
      "{'dog': -15, 'turtle': 0}\n"
     ]
    }
   ],
   "source": [
    "d = {'cat': 17, 'dog': -15, 'turtle': 0}\n",
    "print(d)\n",
    "print(d.pop('cat'))\n",
    "print(d)"
   ]
  },
  {
   "cell_type": "markdown",
   "metadata": {},
   "source": [
    "Finally, you can merge two dictionaries with `update`.\n",
    "\n"
   ]
  },
  {
   "cell_type": "code",
   "execution_count": 1,
   "metadata": {},
   "outputs": [],
   "source": [
    "d1 = {'cat': 17, 'dog': -15, 'turtle': 0}\n",
    "d2 = {'cow': 1, 'sheep': 16}\n",
    "print(d1,d2)\n",
    "d1.update(d2)\n",
    "print(d1,d2)"
   ]
  }
 ],
 "metadata": {
  "kernelspec": {
   "display_name": "Python 3",
   "language": "python",
   "name": "python3"
  },
  "language_info": {
   "codemirror_mode": {
    "name": "ipython",
    "version": 3
   },
   "file_extension": ".py",
   "mimetype": "text/x-python",
   "name": "python",
   "nbconvert_exporter": "python",
   "pygments_lexer": "ipython3",
   "version": "3.7.0"
  },
  "org": null
 },
 "nbformat": 4,
 "nbformat_minor": 1
=======
   "cells" : [
      {
         "metadata" : {},
         "cell_type" : "markdown",
         "source" : [
            "We&rsquo;ve already met numbers, strings, and lists, but Python provides\nother basic data types such as the *dictionary* which, in other\nlanguages, might be named an associative array.  Python dictionaries\nassociate *values* (either mutable or immutable) to keys (which must\nbe immutable).\n\n"
         ]
      },
      {
         "cell_type" : "markdown",
         "metadata" : {},
         "source" : [
            "## Creating dictionaries\n\n"
         ]
      },
      {
         "source" : [
            "{'cat': 17, 'dog': -15, 'turtle': 0}"
         ],
         "outputs" : [],
         "execution_count" : 1,
         "metadata" : {},
         "cell_type" : "code"
      },
      {
         "metadata" : {},
         "cell_type" : "markdown",
         "source" : [
            "There is the empty list `[]` and likewise the empty dictionary `{}`.\n\n"
         ]
      },
      {
         "execution_count" : 1,
         "metadata" : {},
=======
   "nbformat" : 4,
   "nbformat_minor" : 0,
   "metadata" : {
      "org" : null,
      "language_info" : {
         "codemirror_mode" : {
            "name" : "ipython",
            "version" : 3
         },
         "pygments_lexer" : "ipython3",
         "name" : "python",
         "nbconvert_exporter" : "python",
         "file_extension" : ".py",
         "version" : "3.5.2",
         "mimetype" : "text/x-python"
      },
      "kernelspec" : {
         "language" : "python",
         "name" : "python3",
         "display_name" : "Python 3"
      }
   },
   "cells" : [
      {
         "source" : [
            "We&rsquo;ve already met numbers, strings, and lists, but Python provides\nother basic data types such as the *dictionary* which, in other\nlanguages, might be named an associative array.  Python dictionaries\nassociate *values* (either mutable or immutable) to keys (which must\nbe immutable).\n\n"
         ],
         "cell_type" : "markdown",
         "metadata" : {}
      },
      {
         "cell_type" : "markdown",
         "source" : [
            "## Creating dictionaries\n\n"
         ],
         "metadata" : {}
      },
      {
         "metadata" : {},
         "outputs" : [],
         "source" : [
            "{'cat': 17, 'dog': -15, 'turtle': 0}"
         ],
         "cell_type" : "code",
         "execution_count" : 1
      },
      {
         "cell_type" : "markdown",
         "source" : [
            "There is the empty list `[]` and likewise the empty dictionary `{}`.\n\n"
         ],
         "metadata" : {}
      },
      {
         "metadata" : {},
         "outputs" : [],
>>>>>>> parent of f9e326f... week1,day2
         "cell_type" : "code",
         "source" : [
            "empty = {}"
         ],
<<<<<<< HEAD
         "outputs" : []
      },
      {
         "cell_type" : "markdown",
         "metadata" : {},
         "source" : [
            "## Operations on dictionaries\n\n"
         ]
=======
         "execution_count" : 1
      },
      {
         "source" : [
            "## Operations on dictionaries\n\n"
         ],
         "cell_type" : "markdown",
         "metadata" : {}
>>>>>>> parent of f9e326f... week1,day2
      },
      {
         "source" : [
            "You can look-up values associated to a given key.\n\n"
         ],
<<<<<<< HEAD
         "metadata" : {},
         "cell_type" : "markdown"
      },
      {
         "source" : [
            "d = {'cat': 17, 'dog': -15, 'turtle': 0}\nd['turtle']"
         ],
         "outputs" : [],
         "metadata" : {},
         "cell_type" : "code",
         "execution_count" : 1
      },
      {
         "source" : [
            "What happens if you try to access a missing key?\n\n"
         ],
         "metadata" : {},
         "cell_type" : "markdown"
=======
         "cell_type" : "markdown",
         "metadata" : {}
      },
      {
         "cell_type" : "code",
         "source" : [
            "d = {'cat': 17, 'dog': -15, 'turtle': 0}\nd['turtle']"
         ],
         "execution_count" : 1,
         "metadata" : {},
         "outputs" : []
      },
      {
         "cell_type" : "markdown",
         "source" : [
            "What happens if you try to access a missing key?\n\n"
         ],
         "metadata" : {}
>>>>>>> parent of f9e326f... week1,day2
      },
      {
         "source" : [
            "d = {'cat': 17, 'dog': -15, 'turtle': 0}\nprint(d['purple'])"
         ],
<<<<<<< HEAD
         "outputs" : [],
         "execution_count" : 1,
         "metadata" : {},
         "cell_type" : "code"
      },
      {
         "cell_type" : "markdown",
         "metadata" : {},
         "source" : [
            "Contrast that with the result of using `get`.\n\n"
         ]
      },
      {
         "cell_type" : "code",
         "metadata" : {},
         "execution_count" : 1,
         "outputs" : [],
         "source" : [
            "d = {'cat': 17, 'dog': -15, 'turtle': 0}\nprint(d.get('purple'))"
         ]
      },
      {
         "cell_type" : "markdown",
         "metadata" : {},
         "source" : [
            "In what cases would you prefer `get`?\n\nDictionaries are mutable.\n\n"
         ]
      },
      {
=======
         "cell_type" : "code",
         "execution_count" : 1,
         "metadata" : {},
         "outputs" : []
      },
      {
         "source" : [
            "Contrast that with the result of using `get`.\n\n"
         ],
         "cell_type" : "markdown",
         "metadata" : {}
      },
      {
         "metadata" : {},
         "outputs" : [],
         "source" : [
            "d = {'cat': 17, 'dog': -15, 'turtle': 0}\nprint(d.get('purple'))"
         ],
         "cell_type" : "code",
         "execution_count" : 1
      },
      {
         "cell_type" : "markdown",
         "source" : [
            "In what cases would you prefer `get`?\n\nDictionaries are mutable.\n\n"
         ],
         "metadata" : {}
      },
      {
         "execution_count" : 1,
         "cell_type" : "code",
>>>>>>> parent of f9e326f... week1,day2
         "source" : [
            "d = {'cat': 17, 'dog': -15, 'turtle': 0, 'fish': 100}\nprint(d['cat'])\nd['cat'] = 1000\nprint(d)"
         ],
         "outputs" : [],
<<<<<<< HEAD
         "execution_count" : 1,
         "metadata" : {},
         "cell_type" : "code"
=======
         "metadata" : {}
>>>>>>> parent of f9e326f... week1,day2
      },
      {
         "metadata" : {},
         "cell_type" : "markdown",
         "source" : [
            "You can remove items.\n\n"
         ]
      },
      {
         "metadata" : {},
<<<<<<< HEAD
         "cell_type" : "code",
         "execution_count" : 1,
         "source" : [
            "del d['fish']\nd"
         ],
         "outputs" : []
      },
      {
         "source" : [
            "Can you describe when two dictionaries are equal?\n\n"
         ],
         "metadata" : {},
         "cell_type" : "markdown"
      },
      {
         "source" : [
            "e = {}\ne['cat'] = 1000\ne['dog'] = -15\ne['turtle'] = 0\ne == d"
         ],
         "outputs" : [],
         "metadata" : {},
=======
         "outputs" : [],
         "source" : [
            "del d['fish']\nd"
         ],
         "cell_type" : "code",
         "execution_count" : 1
      },
      {
         "metadata" : {},
         "source" : [
            "Can you describe when two dictionaries are equal?\n\n"
         ],
         "cell_type" : "markdown"
      },
      {
         "metadata" : {},
         "outputs" : [],
         "source" : [
            "e = {}\ne['cat'] = 1000\ne['dog'] = -15\ne['turtle'] = 0\ne == d"
         ],
>>>>>>> parent of f9e326f... week1,day2
         "cell_type" : "code",
         "execution_count" : 1
      },
      {
<<<<<<< HEAD
         "source" : [
            "## Some methods\n\n"
         ],
         "cell_type" : "markdown",
         "metadata" : {}
      },
      {
         "source" : [
            "What happens when you call the `keys` method on a dictionary?  Why do I wrap this in `list`?\n\n"
         ],
         "cell_type" : "markdown",
         "metadata" : {}
      },
      {
         "metadata" : {},
         "cell_type" : "code",
         "execution_count" : 1,
         "source" : [
            "list(d.keys())"
         ],
         "outputs" : []
      },
      {
         "cell_type" : "code",
         "metadata" : {},
         "execution_count" : 1,
         "outputs" : [],
         "source" : [
            "list(d.values())"
         ]
      },
      {
         "source" : [
            "list(d.items())"
         ],
         "outputs" : [],
         "metadata" : {},
         "cell_type" : "code",
         "execution_count" : 1
      },
      {
         "cell_type" : "markdown",
         "metadata" : {},
         "source" : [
            "We met `get` earlier, but there is more to `get`.  For instance, there\nis a facility for including default values instead of `None`.\n\n"
         ]
      },
      {
         "outputs" : [],
         "source" : [
            "d = {'cat': 17, 'dog': -15, 'turtle': 0}\nprint(d.get('cat',-1))\nprint(d.get('purple',-1))"
         ],
         "cell_type" : "code",
         "metadata" : {},
         "execution_count" : 1
      },
      {
         "source" : [
            "There is also `pop`.\n\n"
         ],
         "metadata" : {},
         "cell_type" : "markdown"
      },
      {
         "outputs" : [],
=======
         "metadata" : {},
         "cell_type" : "markdown",
         "source" : [
            "## Some methods\n\n"
         ]
      },
      {
         "metadata" : {},
         "source" : [
            "What happens when you call the `keys` method on a dictionary?  Why do I wrap this in `list`?\n\n"
         ],
         "cell_type" : "markdown"
      },
      {
         "metadata" : {},
         "outputs" : [],
         "source" : [
            "list(d.keys())"
         ],
         "cell_type" : "code",
         "execution_count" : 1
      },
      {
         "cell_type" : "code",
         "source" : [
            "list(d.values())"
         ],
         "execution_count" : 1,
         "metadata" : {},
         "outputs" : []
      },
      {
         "metadata" : {},
         "outputs" : [],
         "cell_type" : "code",
         "source" : [
            "list(d.items())"
         ],
         "execution_count" : 1
      },
      {
         "metadata" : {},
         "source" : [
            "We met `get` earlier, but there is more to `get`.  For instance, there\nis a facility for including default values instead of `None`.\n\n"
         ],
         "cell_type" : "markdown"
      },
      {
         "execution_count" : 1,
         "cell_type" : "code",
         "source" : [
            "d = {'cat': 17, 'dog': -15, 'turtle': 0}\nprint(d.get('cat',-1))\nprint(d.get('purple',-1))"
         ],
         "outputs" : [],
         "metadata" : {}
      },
      {
         "metadata" : {},
         "source" : [
            "There is also `pop`.\n\n"
         ],
         "cell_type" : "markdown"
      },
      {
>>>>>>> parent of f9e326f... week1,day2
         "source" : [
            "d = {'cat': 17, 'dog': -15, 'turtle': 0}\nprint(d)\nprint(d.pop('cat'))\nprint(d)"
         ],
         "cell_type" : "code",
<<<<<<< HEAD
         "metadata" : {},
         "execution_count" : 1
      },
      {
         "metadata" : {},
         "cell_type" : "markdown",
         "source" : [
            "Finally, you can merge two dictionaries with `update`.\n\n"
         ]
      },
      {
         "cell_type" : "code",
         "metadata" : {},
         "execution_count" : 1,
         "outputs" : [],
         "source" : [
            "d1 = {'cat': 17, 'dog': -15, 'turtle': 0}\nd2 = {'cow': 1, 'sheep': 16}\nprint(d1,d2)\nd1.update(d2)\nprint(d1,d2)"
         ]
      }
   ],
   "nbformat" : 4,
   "metadata" : {
      "language_info" : {
         "nbconvert_exporter" : "python",
         "mimetype" : "text/x-python",
         "pygments_lexer" : "ipython3",
         "name" : "python",
         "version" : "3.5.2",
         "file_extension" : ".py",
         "codemirror_mode" : {
            "name" : "ipython",
            "version" : 3
         }
      },
      "kernelspec" : {
         "display_name" : "Python 3",
         "language" : "python",
         "name" : "python3"
      },
      "org" : null
   },
   "nbformat_minor" : 0
>>>>>>> upstream/master
=======
         "execution_count" : 1,
         "metadata" : {},
         "outputs" : []
      },
      {
         "metadata" : {},
         "source" : [
            "Finally, you can merge two dictionaries with `update`.\n\n"
         ],
         "cell_type" : "markdown"
      },
      {
         "execution_count" : 1,
         "source" : [
            "d1 = {'cat': 17, 'dog': -15, 'turtle': 0}\nd2 = {'cow': 1, 'sheep': 16}\nprint(d1,d2)\nd1.update(d2)\nprint(d1,d2)"
         ],
         "cell_type" : "code",
         "outputs" : [],
         "metadata" : {}
      }
   ]
>>>>>>> parent of f9e326f... week1,day2
}
