{
   "nbformat_minor" : 0,
   "nbformat" : 4,
   "cells" : [
      {
         "source" : [
            "In what follows, we&rsquo;ll want to rely on some common packages.  Execute\nthe following cell.\n\n"
         ],
         "metadata" : {},
         "cell_type" : "markdown"
      },
      {
         "execution_count" : 1,
         "source" : [
            "%matplotlib inline\nimport matplotlib.pyplot as plt\nimport math"
         ],
         "metadata" : {},
         "cell_type" : "code",
         "outputs" : []
      },
      {
         "cell_type" : "markdown",
         "metadata" : {},
         "source" : [
            "By importing `matplotlib.pyplot` we gain access to a collection of\nfunctions that make matplotlib work like MATLAB, meaning a &ldquo;state\nmachine&rdquo; in which each pyplot function makes some change to a figure\nlike creating a figure, creating a plotting area in a figure, plotting\nsome lines in a plotting area, decorating the plot with labels, and so\non.\n\nNote that `matplotlib.pyplot` means we are only importing a specific\nmodule from `matplotlib` rather than \\*all~ the modules.\n\n"
         ]
      },
      {
         "cell_type" : "markdown",
         "metadata" : {},
         "source" : [
            "## A first plot\n\n"
         ]
      },
      {
         "source" : [
            "Let&rsquo;s try making a first plot.\n\n"
         ],
         "cell_type" : "markdown",
         "metadata" : {}
      },
      {
         "metadata" : {},
         "cell_type" : "code",
         "source" : [
            "plt.plot([1, 2, 4, 9])\nplt.ylabel('a label on the y-axis')\nplt.show()"
         ],
         "execution_count" : 1,
         "outputs" : []
      },
      {
         "cell_type" : "markdown",
         "metadata" : {},
         "source" : [
            "You may be wondering: Why does the $x$-axis range from zero to three?\nIf you provide a single list to the `plot()` command, `matplotlib`\nassumes it is a sequence of $y$ values and automatically generates the\ncorresponding $x$ values for you, using the usual pythonic convention\nthat indexing starts at 0.\n\nTo fix this, try the following:\n\n"
         ]
      },
      {
         "execution_count" : 1,
         "source" : [
            "plt.plot([1, 2, 3, 4], [1, 2, 4, 9])\nplt.show()"
         ],
         "cell_type" : "code",
         "metadata" : {},
         "outputs" : []
      },
      {
         "cell_type" : "markdown",
         "metadata" : {},
         "source" : [
            "Try plotting sine by executing the following.\n\n"
         ]
      },
      {
         "cell_type" : "code",
         "metadata" : {},
         "execution_count" : 1,
         "source" : [
            "plt.plot([1, 2, 3, 4, 5, 6], [math.sin(1), math.sin(2), math.sin(3), math.sin(4), math.sin(5), math.sin(6)])\nplt.show()"
         ],
         "outputs" : []
      },
      {
         "source" : [
            "Clearly six points is not enough.  Your task is to make a nicer plot\nof $y = \\sin x$.\n\n"
         ],
         "metadata" : {},
         "cell_type" : "markdown"
      }
   ],
   "metadata" : {
      "language_info" : {
         "codemirror_mode" : {
            "name" : "ipython",
            "version" : 3
         },
         "version" : "3.5.2",
         "pygments_lexer" : "ipython3",
         "mimetype" : "text/x-python",
         "nbconvert_exporter" : "python",
         "file_extension" : ".py",
         "name" : "python"
      },
      "kernelspec" : {
         "language" : "python",
         "name" : "python3",
         "display_name" : "Python 3"
      },
      "org" : null
   }
}
