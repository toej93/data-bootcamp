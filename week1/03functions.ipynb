{
<<<<<<< HEAD
<<<<<<< HEAD
 "cells": [
  {
   "cell_type": "markdown",
   "metadata": {},
   "source": [
    "&ldquo;Programming&rdquo; involves breaking down complicated problems into\n",
    "simplier pieces.  &ldquo;Functions&rdquo; are one way of managing that complexity\n",
    "by introducing some abstraction.\n",
    "\n"
   ]
  },
  {
   "cell_type": "markdown",
   "metadata": {},
   "source": [
    "## Building your own functions\n",
    "\n"
   ]
  },
  {
   "cell_type": "markdown",
   "metadata": {},
   "source": [
    "Use `def` to define a function, and call the function by appending `()` to its name.\n",
    "\n"
   ]
  },
  {
   "cell_type": "code",
   "execution_count": 1,
   "metadata": {},
   "outputs": [],
   "source": [
    "def greet():\n",
    "    print('Hello, world!')\n",
    "\n",
    "greet()"
   ]
  },
  {
   "cell_type": "markdown",
   "metadata": {},
   "source": [
    "## Arguments\n",
    "\n"
   ]
  },
  {
   "cell_type": "markdown",
   "metadata": {},
   "source": [
    "Your functions can take arguments.\n",
    "\n"
   ]
  },
  {
   "cell_type": "code",
   "execution_count": 1,
   "metadata": {},
   "outputs": [],
   "source": [
    "def add_them(a, b):\n",
    "    print(a,'plus',b,'is',a+b)\n",
    "\n",
    "add_them(5,12)"
   ]
  },
  {
   "cell_type": "markdown",
   "metadata": {},
   "source": [
    "## Documentation\n",
    "\n"
   ]
  },
  {
   "cell_type": "markdown",
   "metadata": {},
   "source": [
    "The audience for the code you write is not only the machine, but\n",
    "ultimately other people and your future self.  Some amount of\n",
    "documentation is valuable in this regard, and &ldquo;docstrings&rdquo; can be nice\n",
    "to make some &ldquo;help&rdquo; available for the new functions you define.\n",
    "\n"
   ]
  },
  {
   "cell_type": "code",
   "execution_count": 1,
   "metadata": {},
   "outputs": [],
   "source": [
    "def distance(a, b):\n",
    "    \"\"\"Determine the distance |a-b| between points a and b on the real line\"\"\"\n",
    "    return abs(a-b)\n",
    "\n",
    "print(help(distance))"
   ]
  },
  {
   "cell_type": "markdown",
   "metadata": {},
   "source": [
    "## Return values\n",
    "\n"
   ]
  },
  {
   "cell_type": "markdown",
   "metadata": {},
   "source": [
    "If we were thinking mathematically, a &ldquo;function&rdquo; ought to mean a\n",
    "relationship between input and output.  We use `return` for this.\n",
    "\n"
   ]
  },
  {
   "cell_type": "code",
   "execution_count": 1,
   "metadata": {},
   "outputs": [],
   "source": [
    "def f(x):\n",
    "    x = x + 1\n",
    "    return x*x\n",
    "\n",
    "f(5)"
   ]
  }
 ],
 "metadata": {
  "kernelspec": {
   "display_name": "Python 3",
   "language": "python",
   "name": "python3"
  },
  "language_info": {
   "codemirror_mode": {
    "name": "ipython",
    "version": 3
   },
   "file_extension": ".py",
   "mimetype": "text/x-python",
   "name": "python",
   "nbconvert_exporter": "python",
   "pygments_lexer": "ipython3",
   "version": "3.7.0"
  },
  "org": null
 },
 "nbformat": 4,
 "nbformat_minor": 1
=======
=======
   "nbformat_minor" : 0,
   "metadata" : {
      "org" : null,
      "language_info" : {
         "name" : "python",
         "pygments_lexer" : "ipython3",
         "mimetype" : "text/x-python",
         "nbconvert_exporter" : "python",
         "version" : "3.5.2",
         "file_extension" : ".py",
         "codemirror_mode" : {
            "name" : "ipython",
            "version" : 3
         }
      },
      "kernelspec" : {
         "name" : "python3",
         "display_name" : "Python 3",
         "language" : "python"
      }
   },
>>>>>>> parent of f9e326f... week1,day2
   "nbformat" : 4,
   "cells" : [
      {
         "metadata" : {},
         "cell_type" : "markdown",
         "source" : [
            "&ldquo;Programming&rdquo; involves breaking down complicated problems into\nsimplier pieces.  &ldquo;Functions&rdquo; are one way of managing that complexity\nby introducing some abstraction.\n\n"
         ]
      },
      {
<<<<<<< HEAD
         "source" : [
            "## Building your own functions\n\n"
         ],
         "cell_type" : "markdown",
         "metadata" : {}
      },
      {
         "source" : [
            "Use `def` to define a function, and call the function by appending `()` to its name.\n\n"
         ],
         "cell_type" : "markdown",
         "metadata" : {}
      },
      {
         "execution_count" : 1,
         "metadata" : {},
=======
         "metadata" : {},
         "source" : [
            "## Building your own functions\n\n"
         ],
         "cell_type" : "markdown"
      },
      {
         "metadata" : {},
         "cell_type" : "markdown",
         "source" : [
            "Use `def` to define a function, and call the function by appending `()` to its name.\n\n"
         ]
      },
      {
>>>>>>> parent of f9e326f... week1,day2
         "cell_type" : "code",
         "outputs" : [],
         "source" : [
            "def greet():\n    print('Hello, world!')\n\ngreet()"
<<<<<<< HEAD
         ]
      },
      {
         "cell_type" : "markdown",
         "metadata" : {},
         "source" : [
            "## Arguments\n\n"
         ]
      },
      {
         "cell_type" : "markdown",
         "metadata" : {},
         "source" : [
            "Your functions can take arguments.\n\n"
         ]
      },
      {
         "execution_count" : 1,
         "metadata" : {},
=======
         ],
         "metadata" : {},
         "execution_count" : 1
      },
      {
         "cell_type" : "markdown",
         "source" : [
            "## Arguments\n\n"
         ],
         "metadata" : {}
      },
      {
         "source" : [
            "Your functions can take arguments.\n\n"
         ],
         "cell_type" : "markdown",
         "metadata" : {}
      },
      {
>>>>>>> parent of f9e326f... week1,day2
         "cell_type" : "code",
         "outputs" : [],
         "source" : [
            "def add_them(a, b):\n    print(a,'plus',b,'is',a+b)\n\nadd_them(5,12)"
<<<<<<< HEAD
         ]
      },
      {
         "metadata" : {},
         "cell_type" : "markdown",
         "source" : [
            "## Documentation\n\n"
         ]
      },
      {
         "source" : [
            "The audience for the code you write is not only the machine, but\nultimately other people and your future self.  Some amount of\ndocumentation is valuable in this regard, and &ldquo;docstrings&rdquo; can be nice\nto make some &ldquo;help&rdquo; available for the new functions you define.\n\n"
         ],
         "cell_type" : "markdown",
         "metadata" : {}
      },
      {
         "outputs" : [],
         "cell_type" : "code",
         "metadata" : {},
         "execution_count" : 1,
         "source" : [
            "def distance(a, b):\n    \"\"\"Determine the distance |a-b| between points a and b on the real line\"\"\"\n    return abs(a-b)\n\nhelp(distance)"
         ]
      },
      {
         "source" : [
            "## Return values\n\n"
         ],
         "cell_type" : "markdown",
         "metadata" : {}
      },
      {
         "source" : [
            "If we were thinking mathematically, a &ldquo;function&rdquo; ought to mean a\nrelationship between input and output.  We use `return` for this.\n\n"
         ],
         "cell_type" : "markdown",
=======
         ],
         "metadata" : {},
         "execution_count" : 1
      },
      {
         "source" : [
            "## Documentation\n\n"
         ],
         "cell_type" : "markdown",
         "metadata" : {}
      },
      {
         "metadata" : {},
         "source" : [
            "The audience for the code you write is not only the machine, but\nultimately other people and your future self.  Some amount of\ndocumentation is valuable in this regard, and &ldquo;docstrings&rdquo; can be nice\nto make some &ldquo;help&rdquo; available for the new functions you define.\n\n"
         ],
         "cell_type" : "markdown"
      },
      {
         "execution_count" : 1,
         "outputs" : [],
         "cell_type" : "code",
         "source" : [
            "def distance(a, b):\n    \"\"\"Determine the distance |a-b| between points a and b on the real line\"\"\"\n    return abs(a-b)\n\nprint(help(distance))"
         ],
         "metadata" : {}
      },
      {
         "metadata" : {},
         "cell_type" : "markdown",
         "source" : [
            "## Return values\n\n"
         ]
      },
      {
         "cell_type" : "markdown",
         "source" : [
            "If we were thinking mathematically, a &ldquo;function&rdquo; ought to mean a\nrelationship between input and output.  We use `return` for this.\n\n"
         ],
>>>>>>> parent of f9e326f... week1,day2
         "metadata" : {}
      },
      {
         "source" : [
            "def f(x):\n    x = x + 1\n    return x*x\n\nf(5)"
         ],
<<<<<<< HEAD
         "execution_count" : 1,
         "metadata" : {},
         "cell_type" : "code",
         "outputs" : []
      }
   ],
   "metadata" : {
      "language_info" : {
         "nbconvert_exporter" : "python",
         "version" : "3.5.2",
         "file_extension" : ".py",
         "pygments_lexer" : "ipython3",
         "mimetype" : "text/x-python",
         "codemirror_mode" : {
            "version" : 3,
            "name" : "ipython"
         },
         "name" : "python"
      },
      "org" : null,
      "kernelspec" : {
         "name" : "python3",
         "language" : "python",
         "display_name" : "Python 3"
      }
   },
   "nbformat_minor" : 0
>>>>>>> upstream/master
=======
         "cell_type" : "code",
         "outputs" : [],
         "metadata" : {},
         "execution_count" : 1
      }
   ]
>>>>>>> parent of f9e326f... week1,day2
}
