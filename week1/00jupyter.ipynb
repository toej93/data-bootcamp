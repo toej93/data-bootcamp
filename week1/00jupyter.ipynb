{
   "nbformat" : 4,
   "cells" : [
      {
         "metadata" : {},
         "cell_type" : "markdown",
         "source" : [
            "## Using Jupyter Notebooks\n\n"
         ]
      },
      {
         "source" : [
            "To evaluate a cell, highlight the cell and press Shift+Enter.\n\nTo create a new cell, hit the + button in the toolbar above.\n\nTo create a cell for writing (as opposed to code) such as this one,\nhighlight the cell and switch its type to Markdown in the dropdown\nmenu above.\n\n"
         ],
         "cell_type" : "markdown",
         "metadata" : {}
      },
      {
         "cell_type" : "markdown",
         "source" : [
            "### Some useful shortcuts\n\n"
         ],
         "metadata" : {}
      },
      {
         "source" : [
            "In a cell, type esc, m, enter to go into change a cell to Markdown.\n\nClick to the left of a cell to enter Command Mode. In Command Mode, type:\n\n-   **a** to add cell above\n-   **b** to add cell below\n\nOther useful shortcuts can be found [here]([http://maxmelnick.com/2016/04/19/python-beginner-tips-and-tricks.html](http://maxmelnick.com/2016/04/19/python-beginner-tips-and-tricks.html)).\n\n"
         ],
         "cell_type" : "markdown",
         "metadata" : {}
      },
      {
         "source" : [
            "## Try it!\n\n"
         ],
         "cell_type" : "markdown",
         "metadata" : {}
      },
      {
         "metadata" : {},
         "cell_type" : "markdown",
         "source" : [
            "Try executing this cell.\n\n"
         ]
      },
      {
         "source" : [
            "print('Hello, world.')"
         ],
         "outputs" : [],
         "execution_count" : 1,
         "cell_type" : "code",
         "metadata" : {}
      },
      {
         "metadata" : {},
         "source" : [
            "Note that text after `#` is treated as a **comment**.\n\n"
         ],
         "cell_type" : "markdown"
      },
      {
         "cell_type" : "code",
         "execution_count" : 1,
         "outputs" : [],
         "source" : [
            "# Share our standard greeting\nprint('Hello, world.')"
         ],
         "metadata" : {}
      }
   ],
   "nbformat_minor" : 0,
   "metadata" : {
      "kernelspec" : {
         "language" : "python",
         "name" : "python3",
         "display_name" : "Python 3"
      },
      "org" : null,
      "language_info" : {
         "nbconvert_exporter" : "python",
         "codemirror_mode" : {
            "name" : "ipython",
            "version" : 3
         },
         "mimetype" : "text/x-python",
         "name" : "python",
         "file_extension" : ".py",
         "pygments_lexer" : "ipython3",
         "version" : "3.5.2"
      }
   }
}
