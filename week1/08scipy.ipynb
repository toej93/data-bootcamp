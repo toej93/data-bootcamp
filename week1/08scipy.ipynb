{
<<<<<<< HEAD
<<<<<<< HEAD
 "cells": [
  {
   "cell_type": "markdown",
   "metadata": {},
   "source": [
    "Today we meet `scipy`, a package for scientific computing with Python.\n",
    "\n",
    "We introduce `scipy` through the lens of &ldquo;first-class functions&rdquo; which\n",
    "is an idea that you&rsquo;ve already met in mathematics: there are functions\n",
    "$f : \\mathbb{R} \\to \\mathbb{R}$ which transform numbers to numbers,\n",
    "but also **operators** which transform functions to functions.  In\n",
    "short, the domain of a mathematical function can include functions!\n",
    "The same is true of functions in Python, which can &ldquo;eat&rdquo; other Python\n",
    "functions.\n",
    "\n"
   ]
  },
  {
   "cell_type": "markdown",
   "metadata": {},
   "source": [
    "## Lambda\n",
    "\n"
   ]
  },
  {
   "cell_type": "markdown",
   "metadata": {},
   "source": [
    "Not all students will want to think about `lambda` at first, but for\n",
    "students with some experience with programming yet who have not\n",
    "encountered `lambda`, the experience may be transformative.\n",
    "\n"
   ]
  },
  {
   "cell_type": "code",
   "execution_count": 5,
   "metadata": {},
   "outputs": [
    {
     "data": {
      "text/plain": [
       "900"
      ]
     },
     "execution_count": 5,
     "metadata": {},
     "output_type": "execute_result"
    }
=======
   "cells" : [
      {
         "cell_type" : "markdown",
         "source" : [
            "Today we meet `scipy`, a package for scientific computing with Python.\n\nWe introduce `scipy` through the lens of &ldquo;first-class functions&rdquo; which\nis an idea that you&rsquo;ve already met in mathematics: there are functions\n$f : \\mathbb{R} \\to \\mathbb{R}$ which transform numbers to numbers,\nbut also **operators** which transform functions to functions.  In\nshort, the domain of a mathematical function can include functions!\nThe same is true of functions in Python, which can &ldquo;eat&rdquo; other Python\nfunctions.\n\n"
         ],
         "metadata" : {}
      },
      {
         "metadata" : {},
         "source" : [
            "## Lambda\n\n"
         ],
         "cell_type" : "markdown"
      },
      {
         "cell_type" : "markdown",
         "source" : [
            "Not all students will want to think about `lambda` at first, but for\nstudents with some experience with programming yet who have not\nencountered `lambda`, the experience may be transformative.\n\n"
         ],
         "metadata" : {}
      },
      {
         "execution_count" : 1,
         "outputs" : [],
         "cell_type" : "code",
         "metadata" : {},
         "source" : [
            "f = lambda x: x*x\nf(5)"
         ]
      },
      {
         "cell_type" : "markdown",
         "metadata" : {},
         "source" : [
            "We use this `lambda` notation to define functions **anonymously**,\nmeaning that we need not give them a name.  For instance, we can even\nwrite the following.\n\n"
         ]
      },
      {
         "source" : [
            "(lambda x: x*x)(5)"
         ],
         "metadata" : {},
         "outputs" : [],
         "cell_type" : "code",
         "execution_count" : 1
      },
      {
         "cell_type" : "markdown",
         "metadata" : {},
         "source" : [
            "The code inside the first set of parenthesis defines the anonymous\nfunction $x \\mapsto x^2$. We then evaluate it at $x=5$ with the second\nparentheses.\n\n"
         ]
      },
      {
         "source" : [
            "## First-class functions and calculus\n\n"
         ],
         "metadata" : {},
         "cell_type" : "markdown"
      },
      {
         "source" : [
            "To see an example of how these lambda functions might be useful, let&rsquo;s\ndefine a function which takes a function as one of its inputs. The\n`integral` function has inputs: a function $f$, a lower bound $a$, an\nupper bound $b$ and a positive real number $h$. The output is the\nnumerical approximation integral of $f$ over $[a,b]$ using\nsubdivisions of size $h$. in particular, we are using rectangular\napproximations to compute the integral.\n\n"
         ],
         "metadata" : {},
         "cell_type" : "markdown"
      },
      {
         "source" : [
            "def integral(f, a, b, h):\n    sum = 0\n    x = a\n    while x < b:\n        sum = sum + f(x)*h\n        x = x + h\n    return sum"
         ],
         "metadata" : {},
         "execution_count" : 1,
         "outputs" : [],
         "cell_type" : "code"
      },
      {
         "source" : [
            "Let&rsquo;s test our integral function.\n\n"
         ],
         "metadata" : {},
         "cell_type" : "markdown"
      },
      {
         "outputs" : [],
         "cell_type" : "code",
         "execution_count" : 1,
         "source" : [
            "integral(lambda x: x*x, 0, 1, 0.01)"
         ],
         "metadata" : {}
      },
      {
         "cell_type" : "markdown",
         "source" : [
            "We can do better using `scipy` and its numeric quadrature routines.\n\n"
         ],
         "metadata" : {}
      },
      {
         "outputs" : [],
         "cell_type" : "code",
         "execution_count" : 1,
         "source" : [
            "import scipy.integrate\n\nscipy.integrate.quad( lambda x: x*x, 0, 1 )"
         ],
         "metadata" : {}
      },
      {
         "cell_type" : "markdown",
         "metadata" : {},
         "source" : [
            "The return value is a tuple, the first entry of which is the estimated\nvalue of the integral, and the second entry of which is an estimate of\nthe absolute error.\n\nWe can use this numerically compute the antiderivative of a function.\n\n"
         ]
      },
      {
         "outputs" : [],
         "cell_type" : "code",
         "execution_count" : 1,
         "source" : [
            "def indefinite_integral(f,a): # f is a function, a is an initial condition\n    return lambda x: scipy.integrate.quad( f, a, x )"
         ],
         "metadata" : {}
      },
      {
         "cell_type" : "markdown",
         "source" : [
            "Let&rsquo;s plot this.\n\n"
         ],
         "metadata" : {}
      },
      {
         "metadata" : {},
         "source" : [
            "%matplotlib inline\nimport numpy as np\nimport matplotlib.pyplot as plt\n\nxs = np.arange(0, 10, 0.01) \n\nplt.plot(xs, [np.sin(x) for x in xs])\nplt.plot(xs, [indefinite_integral(np.sin,0)(x) for x in xs])\nplt.show()"
         ],
         "execution_count" : 1,
         "cell_type" : "code",
         "outputs" : []
      },
      {
         "source" : [
            "You might be wondering about the strange notation involving `for` and\n`in`; this is **list comprehension**, quite the Pythonic way to\nconstruct new lists from old.  To get a feel for this, try:\n\n"
         ],
         "metadata" : {},
         "cell_type" : "markdown"
      },
      {
         "execution_count" : 1,
         "outputs" : [],
         "cell_type" : "code",
         "source" : [
            "[x**2 for x in range(10)]"
         ],
         "metadata" : {}
      },
      {
         "cell_type" : "markdown",
         "metadata" : {},
         "source" : [
            "## Map versus list comprehensions\n\n"
         ]
      },
      {
         "cell_type" : "markdown",
         "metadata" : {},
         "source" : [
            "You might be familiar with `map` and wondering how this relates.  For\ninstance, you could also have written the following.\n\n"
         ]
      },
      {
         "outputs" : [],
         "cell_type" : "code",
         "execution_count" : 1,
         "metadata" : {},
         "source" : [
            "list(map(lambda x: x**2, range(10)))"
         ]
      },
      {
         "source" : [
            "The difference is that `map` is lazily evaluated, meaning that you can run code like\n\n"
         ],
         "metadata" : {},
         "cell_type" : "markdown"
      },
      {
         "metadata" : {},
         "source" : [
            "for s in map(lambda x: x**2, range(10**100)):\n    print(s)\n    if s > 10:\n        break"
         ],
         "execution_count" : 1,
         "outputs" : [],
         "cell_type" : "code"
      },
      {
         "source" : [
            "but if you were to create a **list** with $10^{100}$ entries, you&rsquo;d run\nout of memory!  Functions like `map` are insanely important, but list\ncomprehensions are arguably a bit more idiomatic in Python.  But when\nyou don&rsquo;t wish to name the parameter and when your function is not\nanonymous, `map` is arguably more readable.\n\n"
         ],
         "metadata" : {},
         "cell_type" : "markdown"
      },
      {
         "cell_type" : "markdown",
         "metadata" : {},
         "source" : [
            "## Convolution\n\n"
         ]
      },
      {
         "cell_type" : "markdown",
         "metadata" : {},
         "source" : [
            "Let $f$ and $g$ be functions on the real line, and suppose that $f$ is\nsupported on $[a,b]$ (i.e., $f(x) = 0$ for $x \\not \\in [a,b]$).\n\nThe convolution function $f \\ast g$ is defined by\n$$\nf\\ast g (t) = \\int_{a}^b f(\\tau) g(t - \\tau) \\; \\mathrm{d}\\tau.\n$$\n\nDefine a function &rsquo;convolution&rsquo; which takes as input two functions $f$\nand $g$, lower and upper bounds $a$ and $b$ and which outputs the\nconvolution of $f$ and $g$.\n\n"
         ]
      },
      {
         "outputs" : [],
         "cell_type" : "code",
         "execution_count" : 1,
         "source" : [
            "def convolution(f, g, a, b):\n    raise Exception('You must implement convolution.')"
         ],
         "metadata" : {}
      },
      {
         "source" : [
            "The code below will test your convolution function on the `pulse`\nfunction as defined as follows.\n\n"
         ],
         "metadata" : {},
         "cell_type" : "markdown"
      },
      {
         "execution_count" : 1,
         "outputs" : [],
         "cell_type" : "code",
         "source" : [
            "def pulse(x):\n    if x < 0 or x > 1:\n        return 0\n    else:\n        return 1"
         ],
         "metadata" : {}
      },
      {
         "source" : [
            "Let&rsquo;s define the convolution of pulse with pulse.\n\n"
         ],
         "metadata" : {},
         "cell_type" : "markdown"
      },
      {
         "source" : [
            "ff = convolution(pulse, pulse, -4, 4)"
         ],
         "metadata" : {},
         "cell_type" : "code",
         "outputs" : [],
         "execution_count" : 1
      },
      {
         "cell_type" : "markdown",
         "metadata" : {},
         "source" : [
            "Plot it.\n\n"
         ]
      },
      {
         "metadata" : {},
         "source" : [
            "%matplotlib inline\nimport numpy as np\nimport matplotlib.pyplot as plt\n\nxs = np.linspace(-3,5,100)\nys1 = list(map(ff, xs))\nys2 = list(map(pulse,xs))\nplt.plot(xs, ys1)\nplt.plot(xs,ys2)\nplt.show()"
         ],
         "execution_count" : 1,
         "outputs" : [],
         "cell_type" : "code"
      },
      {
         "metadata" : {},
         "source" : [
            "Is this plot what you expect?  If not, how might you fix it?\n\nReading about the optional `points` parameter in the\n[manual]([https://docs.scipy.org/doc/scipy/reference/generated/scipy.integrate.quad.html](https://docs.scipy.org/doc/scipy/reference/generated/scipy.integrate.quad.html))\nmay help.\n\n"
         ],
         "cell_type" : "markdown"
      }
>>>>>>> parent of f9e326f... week1,day2
   ],
   "nbformat" : 4,
   "metadata" : {
      "language_info" : {
         "mimetype" : "text/x-python",
         "pygments_lexer" : "ipython3",
         "version" : "3.5.2",
         "name" : "python",
         "file_extension" : ".py",
         "codemirror_mode" : {
            "version" : 3,
            "name" : "ipython"
         },
         "nbconvert_exporter" : "python"
      },
      "kernelspec" : {
         "name" : "python3",
         "language" : "python",
         "display_name" : "Python 3"
      },
      "org" : null
   },
<<<<<<< HEAD
   "file_extension": ".py",
   "mimetype": "text/x-python",
   "name": "python",
   "nbconvert_exporter": "python",
   "pygments_lexer": "ipython3",
   "version": "3.7.0"
  },
  "org": null
 },
 "nbformat": 4,
 "nbformat_minor": 1
=======
   "metadata" : {
      "language_info" : {
         "mimetype" : "text/x-python",
         "pygments_lexer" : "ipython3",
         "version" : "3.5.2",
         "name" : "python",
         "file_extension" : ".py",
         "codemirror_mode" : {
            "version" : 3,
            "name" : "ipython"
         },
         "nbconvert_exporter" : "python"
      },
      "kernelspec" : {
         "display_name" : "Python 3",
         "language" : "python",
         "name" : "python3"
      },
      "org" : null
   },
   "nbformat_minor" : 0,
   "nbformat" : 4,
   "cells" : [
      {
         "metadata" : {},
         "source" : [
            "Today we meet `scipy`, a package for scientific computing with Python.\n\nWe introduce `scipy` through the lens of &ldquo;first-class functions&rdquo; which\nis an idea that you&rsquo;ve already met in mathematics: there are functions\n$f : \\mathbb{R} \\to \\mathbb{R}$ which transform numbers to numbers,\nbut also **operators** which transform functions to functions.  In\nshort, the domain of a mathematical function can include functions!\nThe same is true of functions in Python, which can &ldquo;eat&rdquo; other Python\nfunctions.\n\n"
         ],
         "cell_type" : "markdown"
      },
      {
         "source" : [
            "## Lambda\n\n"
         ],
         "cell_type" : "markdown",
         "metadata" : {}
      },
      {
         "cell_type" : "markdown",
         "source" : [
            "Not all students will want to think about `lambda` at first, but for\nstudents with some experience with programming yet who have not\nencountered `lambda`, the experience may be transformative.\n\n"
         ],
         "metadata" : {}
      },
      {
         "execution_count" : 1,
         "outputs" : [],
         "source" : [
            "f = lambda x: x*x\nf(5)"
         ],
         "cell_type" : "code",
         "metadata" : {}
      },
      {
         "source" : [
            "We use this `lambda` notation to define functions **anonymously**,\nmeaning that we need not give them a name.  For instance, we can even\nwrite the following.\n\n"
         ],
         "cell_type" : "markdown",
         "metadata" : {}
      },
      {
         "metadata" : {},
         "source" : [
            "(lambda x: x*x)(5)"
         ],
         "cell_type" : "code",
         "outputs" : [],
         "execution_count" : 1
      },
      {
         "source" : [
            "The code inside the first set of parenthesis defines the anonymous\nfunction $x \\mapsto x^2$. We then evaluate it at $x=5$ with the second\nparentheses.\n\n"
         ],
         "metadata" : {},
         "cell_type" : "markdown"
      },
      {
         "metadata" : {},
         "source" : [
            "## First-class functions and calculus\n\n"
         ],
         "cell_type" : "markdown"
      },
      {
         "source" : [
            "To see an example of how these lambda functions might be useful, let&rsquo;s\ndefine a function which takes a function as one of its inputs. The\n`integral` function has inputs: a function $f$, a lower bound $a$, an\nupper bound $b$ and a positive real number $h$. The output is the\nnumerical approximation integral of $f$ over $[a,b]$ using\nsubdivisions of size $h$. in particular, we are using rectangular\napproximations to compute the integral.\n\n"
         ],
         "metadata" : {},
         "cell_type" : "markdown"
      },
      {
         "execution_count" : 1,
         "cell_type" : "code",
         "source" : [
            "def integral(f, a, b, h):\n    sum = 0\n    x = a\n    while x < b:\n        sum = sum + f(x)*h\n        x = x + h\n    return sum"
         ],
         "metadata" : {},
         "outputs" : []
      },
      {
         "source" : [
            "Let&rsquo;s test our integral function.\n\n"
         ],
         "metadata" : {},
         "cell_type" : "markdown"
      },
      {
         "execution_count" : 1,
         "cell_type" : "code",
         "source" : [
            "integral(lambda x: x*x, 0, 1, 0.01)"
         ],
         "metadata" : {},
         "outputs" : []
      },
      {
         "metadata" : {},
         "source" : [
            "We can do better using `scipy` and its numeric quadrature routines.\n\n"
         ],
         "cell_type" : "markdown"
      },
      {
         "execution_count" : 1,
         "outputs" : [],
         "metadata" : {},
         "source" : [
            "import scipy.integrate\n\nscipy.integrate.quad( lambda x: x*x, 0, 1 )"
         ],
         "cell_type" : "code"
      },
      {
         "source" : [
            "The return value is a tuple, the first entry of which is the estimated\nvalue of the integral, and the second entry of which is an estimate of\nthe absolute error.\n\nWe can use this numerically compute the antiderivative of a function.\n\n"
         ],
         "cell_type" : "markdown",
         "metadata" : {}
      },
      {
         "outputs" : [],
         "cell_type" : "code",
         "source" : [
            "def indefinite_integral(f,a): # f is a function, a is an initial condition\n    return lambda x: scipy.integrate.quad( f, a, x )"
         ],
         "metadata" : {},
         "execution_count" : 1
      },
      {
         "cell_type" : "markdown",
         "source" : [
            "Let&rsquo;s plot this.\n\n"
         ],
         "metadata" : {}
      },
      {
         "execution_count" : 1,
         "outputs" : [],
         "source" : [
            "%matplotlib inline\nimport numpy as np\nimport matplotlib.pyplot as plt\n\nxs = np.arange(0, 10, 0.01) \n\nplt.plot(xs, [np.sin(x) for x in xs])\nplt.plot(xs, [indefinite_integral(np.sin,0)(x) for x in xs])\nplt.show()"
         ],
         "metadata" : {},
         "cell_type" : "code"
      },
      {
         "source" : [
            "You might be wondering about the strange notation involving `for` and\n`in`; this is **list comprehension**, quite the Pythonic way to\nconstruct new lists from old.  To get a feel for this, try:\n\n"
         ],
         "metadata" : {},
         "cell_type" : "markdown"
      },
      {
         "outputs" : [],
         "source" : [
            "[x**2 for x in range(10)]"
         ],
         "metadata" : {},
         "cell_type" : "code",
         "execution_count" : 1
      },
      {
         "source" : [
            "## Map versus list comprehensions\n\n"
         ],
         "cell_type" : "markdown",
         "metadata" : {}
      },
      {
         "source" : [
            "You might be familiar with `map` and wondering how this relates.  For\ninstance, you could also have written the following.\n\n"
         ],
         "cell_type" : "markdown",
         "metadata" : {}
      },
      {
         "cell_type" : "code",
         "source" : [
            "list(map(lambda x: x**2, range(10)))"
         ],
         "metadata" : {},
         "outputs" : [],
         "execution_count" : 1
      },
      {
         "source" : [
            "The difference is that `map` is lazily evaluated, meaning that you can run code like\n\n"
         ],
         "cell_type" : "markdown",
         "metadata" : {}
      },
      {
         "metadata" : {},
         "source" : [
            "for s in map(lambda x: x**2, range(10**100)):\n    print(s)\n    if s > 10:\n        break"
         ],
         "cell_type" : "code",
         "outputs" : [],
         "execution_count" : 1
      },
      {
         "cell_type" : "markdown",
         "source" : [
            "but if you were to create a **list** with $10^{100}$ entries, you&rsquo;d run\nout of memory!  Functions like `map` are insanely important, but list\ncomprehensions are arguably a bit more idiomatic in Python.  But when\nyou don&rsquo;t wish to name the parameter and when your function is not\nanonymous, `map` is arguably more readable.\n\n"
         ],
         "metadata" : {}
      },
      {
         "source" : [
            "## Convolution\n\n"
         ],
         "cell_type" : "markdown",
         "metadata" : {}
      },
      {
         "source" : [
            "Let $f$ and $g$ be functions on the real line, and suppose that $f$ is\nsupported on $[a,b]$ (i.e., $f(x) = 0$ for $x \\not \\in [a,b]$).\n\nThe convolution function $f \\ast g$ is defined by\n$$\nf\\ast g (t) = \\int_{a}^b f(\\tau) g(t - \\tau) \\; \\mathrm{d}\\tau.\n$$\n\nDefine a function &rsquo;convolution&rsquo; which takes as input two functions $f$\nand $g$, lower and upper bounds $a$ and $b$ and which outputs the\nconvolution of $f$ and $g$.\n\n"
         ],
         "cell_type" : "markdown",
         "metadata" : {}
      },
      {
         "outputs" : [],
         "source" : [
            "def convolution(f, g, a, b):\n    raise Exception('You must implement convolution.')"
         ],
         "metadata" : {},
         "cell_type" : "code",
         "execution_count" : 1
      },
      {
         "cell_type" : "markdown",
         "source" : [
            "The code below will test your convolution function on the `pulse`\nfunction as defined as follows.\n\n"
         ],
         "metadata" : {}
      },
      {
         "cell_type" : "code",
         "source" : [
            "def pulse(x):\n    if x < 0 or x > 1:\n        return 0\n    else:\n        return 1"
         ],
         "metadata" : {},
         "outputs" : [],
         "execution_count" : 1
      },
      {
         "source" : [
            "Let&rsquo;s define the convolution of pulse with pulse.\n\n"
         ],
         "metadata" : {},
         "cell_type" : "markdown"
      },
      {
         "execution_count" : 1,
         "metadata" : {},
         "source" : [
            "ff = convolution(pulse, pulse, -4, 4)"
         ],
         "cell_type" : "code",
         "outputs" : []
      },
      {
         "source" : [
            "Plot it.\n\n"
         ],
         "cell_type" : "markdown",
         "metadata" : {}
      },
      {
         "outputs" : [],
         "cell_type" : "code",
         "source" : [
            "%matplotlib inline\nimport numpy as np\nimport matplotlib.pyplot as plt\n\nxs = np.linspace(-3,5,100)\nys1 = list(map(ff, xs))\nys2 = list(map(pulse,xs))\nplt.plot(xs, ys1)\nplt.plot(xs,ys2)\nplt.show()"
         ],
         "metadata" : {},
         "execution_count" : 1
      },
      {
         "source" : [
            "Is this plot what you expect?  If not, how might you fix it?\n\nReading about the optional `points` parameter in the\n[manual]([https://docs.scipy.org/doc/scipy/reference/generated/scipy.integrate.quad.html](https://docs.scipy.org/doc/scipy/reference/generated/scipy.integrate.quad.html))\nmay help.\n\n"
         ],
         "cell_type" : "markdown",
         "metadata" : {}
      }
   ]
>>>>>>> upstream/master
=======
   "nbformat_minor" : 0
>>>>>>> parent of f9e326f... week1,day2
}
