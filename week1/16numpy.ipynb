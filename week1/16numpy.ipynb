{
   "nbformat" : 4,
   "metadata" : {
      "language_info" : {
         "file_extension" : ".py",
         "name" : "python",
         "pygments_lexer" : "ipython3",
         "version" : "3.5.2",
         "codemirror_mode" : {
            "version" : 3,
            "name" : "ipython"
         },
         "nbconvert_exporter" : "python",
         "mimetype" : "text/x-python"
      },
      "org" : null,
      "kernelspec" : {
         "language" : "python",
         "name" : "python3",
         "display_name" : "Python 3"
      }
   },
   "nbformat_minor" : 0,
   "cells" : [
      {
         "metadata" : {},
         "cell_type" : "markdown",
         "source" : [
            "We&rsquo;ve been using it, but let&rsquo;s be officially introduced to `numpy`, a\nfundamental package for scientific computing in Python. The big\nfeature of `numpy` is its multidimensional array object, but it also\nincludes a large collection of high-level mathematical functions to\noperate on such arrays.\n\nLet&rsquo;s import `numpy` now.\n\n"
         ]
      },
      {
         "source" : [
            "import numpy as np"
         ],
         "outputs" : [],
         "cell_type" : "code",
         "metadata" : {},
         "execution_count" : 1
      },
      {
         "metadata" : {},
         "cell_type" : "markdown",
         "source" : [
            "## Building arrays\n\n"
         ]
      },
      {
         "source" : [
            "Given a Python list, we can produce a `numpy` array.\n\n"
         ],
         "metadata" : {},
         "cell_type" : "markdown"
      },
      {
         "source" : [
            "triangular_numbers = np.array([x*(x+1)/2 for x in range(10)])"
         ],
         "outputs" : [],
         "execution_count" : 1,
         "cell_type" : "code",
         "metadata" : {}
      },
      {
         "cell_type" : "markdown",
         "metadata" : {},
         "source" : [
            "We could also build an array of triangular numbers by termwise multiplication.\n\n"
         ]
      },
      {
         "execution_count" : 1,
         "cell_type" : "code",
         "metadata" : {},
         "source" : [
            "triangular_numbers_again = np.array([range(10)]) * np.array([range(1,11)]) / 2"
         ],
         "outputs" : []
      },
      {
         "cell_type" : "markdown",
         "metadata" : {},
         "source" : [
            "If you just want a list of zeroes, you use `np.zeros`.\n\n"
         ]
      },
      {
         "execution_count" : 1,
         "cell_type" : "code",
         "metadata" : {},
         "source" : [
            "zs = np.zeros( 17 )\nzs"
         ],
         "outputs" : []
      },
      {
         "cell_type" : "markdown",
         "metadata" : {},
         "source" : [
            "We use `np.linspace` to produce a linearly spaced list of floats.\n\n"
         ]
      },
      {
         "outputs" : [],
         "source" : [
            "x = np.linspace( 0, 17, 100 )\nx"
         ],
         "metadata" : {},
         "cell_type" : "code",
         "execution_count" : 1
      },
      {
         "source" : [
            "## Note the avoidance of loops\n\n"
         ],
         "cell_type" : "markdown",
         "metadata" : {}
      },
      {
         "metadata" : {},
         "cell_type" : "markdown",
         "source" : [
            "By relying on `ndarray`, the `numpy` package provides vectorized\narithmetic operations.\n\nWe might have written something like this before.\n\n"
         ]
      },
      {
         "cell_type" : "code",
         "metadata" : {},
         "execution_count" : 1,
         "source" : [
            "import math\nxs = np.linspace( 0, 6, 100 )\nys = np.zeros( 100 )\nfor i in range(100):\n  ys[i] = math.sin(xs[i])"
         ],
         "outputs" : []
      },
      {
         "metadata" : {},
         "cell_type" : "markdown",
         "source" : [
            "But `numpy` provides standard mathematical functions for fast\noperations on **entire arrays** of data without having to write loops.  For instance, the above code can be written as follows.\n\n"
         ]
      },
      {
         "source" : [
            "xs = np.linspace( 0, 6, 100 )\nys = np.sin(xs)"
         ],
         "outputs" : [],
         "cell_type" : "code",
         "metadata" : {},
         "execution_count" : 1
      },
      {
         "metadata" : {},
         "cell_type" : "markdown",
         "source" : [
            "We didn&rsquo;t even use `map` or list comprehension.\n\n"
         ]
      },
      {
         "metadata" : {},
         "cell_type" : "markdown",
         "source" : [
            "## Multi-dimensional arrays\n\n"
         ]
      },
      {
         "metadata" : {},
         "cell_type" : "markdown",
         "source" : [
            "We can convert a Python list of Python lists into a multidimensional array.\n\n"
         ]
      },
      {
         "outputs" : [],
         "source" : [
            "m = np.array([[i+j for i in range(4)] for j in range(4)])"
         ],
         "execution_count" : 1,
         "metadata" : {},
         "cell_type" : "code"
      },
      {
         "cell_type" : "markdown",
         "metadata" : {},
         "source" : [
            "That looks a lot like a &ldquo;matrix&rdquo; &#x2013; meaning a square array of numbers.\nDoes multiplication do what you expect?\n\n"
         ]
      },
      {
         "metadata" : {},
         "cell_type" : "code",
         "execution_count" : 1,
         "outputs" : [],
         "source" : [
            "m*m"
         ]
      },
      {
         "cell_type" : "markdown",
         "metadata" : {},
         "source" : [
            "Compare that with `np.matmul`.\n\n"
         ]
      },
      {
         "execution_count" : 1,
         "metadata" : {},
         "cell_type" : "code",
         "outputs" : [],
         "source" : [
            "np.matmul(m,m)"
         ]
      },
      {
         "metadata" : {},
         "cell_type" : "markdown",
         "source" : [
            "Can you figure out how to multiply a matrix by a vector in `numpy`?\n\n"
         ]
      },
      {
         "cell_type" : "markdown",
         "metadata" : {},
         "source" : [
            "## Even higher-dimensional arrays\n\n"
         ]
      },
      {
         "source" : [
            "Let&rsquo;s build `N` matrices, each $5 \\times 5$, with their entries drawn\nfrom a normal distribution.\n\n"
         ],
         "cell_type" : "markdown",
         "metadata" : {}
      },
      {
         "source" : [
            "N = 10000\ndimension = 10\nmatrices = np.random.normal(0,1,size=(N,dimension,dimension))"
         ],
         "outputs" : [],
         "cell_type" : "code",
         "metadata" : {},
         "execution_count" : 1
      },
      {
         "source" : [
            "Let&rsquo;s find their eigenvalues.\n\n"
         ],
         "metadata" : {},
         "cell_type" : "markdown"
      },
      {
         "cell_type" : "code",
         "metadata" : {},
         "execution_count" : 1,
         "source" : [
            "es = np.linalg.eigvals(matrices)"
         ],
         "outputs" : []
      },
      {
         "source" : [
            "We can `reshape` that $N$-by-$5$ array into a list with $5N$ entries.\n\n"
         ],
         "metadata" : {},
         "cell_type" : "markdown"
      },
      {
         "cell_type" : "code",
         "metadata" : {},
         "execution_count" : 1,
         "source" : [
            "es = es.reshape(N * dimension)"
         ],
         "outputs" : []
      },
      {
         "source" : [
            "And we can restructure that into a $(5N,2)$ array of reals.\n\n"
         ],
         "cell_type" : "markdown",
         "metadata" : {}
      },
      {
         "outputs" : [],
         "source" : [
            "es = np.stack((es.real,es.imag),-1)\nes = es[es[:,1] != 0] # throw away real eigenvalues\nreal_part = es[:,0]\nimag_part = es[:,1]"
         ],
         "execution_count" : 1,
         "metadata" : {},
         "cell_type" : "code"
      },
      {
         "cell_type" : "markdown",
         "metadata" : {},
         "source" : [
            "Let&rsquo;s see a plot of the eigenvalues.\n\n"
         ]
      },
      {
         "source" : [
            "import matplotlib.pyplot as plt\nplt.hexbin(real_part,imag_part)\nplt.show()"
         ],
         "outputs" : [],
         "cell_type" : "code",
         "metadata" : {},
         "execution_count" : 1
      },
      {
         "source" : [
            "You may enjoy reading more about [random\nmatrices]([https://en.wikipedia.org/wiki/Random_matrix](https://en.wikipedia.org/wiki/Random_matrix)).  For instance,\nwhat happens if you change the distribution from which we draw the\nentries of the matrices?\n\n"
         ],
         "cell_type" : "markdown",
         "metadata" : {}
      },
      {
         "source" : [
            "## Why does this feel so weird?\n\n"
         ],
         "cell_type" : "markdown",
         "metadata" : {}
      },
      {
         "cell_type" : "markdown",
         "metadata" : {},
         "source" : [
            "Much of the challenge of becoming proficient with `numpy` is the same\nchallenge as becoming proficient with MATLAB; instead of writing\nloops, you should think of how to structure your computations in terms\nof arrays from the start.\n\nThere are conceptual advantages to this as well, because often loops\nare more about &ldquo;how&rdquo; a computation might take place, but by thinking\nat the higher level of abstraction of $n$-dimensional arrays, you may\nbe forced to confront more directly the **meaning** of the computation.\nThe code we write is not so much for machines as it is for people.\n\n"
         ]
      }
   ]
}
