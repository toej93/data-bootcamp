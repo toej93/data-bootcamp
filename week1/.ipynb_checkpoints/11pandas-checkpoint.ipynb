{
 "cells": [
  {
   "cell_type": "markdown",
   "metadata": {},
   "source": [
    "The term &ldquo;regression&rdquo; originated with the work of Galton on the\n",
    "heights of parents and their children.  How do you suppose a child&rsquo;s\n",
    "adult height is related to their parents&rsquo; heights?  Let&rsquo;s explore the\n",
    "data.\n",
    "\n",
    "We&rsquo;ll use `pandas`, which stands for &ldquo;Python Data Analysis Library&rdquo; or\n",
    "perhaps &ldquo;panel data,&rdquo; an econometrics term for multidimensional\n",
    "structured data sets.  In any case, `pandas` is an open source,\n",
    "BSD-licensed library providing high-performance, easy-to-use data\n",
    "structures and data analysis tools for Python.  It&rsquo;s popular, and its\n",
    "basic conceit of **data frames** is widely used (e.g., in R).  Let&rsquo;s\n",
    "begin by loading the `pandas` module.\n",
    "\n"
   ]
  },
  {
   "cell_type": "code",
   "execution_count": 1,
   "metadata": {},
   "outputs": [],
   "source": [
    "import pandas as pd \n",
    "import numpy as np\n",
    "import matplotlib.pyplot as plt"
   ]
  },
  {
   "cell_type": "markdown",
   "metadata": {},
   "source": [
    "## Loading Galton's data\n",
    "\n"
   ]
  },
  {
   "cell_type": "markdown",
   "metadata": {},
   "source": [
    "We read Galton&rsquo;s data into a data frame `df`.\n",
    "\n"
   ]
  },
  {
   "cell_type": "code",
   "execution_count": 2,
   "metadata": {},
   "outputs": [],
   "source": [
    "df = pd.read_csv('galton.csv')"
   ]
  },
  {
   "cell_type": "markdown",
   "metadata": {},
   "source": [
    "This data includes the parents&rsquo; heights and the child&rsquo;s eventual adult\n",
    "height.  Here&rsquo;s some of the data.\n",
    "\n",
    "| mother|father|height|\n",
    "|---|---|---|\n",
    "| 67.0|78.5|69.2|\n",
    "| 67.0|78.5|69.0|\n",
    "| 67.0|78.5|69.0|\n",
    "| 66.5|75.5|73.5|\n",
    "| 66.5|75.5|72.5|\n",
    "| 66.5|75.5|65.5|\n",
    "| 66.5|75.5|65.5|\n",
    "\n",
    "You can see the &ldquo;whole&rdquo; data frame by evaluating `df`.\n",
    "\n"
   ]
  },
  {
   "cell_type": "code",
   "execution_count": 4,
   "metadata": {},
   "outputs": [],
   "source": [
    "df;"
   ]
  },
  {
   "cell_type": "markdown",
   "metadata": {},
   "source": [
    "You can get a quick overview with `describe`.\n",
    "\n"
   ]
  },
  {
   "cell_type": "code",
   "execution_count": 5,
   "metadata": {},
   "outputs": [
    {
     "data": {
      "text/html": [
       "<div>\n",
       "<style scoped>\n",
       "    .dataframe tbody tr th:only-of-type {\n",
       "        vertical-align: middle;\n",
       "    }\n",
       "\n",
       "    .dataframe tbody tr th {\n",
       "        vertical-align: top;\n",
       "    }\n",
       "\n",
       "    .dataframe thead th {\n",
       "        text-align: right;\n",
       "    }\n",
       "</style>\n",
       "<table border=\"1\" class=\"dataframe\">\n",
       "  <thead>\n",
       "    <tr style=\"text-align: right;\">\n",
       "      <th></th>\n",
       "      <th>father</th>\n",
       "      <th>mother</th>\n",
       "      <th>height</th>\n",
       "      <th>kids</th>\n",
       "      <th>male</th>\n",
       "      <th>female</th>\n",
       "    </tr>\n",
       "  </thead>\n",
       "  <tbody>\n",
       "    <tr>\n",
       "      <th>count</th>\n",
       "      <td>898.000000</td>\n",
       "      <td>898.000000</td>\n",
       "      <td>898.000000</td>\n",
       "      <td>898.000000</td>\n",
       "      <td>898.000000</td>\n",
       "      <td>898.000000</td>\n",
       "    </tr>\n",
       "    <tr>\n",
       "      <th>mean</th>\n",
       "      <td>69.232851</td>\n",
       "      <td>64.084410</td>\n",
       "      <td>66.760690</td>\n",
       "      <td>6.135857</td>\n",
       "      <td>0.517817</td>\n",
       "      <td>0.482183</td>\n",
       "    </tr>\n",
       "    <tr>\n",
       "      <th>std</th>\n",
       "      <td>2.470256</td>\n",
       "      <td>2.307025</td>\n",
       "      <td>3.582918</td>\n",
       "      <td>2.685156</td>\n",
       "      <td>0.499961</td>\n",
       "      <td>0.499961</td>\n",
       "    </tr>\n",
       "    <tr>\n",
       "      <th>min</th>\n",
       "      <td>62.000000</td>\n",
       "      <td>58.000000</td>\n",
       "      <td>56.000000</td>\n",
       "      <td>1.000000</td>\n",
       "      <td>0.000000</td>\n",
       "      <td>0.000000</td>\n",
       "    </tr>\n",
       "    <tr>\n",
       "      <th>25%</th>\n",
       "      <td>68.000000</td>\n",
       "      <td>63.000000</td>\n",
       "      <td>64.000000</td>\n",
       "      <td>4.000000</td>\n",
       "      <td>0.000000</td>\n",
       "      <td>0.000000</td>\n",
       "    </tr>\n",
       "    <tr>\n",
       "      <th>50%</th>\n",
       "      <td>69.000000</td>\n",
       "      <td>64.000000</td>\n",
       "      <td>66.500000</td>\n",
       "      <td>6.000000</td>\n",
       "      <td>1.000000</td>\n",
       "      <td>0.000000</td>\n",
       "    </tr>\n",
       "    <tr>\n",
       "      <th>75%</th>\n",
       "      <td>71.000000</td>\n",
       "      <td>65.500000</td>\n",
       "      <td>69.700000</td>\n",
       "      <td>8.000000</td>\n",
       "      <td>1.000000</td>\n",
       "      <td>1.000000</td>\n",
       "    </tr>\n",
       "    <tr>\n",
       "      <th>max</th>\n",
       "      <td>78.500000</td>\n",
       "      <td>70.500000</td>\n",
       "      <td>79.000000</td>\n",
       "      <td>15.000000</td>\n",
       "      <td>1.000000</td>\n",
       "      <td>1.000000</td>\n",
       "    </tr>\n",
       "  </tbody>\n",
       "</table>\n",
       "</div>"
      ],
      "text/plain": [
       "           father      mother      height        kids        male      female\n",
       "count  898.000000  898.000000  898.000000  898.000000  898.000000  898.000000\n",
       "mean    69.232851   64.084410   66.760690    6.135857    0.517817    0.482183\n",
       "std      2.470256    2.307025    3.582918    2.685156    0.499961    0.499961\n",
       "min     62.000000   58.000000   56.000000    1.000000    0.000000    0.000000\n",
       "25%     68.000000   63.000000   64.000000    4.000000    0.000000    0.000000\n",
       "50%     69.000000   64.000000   66.500000    6.000000    1.000000    0.000000\n",
       "75%     71.000000   65.500000   69.700000    8.000000    1.000000    1.000000\n",
       "max     78.500000   70.500000   79.000000   15.000000    1.000000    1.000000"
      ]
     },
     "execution_count": 5,
     "metadata": {},
     "output_type": "execute_result"
    }
   ],
   "source": [
    "df.describe()"
   ]
  },
  {
   "cell_type": "markdown",
   "metadata": {},
   "source": [
    "## Some basic questions\n",
    "\n"
   ]
  },
  {
   "cell_type": "markdown",
   "metadata": {},
   "source": [
    "Are the fathers generally taller than the mothers?\n",
    "\n"
   ]
  },
  {
   "cell_type": "code",
   "execution_count": 6,
   "metadata": {},
   "outputs": [
    {
     "data": {
      "text/plain": [
       "True"
      ]
     },
     "execution_count": 6,
     "metadata": {},
     "output_type": "execute_result"
    }
   ],
   "source": [
    "df.father.mean() > df.mother.mean()"
   ]
  },
  {
   "cell_type": "markdown",
   "metadata": {},
   "source": [
    "Is it enough to compare the means like this?  We could also explore\n",
    "this question by looking at histograms.\n",
    "\n"
   ]
  },
  {
   "cell_type": "code",
   "execution_count": 7,
   "metadata": {},
   "outputs": [
    {
     "data": {
      "image/png": "[encoded data removed]",
      "text/plain": [
       "<Figure size 432x288 with 1 Axes>"
      ]
     },
     "metadata": {
      "needs_background": "light"
     },
     "output_type": "display_data"
    }
   ],
   "source": [
    "df.father.hist()\n",
    "df.mother.hist()\n",
    "plt.show()"
   ]
  },
  {
   "cell_type": "markdown",
   "metadata": {},
   "source": [
    "## Subsetting\n",
    "\n"
   ]
  },
  {
   "cell_type": "markdown",
   "metadata": {},
   "source": [
    "A reason to love `pandas` is that it simplifies certain &ldquo;data\n",
    "wrangling&rdquo; tasks.  A common task is taking a subset.\n",
    "\n",
    "The gender of the child is given by the `gender` column.\n",
    "\n"
   ]
  },
  {
   "cell_type": "code",
   "execution_count": 8,
   "metadata": {},
   "outputs": [
    {
     "data": {
      "text/plain": [
       "0      M\n",
       "1      F\n",
       "2      F\n",
       "3      F\n",
       "4      M\n",
       "5      M\n",
       "6      F\n",
       "7      F\n",
       "8      M\n",
       "9      F\n",
       "10     M\n",
       "11     M\n",
       "12     F\n",
       "13     F\n",
       "14     F\n",
       "15     M\n",
       "16     M\n",
       "17     M\n",
       "18     F\n",
       "19     F\n",
       "20     F\n",
       "21     F\n",
       "22     M\n",
       "23     M\n",
       "24     M\n",
       "25     M\n",
       "26     F\n",
       "27     F\n",
       "28     F\n",
       "29     F\n",
       "      ..\n",
       "868    M\n",
       "869    M\n",
       "870    F\n",
       "871    F\n",
       "872    F\n",
       "873    F\n",
       "874    F\n",
       "875    M\n",
       "876    M\n",
       "877    F\n",
       "878    F\n",
       "879    F\n",
       "880    F\n",
       "881    F\n",
       "882    M\n",
       "883    M\n",
       "884    F\n",
       "885    M\n",
       "886    F\n",
       "887    F\n",
       "888    M\n",
       "889    F\n",
       "890    M\n",
       "891    M\n",
       "892    M\n",
       "893    M\n",
       "894    M\n",
       "895    F\n",
       "896    F\n",
       "897    F\n",
       "Name: gender, Length: 898, dtype: object"
      ]
     },
     "execution_count": 8,
     "metadata": {},
     "output_type": "execute_result"
    }
   ],
   "source": [
    "df.gender"
   ]
  },
  {
   "cell_type": "markdown",
   "metadata": {},
   "source": [
    "Let&rsquo;s see if daughters are taller than their mothers.  We&rsquo;ll filter\n",
    "using the following.\n",
    "\n"
   ]
  },
  {
   "cell_type": "code",
   "execution_count": 9,
   "metadata": {},
   "outputs": [],
   "source": [
    "daughters = df[df.gender == 'F']"
   ]
  },
  {
   "cell_type": "markdown",
   "metadata": {},
   "source": [
    "What sort of object is `df.gender == 'F'` ?  You should be feeling\n",
    "that `pandas` is quite expressive!\n",
    "\n"
   ]
  },
  {
   "cell_type": "code",
   "execution_count": 10,
   "metadata": {},
   "outputs": [
    {
     "data": {
      "text/html": [
       "<div>\n",
       "<style scoped>\n",
       "    .dataframe tbody tr th:only-of-type {\n",
       "        vertical-align: middle;\n",
       "    }\n",
       "\n",
       "    .dataframe tbody tr th {\n",
       "        vertical-align: top;\n",
       "    }\n",
       "\n",
       "    .dataframe thead th {\n",
       "        text-align: right;\n",
       "    }\n",
       "</style>\n",
       "<table border=\"1\" class=\"dataframe\">\n",
       "  <thead>\n",
       "    <tr style=\"text-align: right;\">\n",
       "      <th></th>\n",
       "      <th>father</th>\n",
       "      <th>mother</th>\n",
       "      <th>height</th>\n",
       "      <th>kids</th>\n",
       "      <th>male</th>\n",
       "      <th>female</th>\n",
       "    </tr>\n",
       "  </thead>\n",
       "  <tbody>\n",
       "    <tr>\n",
       "      <th>count</th>\n",
       "      <td>433.000000</td>\n",
       "      <td>433.000000</td>\n",
       "      <td>433.000000</td>\n",
       "      <td>433.000000</td>\n",
       "      <td>433.0</td>\n",
       "      <td>433.0</td>\n",
       "    </tr>\n",
       "    <tr>\n",
       "      <th>mean</th>\n",
       "      <td>69.302309</td>\n",
       "      <td>64.169515</td>\n",
       "      <td>64.110162</td>\n",
       "      <td>6.311778</td>\n",
       "      <td>0.0</td>\n",
       "      <td>1.0</td>\n",
       "    </tr>\n",
       "    <tr>\n",
       "      <th>std</th>\n",
       "      <td>2.641898</td>\n",
       "      <td>2.277018</td>\n",
       "      <td>2.370320</td>\n",
       "      <td>2.722892</td>\n",
       "      <td>0.0</td>\n",
       "      <td>0.0</td>\n",
       "    </tr>\n",
       "    <tr>\n",
       "      <th>min</th>\n",
       "      <td>62.000000</td>\n",
       "      <td>58.000000</td>\n",
       "      <td>56.000000</td>\n",
       "      <td>1.000000</td>\n",
       "      <td>0.0</td>\n",
       "      <td>1.0</td>\n",
       "    </tr>\n",
       "    <tr>\n",
       "      <th>25%</th>\n",
       "      <td>68.000000</td>\n",
       "      <td>63.000000</td>\n",
       "      <td>62.500000</td>\n",
       "      <td>4.000000</td>\n",
       "      <td>0.0</td>\n",
       "      <td>1.0</td>\n",
       "    </tr>\n",
       "    <tr>\n",
       "      <th>50%</th>\n",
       "      <td>69.200000</td>\n",
       "      <td>64.000000</td>\n",
       "      <td>64.000000</td>\n",
       "      <td>6.000000</td>\n",
       "      <td>0.0</td>\n",
       "      <td>1.0</td>\n",
       "    </tr>\n",
       "    <tr>\n",
       "      <th>75%</th>\n",
       "      <td>71.000000</td>\n",
       "      <td>65.500000</td>\n",
       "      <td>65.500000</td>\n",
       "      <td>8.000000</td>\n",
       "      <td>0.0</td>\n",
       "      <td>1.0</td>\n",
       "    </tr>\n",
       "    <tr>\n",
       "      <th>max</th>\n",
       "      <td>78.500000</td>\n",
       "      <td>70.500000</td>\n",
       "      <td>70.500000</td>\n",
       "      <td>15.000000</td>\n",
       "      <td>0.0</td>\n",
       "      <td>1.0</td>\n",
       "    </tr>\n",
       "  </tbody>\n",
       "</table>\n",
       "</div>"
      ],
      "text/plain": [
       "           father      mother      height        kids   male  female\n",
       "count  433.000000  433.000000  433.000000  433.000000  433.0   433.0\n",
       "mean    69.302309   64.169515   64.110162    6.311778    0.0     1.0\n",
       "std      2.641898    2.277018    2.370320    2.722892    0.0     0.0\n",
       "min     62.000000   58.000000   56.000000    1.000000    0.0     1.0\n",
       "25%     68.000000   63.000000   62.500000    4.000000    0.0     1.0\n",
       "50%     69.200000   64.000000   64.000000    6.000000    0.0     1.0\n",
       "75%     71.000000   65.500000   65.500000    8.000000    0.0     1.0\n",
       "max     78.500000   70.500000   70.500000   15.000000    0.0     1.0"
      ]
     },
     "execution_count": 10,
     "metadata": {},
     "output_type": "execute_result"
    }
   ],
   "source": [
    "daughters.describe()"
   ]
  },
  {
   "cell_type": "markdown",
   "metadata": {},
   "source": [
    "The average height of the daughters is less than (but so close!) to\n",
    "that of their mothers.  But is it enough to just look at the mean?\n",
    "\n"
   ]
  },
  {
   "cell_type": "markdown",
   "metadata": {},
   "source": [
    "## Scatter plots\n",
    "\n"
   ]
  },
  {
   "cell_type": "markdown",
   "metadata": {},
   "source": [
    "One feature of `pandas` is how accessible it makes the usual\n",
    "&ldquo;exploratory&rdquo; tools like scatterplots.  Indeed, when you are working\n",
    "with data, ****first look at your data**** and some scatterplots are a\n",
    "reasonable way to do this.\n",
    "\n",
    "We could plot the father&rsquo;s height on the $x$-axis and the child&rsquo;s eventual height on the $y$-axis.\n",
    "\n"
   ]
  },
  {
   "cell_type": "code",
   "execution_count": 11,
   "metadata": {},
   "outputs": [
    {
     "data": {
      "image/png": "[encoded data removed]",
      "text/plain": [
       "<Figure size 432x288 with 1 Axes>"
      ]
     },
     "metadata": {
      "needs_background": "light"
     },
     "output_type": "display_data"
    }
   ],
   "source": [
    "df.plot.scatter('father', 'height')\n",
    "plt.show()"
   ]
  },
  {
   "cell_type": "markdown",
   "metadata": {},
   "source": [
    "Or the mother&rsquo;s height on the $x$-axis and the child&rsquo;s eventual height on the $y$-axis.\n",
    "\n"
   ]
  },
  {
   "cell_type": "code",
   "execution_count": 12,
   "metadata": {},
   "outputs": [
    {
     "data": {
      "image/png": "[encoded data removed]",
      "text/plain": [
       "<Figure size 432x288 with 1 Axes>"
      ]
     },
     "metadata": {
      "needs_background": "light"
     },
     "output_type": "display_data"
    }
   ],
   "source": [
    "df.plot.scatter('mother', 'height')\n",
    "plt.show()"
   ]
  },
  {
   "cell_type": "markdown",
   "metadata": {},
   "source": [
    "But `pandas` also permits various calculations to be performed on the\n",
    "rows.  Let&rsquo;s add a column to our data frame which is the average the\n",
    "heights of the two parents.\n",
    "\n"
   ]
  },
  {
   "cell_type": "code",
   "execution_count": 13,
   "metadata": {},
   "outputs": [],
   "source": [
    "df['midparent'] = (df.father + df.mother)/2"
   ]
  },
  {
   "cell_type": "markdown",
   "metadata": {},
   "source": [
    "Now we could plot the midparent height on the $x$-axis instead.\n",
    "\n"
   ]
  },
  {
   "cell_type": "code",
   "execution_count": 14,
   "metadata": {},
   "outputs": [
    {
     "data": {
      "image/png": "[encoded data removed]",
      "text/plain": [
       "<Figure size 432x288 with 1 Axes>"
      ]
     },
     "metadata": {
      "needs_background": "light"
     },
     "output_type": "display_data"
    }
   ],
   "source": [
    "df.plot.scatter('midparent', 'height')\n",
    "plt.show()"
   ]
  },
  {
   "cell_type": "markdown",
   "metadata": {},
   "source": [
    "I encourage you to look at the other methods available under `df.plot`\n",
    "to explore this dataset further.  This data is available at [a data\n",
    "repository]([https://doi.org/10.7910/DVN/T0HSJ1](https://doi.org/10.7910/DVN/T0HSJ1)) and if you are looking\n",
    "for other interesting data sets, I also encourage you to explore these\n",
    "data repositories.\n",
    "\n"
   ]
  },
  {
   "cell_type": "markdown",
   "metadata": {},
   "source": [
    "## Making predictions\n",
    "\n"
   ]
  },
  {
   "cell_type": "markdown",
   "metadata": {},
   "source": [
    "Can we use Galton&rsquo;s data to predict the height of a child based on the\n",
    "average height of his/her parents?\n",
    "\n",
    "There are various ways to do this.  Perhaps the first thing to think\n",
    "to do is the following: to predict the height of a child whose\n",
    "midparent height is $x$, let&rsquo;s look at &ldquo;neighbors&rdquo; meaning rows\n",
    "in the data frame where the midparent height is close to $x$.\n",
    "\n"
   ]
  },
  {
   "cell_type": "code",
   "execution_count": 15,
   "metadata": {},
   "outputs": [],
   "source": [
    "def neighbors(x):\n",
    "    return df[ abs(df['midparent'] - x) < 2 ]"
   ]
  },
  {
   "cell_type": "markdown",
   "metadata": {},
   "source": [
    "Once we have some &ldquo;neighbors,&rdquo; we can look at their average height.\n",
    "\n"
   ]
  },
  {
   "cell_type": "code",
   "execution_count": 16,
   "metadata": {},
   "outputs": [],
   "source": [
    "def prediction(x):\n",
    "    return neighbors(x).height.mean()"
   ]
  },
  {
   "cell_type": "markdown",
   "metadata": {},
   "source": [
    "Now let&rsquo;s plot our predictions.  Because `pandas` is built on\n",
    "`matplotlib` it is easy to combine plots from different sources.\n",
    "\n"
   ]
  },
  {
   "cell_type": "code",
   "execution_count": 17,
   "metadata": {},
   "outputs": [
    {
     "data": {
      "image/png": "[encoded data removed]",
      "text/plain": [
       "<Figure size 432x288 with 1 Axes>"
      ]
     },
     "metadata": {
      "needs_background": "light"
     },
     "output_type": "display_data"
    }
   ],
   "source": [
    "df.plot.scatter('midparent', 'height')\n",
    "xs = np.linspace( df.midparent.min(), df.midparent.max(), 100 )\n",
    "plt.plot(xs, [prediction(x) for x in xs])\n",
    "plt.show()"
   ]
  },
  {
   "cell_type": "markdown",
   "metadata": {},
   "source": [
    "That &ldquo;prediction line&rdquo; is wiggly, but certainly looks like a line!\n",
    "What line is it?  &ldquo;Linear regression&rdquo; is our next goal.\n",
    "\n"
   ]
  }
 ],
 "metadata": {
  "kernelspec": {
   "display_name": "Python 3",
   "language": "python",
   "name": "python3"
  },
  "language_info": {
   "codemirror_mode": {
    "name": "ipython",
    "version": 3
   },
   "file_extension": ".py",
   "mimetype": "text/x-python",
   "name": "python",
   "nbconvert_exporter": "python",
   "pygments_lexer": "ipython3",
   "version": "3.7.0"
  },
  "org": null
 },
 "nbformat": 4,
 "nbformat_minor": 1
}
