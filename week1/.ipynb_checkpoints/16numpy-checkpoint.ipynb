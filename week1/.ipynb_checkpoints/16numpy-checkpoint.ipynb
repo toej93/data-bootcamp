{
 "cells": [
  {
   "cell_type": "markdown",
   "metadata": {},
   "source": [
    "We&rsquo;ve been using it, but let&rsquo;s be officially introduced to `numpy`, a\n",
    "fundamental package for scientific computing in Python. The big\n",
    "feature of `numpy` is its multidimensional array object, but it also\n",
    "includes a large collection of high-level mathematical functions to\n",
    "operate on such arrays.\n",
    "\n",
    "Let&rsquo;s import `numpy` now.\n",
    "\n"
   ]
  },
  {
   "cell_type": "code",
   "execution_count": 1,
   "metadata": {},
   "outputs": [],
   "source": [
    "import numpy as np"
   ]
  },
  {
   "cell_type": "markdown",
   "metadata": {},
   "source": [
    "## Building arrays\n",
    "\n"
   ]
  },
  {
   "cell_type": "markdown",
   "metadata": {},
   "source": [
    "Given a Python list, we can produce a `numpy` array.\n",
    "\n"
   ]
  },
  {
   "cell_type": "code",
   "execution_count": 2,
   "metadata": {},
   "outputs": [],
   "source": [
    "triangular_numbers = np.array([x*(x+1)/2 for x in range(10)])"
   ]
  },
  {
   "cell_type": "markdown",
   "metadata": {},
   "source": [
    "We could also build an array of triangular numbers by termwise multiplication.\n",
    "\n"
   ]
  },
  {
   "cell_type": "code",
   "execution_count": 3,
   "metadata": {},
   "outputs": [],
   "source": [
    "triangular_numbers_again = np.array([range(10)]) * np.array([range(1,11)]) / 2"
   ]
  },
  {
   "cell_type": "markdown",
   "metadata": {},
   "source": [
    "If you just want a list of zeroes, you use `np.zeros`.\n",
    "\n"
   ]
  },
  {
   "cell_type": "code",
   "execution_count": 4,
   "metadata": {},
   "outputs": [
    {
     "data": {
      "text/plain": [
       "array([0., 0., 0., 0., 0., 0., 0., 0., 0., 0., 0., 0., 0., 0., 0., 0., 0.])"
      ]
     },
     "execution_count": 4,
     "metadata": {},
     "output_type": "execute_result"
    }
   ],
   "source": [
    "zs = np.zeros( 17 )\n",
    "zs"
   ]
  },
  {
   "cell_type": "markdown",
   "metadata": {},
   "source": [
    "We use `np.linspace` to produce a linearly spaced list of floats.\n",
    "\n"
   ]
  },
  {
   "cell_type": "code",
   "execution_count": 5,
   "metadata": {},
   "outputs": [
    {
     "data": {
      "text/plain": [
       "array([ 0.        ,  0.17171717,  0.34343434,  0.51515152,  0.68686869,\n",
       "        0.85858586,  1.03030303,  1.2020202 ,  1.37373737,  1.54545455,\n",
       "        1.71717172,  1.88888889,  2.06060606,  2.23232323,  2.4040404 ,\n",
       "        2.57575758,  2.74747475,  2.91919192,  3.09090909,  3.26262626,\n",
       "        3.43434343,  3.60606061,  3.77777778,  3.94949495,  4.12121212,\n",
       "        4.29292929,  4.46464646,  4.63636364,  4.80808081,  4.97979798,\n",
       "        5.15151515,  5.32323232,  5.49494949,  5.66666667,  5.83838384,\n",
       "        6.01010101,  6.18181818,  6.35353535,  6.52525253,  6.6969697 ,\n",
       "        6.86868687,  7.04040404,  7.21212121,  7.38383838,  7.55555556,\n",
       "        7.72727273,  7.8989899 ,  8.07070707,  8.24242424,  8.41414141,\n",
       "        8.58585859,  8.75757576,  8.92929293,  9.1010101 ,  9.27272727,\n",
       "        9.44444444,  9.61616162,  9.78787879,  9.95959596, 10.13131313,\n",
       "       10.3030303 , 10.47474747, 10.64646465, 10.81818182, 10.98989899,\n",
       "       11.16161616, 11.33333333, 11.50505051, 11.67676768, 11.84848485,\n",
       "       12.02020202, 12.19191919, 12.36363636, 12.53535354, 12.70707071,\n",
       "       12.87878788, 13.05050505, 13.22222222, 13.39393939, 13.56565657,\n",
       "       13.73737374, 13.90909091, 14.08080808, 14.25252525, 14.42424242,\n",
       "       14.5959596 , 14.76767677, 14.93939394, 15.11111111, 15.28282828,\n",
       "       15.45454545, 15.62626263, 15.7979798 , 15.96969697, 16.14141414,\n",
       "       16.31313131, 16.48484848, 16.65656566, 16.82828283, 17.        ])"
      ]
     },
     "execution_count": 5,
     "metadata": {},
     "output_type": "execute_result"
    }
   ],
   "source": [
    "x = np.linspace( 0, 17, 100 )\n",
    "x"
   ]
  },
  {
   "cell_type": "markdown",
   "metadata": {},
   "source": [
    "## Note the avoidance of loops\n",
    "\n"
   ]
  },
  {
   "cell_type": "markdown",
   "metadata": {},
   "source": [
    "By relying on `ndarray`, the `numpy` package provides vectorized\n",
    "arithmetic operations.\n",
    "\n",
    "We might have written something like this before.\n",
    "\n"
   ]
  },
  {
   "cell_type": "code",
   "execution_count": 6,
   "metadata": {},
   "outputs": [],
   "source": [
    "import math\n",
    "xs = np.linspace( 0, 6, 100 )\n",
    "ys = np.zeros( 100 )\n",
    "for i in range(100):\n",
    "  ys[i] = math.sin(xs[i])"
   ]
  },
  {
   "cell_type": "markdown",
   "metadata": {},
   "source": [
    "But `numpy` provides standard mathematical functions for fast\n",
    "operations on **entire arrays** of data without having to write loops.  For instance, the above code can be written as follows.\n",
    "\n"
   ]
  },
  {
   "cell_type": "code",
   "execution_count": 13,
   "metadata": {},
   "outputs": [
    {
     "data": {
      "text/plain": [
       "[<matplotlib.lines.Line2D at 0x111b3e198>]"
      ]
     },
     "execution_count": 13,
     "metadata": {},
     "output_type": "execute_result"
    },
    {
     "data": {
      "image/png": "[encoded data removed]",
      "text/plain": [
       "<Figure size 432x288 with 1 Axes>"
      ]
     },
     "metadata": {
      "needs_background": "light"
     },
     "output_type": "display_data"
    }
   ],
   "source": [
    "xs = np.linspace( 0, 6, 700 )\n",
    "ys = np.sin(xs)\n",
    "import matplotlib.pyplot as plt \n",
    "plt.plot(xs,ys)"
   ]
  },
  {
   "cell_type": "markdown",
   "metadata": {},
   "source": [
    "We didn&rsquo;t even use `map` or list comprehension.\n",
    "\n"
   ]
  },
  {
   "cell_type": "markdown",
   "metadata": {},
   "source": [
    "## Multi-dimensional arrays\n",
    "\n"
   ]
  },
  {
   "cell_type": "markdown",
   "metadata": {},
   "source": [
    "We can convert a Python list of Python lists into a multidimensional array.\n",
    "\n"
   ]
  },
  {
   "cell_type": "code",
   "execution_count": 16,
   "metadata": {},
   "outputs": [
    {
     "data": {
      "text/plain": [
       "array([[0, 1, 2, 3],\n",
       "       [1, 2, 3, 4],\n",
       "       [2, 3, 4, 5],\n",
       "       [3, 4, 5, 6]])"
      ]
     },
     "execution_count": 16,
     "metadata": {},
     "output_type": "execute_result"
    }
   ],
   "source": [
    "m = np.array([[i+j for i in range(4)] for j in range(4)])\n",
    "m"
   ]
  },
  {
   "cell_type": "markdown",
   "metadata": {},
   "source": [
    "That looks a lot like a &ldquo;matrix&rdquo; &#x2013; meaning a square array of numbers.\n",
    "Does multiplication do what you expect?\n",
    "\n"
   ]
  },
  {
   "cell_type": "code",
   "execution_count": 15,
   "metadata": {},
   "outputs": [
    {
     "data": {
      "text/plain": [
       "array([[ 0,  1,  4,  9],\n",
       "       [ 1,  4,  9, 16],\n",
       "       [ 4,  9, 16, 25],\n",
       "       [ 9, 16, 25, 36]])"
      ]
     },
     "execution_count": 15,
     "metadata": {},
     "output_type": "execute_result"
    }
   ],
   "source": [
    "m*m"
   ]
  },
  {
   "cell_type": "markdown",
   "metadata": {},
   "source": [
    "Compare that with `np.matmul`.\n",
    "\n"
   ]
  },
  {
   "cell_type": "code",
   "execution_count": 17,
   "metadata": {},
   "outputs": [
    {
     "data": {
      "text/plain": [
       "array([[14, 20, 26, 32],\n",
       "       [20, 30, 40, 50],\n",
       "       [26, 40, 54, 68],\n",
       "       [32, 50, 68, 86]])"
      ]
     },
     "execution_count": 17,
     "metadata": {},
     "output_type": "execute_result"
    }
   ],
   "source": [
    "np.matmul(m,m)"
   ]
  },
  {
   "cell_type": "markdown",
   "metadata": {},
   "source": [
    "Can you figure out how to multiply a matrix by a vector in `numpy`?\n",
    "np.dot(a,b) for a= vector, b=matrix\n"
   ]
  },
  {
   "cell_type": "markdown",
   "metadata": {},
   "source": [
    "## Even higher-dimensional arrays\n",
    "\n"
   ]
  },
  {
   "cell_type": "markdown",
   "metadata": {},
   "source": [
    "Let&rsquo;s build `N` matrices, each $5 \\times 5$, with their entries drawn\n",
    "from a normal distribution.\n",
    "\n"
   ]
  },
  {
   "cell_type": "code",
   "execution_count": 18,
   "metadata": {},
   "outputs": [],
   "source": [
    "N = 10000\n",
    "dimension = 10\n",
    "matrices = np.random.normal(0,1,size=(N,dimension,dimension))"
   ]
  },
  {
   "cell_type": "markdown",
   "metadata": {},
   "source": [
    "Let&rsquo;s find their eigenvalues.\n",
    "\n"
   ]
  },
  {
   "cell_type": "code",
   "execution_count": 19,
   "metadata": {},
   "outputs": [],
   "source": [
    "es = np.linalg.eigvals(matrices)"
   ]
  },
  {
   "cell_type": "markdown",
   "metadata": {},
   "source": [
    "We can `reshape` that $N$-by-$5$ array into a list with $5N$ entries.\n",
    "\n"
   ]
  },
  {
   "cell_type": "code",
   "execution_count": 20,
   "metadata": {},
   "outputs": [],
   "source": [
    "es = es.reshape(N * dimension)"
   ]
  },
  {
   "cell_type": "markdown",
   "metadata": {},
   "source": [
    "And we can restructure that into a $(5N,2)$ array of reals.\n",
    "\n"
   ]
  },
  {
   "cell_type": "code",
   "execution_count": 22,
   "metadata": {},
   "outputs": [],
   "source": [
    "es = np.stack((es.real,es.imag),-1)\n",
    "es = es[es[:,1] != 0] # throw away real eigenvalues\n",
    "real_part = es[:,0]\n",
    "imag_part = es[:,1]"
   ]
  },
  {
   "cell_type": "markdown",
   "metadata": {},
   "source": [
    "Let&rsquo;s see a plot of the eigenvalues.\n",
    "\n"
   ]
  },
  {
   "cell_type": "code",
   "execution_count": 23,
   "metadata": {},
   "outputs": [
    {
     "data": {
      "image/png": "[encoded data removed]",
      "text/plain": [
       "<Figure size 432x288 with 1 Axes>"
      ]
     },
     "metadata": {
      "needs_background": "light"
     },
     "output_type": "display_data"
    }
   ],
   "source": [
    "import matplotlib.pyplot as plt\n",
    "plt.hexbin(real_part,imag_part)\n",
    "plt.show()"
   ]
  },
  {
   "cell_type": "markdown",
   "metadata": {},
   "source": [
    "You may enjoy reading more about [random\n",
    "matrices]([https://en.wikipedia.org/wiki/Random_matrix](https://en.wikipedia.org/wiki/Random_matrix)).  For instance,\n",
    "what happens if you change the distribution from which we draw the\n",
    "entries of the matrices?\n",
    "\n"
   ]
  },
  {
   "cell_type": "markdown",
   "metadata": {},
   "source": [
    "## Why does this feel so weird?\n",
    "\n"
   ]
  },
  {
   "cell_type": "markdown",
   "metadata": {},
   "source": [
    "Much of the challenge of becoming proficient with `numpy` is the same\n",
    "challenge as becoming proficient with MATLAB; instead of writing\n",
    "loops, you should think of how to structure your computations in terms\n",
    "of arrays from the start.\n",
    "\n",
    "There are conceptual advantages to this as well, because often loops\n",
    "are more about &ldquo;how&rdquo; a computation might take place, but by thinking\n",
    "at the higher level of abstraction of $n$-dimensional arrays, you may\n",
    "be forced to confront more directly the **meaning** of the computation.\n",
    "The code we write is not so much for machines as it is for people.\n",
    "\n"
   ]
  }
 ],
 "metadata": {
  "kernelspec": {
   "display_name": "Python 3",
   "language": "python",
   "name": "python3"
  },
  "language_info": {
   "codemirror_mode": {
    "name": "ipython",
    "version": 3
   },
   "file_extension": ".py",
   "mimetype": "text/x-python",
   "name": "python",
   "nbconvert_exporter": "python",
   "pygments_lexer": "ipython3",
   "version": "3.7.0"
  },
  "org": null
 },
 "nbformat": 4,
 "nbformat_minor": 1
}
