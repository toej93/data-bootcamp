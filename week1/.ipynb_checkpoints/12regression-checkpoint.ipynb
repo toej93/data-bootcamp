{
 "cells": [
  {
   "cell_type": "markdown",
   "metadata": {},
   "source": [
    "## Initialization\n",
    "\n"
   ]
  },
  {
   "cell_type": "markdown",
   "metadata": {},
   "source": [
    "Let&rsquo;s set up our environment.\n",
    "\n"
   ]
  },
  {
   "cell_type": "code",
   "execution_count": 1,
   "metadata": {},
   "outputs": [],
   "source": [
    "import pandas as pd \n",
    "import numpy as np\n",
    "import matplotlib.pyplot as plt\n",
    "\n",
    "df = pd.read_csv('galton.csv')"
   ]
  },
  {
   "cell_type": "markdown",
   "metadata": {},
   "source": [
    "Let&rsquo;s extend `df` with midparent height.\n",
    "\n"
   ]
  },
  {
   "cell_type": "code",
   "execution_count": 2,
   "metadata": {},
   "outputs": [],
   "source": [
    "df['midparent'] = (df.father + df.mother)/2"
   ]
  },
  {
   "cell_type": "markdown",
   "metadata": {},
   "source": [
    "## Linear regression\n",
    "\n"
   ]
  },
  {
   "cell_type": "markdown",
   "metadata": {},
   "source": [
    "**Supervised learning** means learning the relationship between two sets\n",
    "of data: the observed data $X$ and an external variable $y$ that we\n",
    "are trying to predict.  Often $y$ is called the &ldquo;target&rdquo; (for\n",
    "regression) or &ldquo;labels&rdquo; (for classification).  Let&rsquo;s load some code\n",
    "from `scikit-learn` to perform linear regression.\n",
    "\n"
   ]
  },
  {
   "cell_type": "code",
   "execution_count": 3,
   "metadata": {},
   "outputs": [],
   "source": [
    "from sklearn.linear_model import LinearRegression"
   ]
  },
  {
   "cell_type": "markdown",
   "metadata": {},
   "source": [
    "Supervised estimators in `scikit-learn` (like `LinearRegression`)\n",
    "implement a `fit` method to fit the model and a `predict` method that\n",
    "converts observations into predicted targets or labels.\n",
    "\n"
   ]
  },
  {
   "cell_type": "code",
   "execution_count": 4,
   "metadata": {},
   "outputs": [],
   "source": [
    "lm = LinearRegression().fit( df[['midparent']], df['height'] )"
   ]
  },
  {
   "cell_type": "markdown",
   "metadata": {},
   "source": [
    "This provides a slope and intercept.\n",
    "\n"
   ]
  },
  {
   "cell_type": "code",
   "execution_count": 5,
   "metadata": {},
   "outputs": [
    {
     "name": "stdout",
     "output_type": "stream",
     "text": [
      "height = 0.6692588951325454 * midparent + 22.148809164541376\n"
     ]
    }
   ],
   "source": [
    "print('height = {m} * midparent + {b}'.format(m = lm.coef_[0], b = lm.intercept_))"
   ]
  },
  {
   "cell_type": "code",
   "execution_count": 12,
   "metadata": {},
   "outputs": [],
   "source": [
    "from sklearn import linear_model\n",
    "reg = linear_model.LassoLars(alpha=.7)\n",
    "lasso = reg.fit( df[['midparent']], df['height'] )"
   ]
  },
  {
   "cell_type": "markdown",
   "metadata": {},
   "source": [
    "Let&rsquo;s plot it.\n",
    "\n"
   ]
  },
  {
   "cell_type": "code",
   "execution_count": 15,
   "metadata": {},
   "outputs": [
    {
     "data": {
      "image/png": "[encoded data removed]",
      "text/plain": [
       "<Figure size 432x288 with 1 Axes>"
      ]
     },
     "metadata": {
      "needs_background": "light"
     },
     "output_type": "display_data"
    }
   ],
   "source": [
    "df.plot.scatter('midparent', 'height')\n",
    "plt.plot( df['midparent'], lm.predict(df[['midparent']]), color='red', linewidth=3 , label = \"linear\")\n",
    "plt.plot( df['midparent'], lasso.predict(df[['midparent']]), color='green', linewidth=3, label = \"lasso\" )\n",
    "plt.legend()\n",
    "plt.show()"
   ]
  },
  {
   "cell_type": "markdown",
   "metadata": {},
   "source": [
    "You could now consult [the documentation of\n",
    "~scikit-learn~]([https://scikit-learn.org/stable/modules/linear_model.html](https://scikit-learn.org/stable/modules/linear_model.html))\n",
    "to try fitting fancier models, perhaps using the heights of both\n",
    "parents.\n",
    "\n"
   ]
  },
  {
   "cell_type": "markdown",
   "metadata": {},
   "source": [
    "## Is this any good?\n",
    "\n"
   ]
  },
  {
   "cell_type": "markdown",
   "metadata": {},
   "source": [
    "By &ldquo;any good&rdquo; we mean: is our model valid?  To evaluate the\n",
    "performance of the model, we would need to test it on some unseen\n",
    "data&#x2026; but we aren&rsquo;t going to find children and their parents and\n",
    "measure their heights.\n",
    "\n",
    "****Cross-validation**** is a solution to the question of &ldquo;validity&rdquo; of\n",
    "the model, and also a solution to our not having unseen data.  Instead\n",
    "of running `fit` on **all** the data, we keep aside some portion of the\n",
    "data and use that &ldquo;hold-out&rdquo; data for validation.\n",
    "\n",
    "To be more specific, there are various ways of arranging for this.  We\n",
    "might **split the data into a training set and a testing set**. \n",
    "\n",
    "Another method is **k-fold cross-validation** in which the original data\n",
    "is partitioned (randomly) into $k$ equal sized subsamples. Of the $k$\n",
    "subsamples, a single subsample is retained as the validation data for\n",
    "testing the model, and the remaining $k â 1$ subsamples are used as\n",
    "training data.  Conveniently, `scikit-learn` has methods for this.\n",
    "\n"
   ]
  },
  {
   "cell_type": "code",
   "execution_count": 16,
   "metadata": {},
   "outputs": [],
   "source": [
    "from sklearn.model_selection import KFold"
   ]
  },
  {
   "cell_type": "markdown",
   "metadata": {},
   "source": [
    "Let&rsquo;s use it.\n",
    "\n"
   ]
  },
  {
   "cell_type": "code",
   "execution_count": 17,
   "metadata": {},
   "outputs": [
    {
     "data": {
      "text/plain": [
       "[0.08405816314737413,\n",
       " 0.1081277742956952,\n",
       " 0.08533372381996007,\n",
       " 0.12864783606331032,\n",
       " 0.1223630213038146]"
      ]
     },
     "execution_count": 17,
     "metadata": {},
     "output_type": "execute_result"
    }
   ],
   "source": [
    "model = LinearRegression()\n",
    "scores = []\n",
    "\n",
    "X = df[['midparent']]\n",
    "y = df['height']\n",
    "\n",
    "kf = KFold(n_splits=5, shuffle=True, random_state=1)\n",
    "for train_index, test_index in kf.split(X):\n",
    "    X_train, X_test = X.iloc[train_index], X.iloc[test_index]\n",
    "    y_train, y_test = y.iloc[train_index], y.iloc[test_index]\n",
    "    model.fit(X_train, y_train)\n",
    "    score = model.score(X_test, y_test)\n",
    "    scores.append(score)\n",
    "\n",
    "scores"
   ]
  },
  {
   "cell_type": "markdown",
   "metadata": {},
   "source": [
    "Those $R^2$ scores are not especially reassuring.  Can we do better?\n",
    "Are we missing something in our model?\n",
    "\n"
   ]
  },
  {
   "cell_type": "code",
   "execution_count": 24,
   "metadata": {},
   "outputs": [
    {
     "data": {
      "text/plain": [
       "[0.08455956654248487,\n",
       " 0.10782477548818949,\n",
       " 0.0862237958379134,\n",
       " 0.12848565881645269,\n",
       " 0.12134266030853912]"
      ]
     },
     "execution_count": 24,
     "metadata": {},
     "output_type": "execute_result"
    }
   ],
   "source": [
    "model = linear_model.LassoLars(alpha=0.001)\n",
    "scores = []\n",
    "\n",
    "X = df[['midparent']]\n",
    "y = df['height']\n",
    "\n",
    "kf = KFold(n_splits=5, shuffle=True, random_state=1)\n",
    "for train_index, test_index in kf.split(X):\n",
    "    X_train, X_test = X.iloc[train_index], X.iloc[test_index]\n",
    "    y_train, y_test = y.iloc[train_index], y.iloc[test_index]\n",
    "    model.fit(X_train, y_train)\n",
    "    score = model.score(X_test, y_test)\n",
    "    scores.append(score)\n",
    "\n",
    "scores"
   ]
  },
  {
   "cell_type": "code",
   "execution_count": null,
   "metadata": {},
   "outputs": [],
   "source": []
  }
 ],
 "metadata": {
  "kernelspec": {
   "display_name": "Python 3",
   "language": "python",
   "name": "python3"
  },
  "language_info": {
   "codemirror_mode": {
    "name": "ipython",
    "version": 3
   },
   "file_extension": ".py",
   "mimetype": "text/x-python",
   "name": "python",
   "nbconvert_exporter": "python",
   "pygments_lexer": "ipython3",
   "version": "3.7.0"
  },
  "org": null
 },
 "nbformat": 4,
 "nbformat_minor": 1
}
