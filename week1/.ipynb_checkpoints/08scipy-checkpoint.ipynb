{
 "cells": [
  {
   "cell_type": "markdown",
   "metadata": {},
   "source": [
    "Today we meet `scipy`, a package for scientific computing with Python.\n",
    "\n",
    "We introduce `scipy` through the lens of &ldquo;first-class functions&rdquo; which\n",
    "is an idea that you&rsquo;ve already met in mathematics: there are functions\n",
    "$f : \\mathbb{R} \\to \\mathbb{R}$ which transform numbers to numbers,\n",
    "but also **operators** which transform functions to functions.  In\n",
    "short, the domain of a mathematical function can include functions!\n",
    "The same is true of functions in Python, which can &ldquo;eat&rdquo; other Python\n",
    "functions.\n",
    "\n"
   ]
  },
  {
   "cell_type": "markdown",
   "metadata": {},
   "source": [
    "## Lambda\n",
    "\n"
   ]
  },
  {
   "cell_type": "markdown",
   "metadata": {},
   "source": [
    "Not all students will want to think about `lambda` at first, but for\n",
    "students with some experience with programming yet who have not\n",
    "encountered `lambda`, the experience may be transformative.\n",
    "\n"
   ]
  },
  {
   "cell_type": "code",
   "execution_count": 1,
   "metadata": {},
   "outputs": [
    {
     "data": {
      "text/plain": [
       "25"
      ]
     },
     "execution_count": 1,
     "metadata": {},
     "output_type": "execute_result"
    }
   ],
   "source": [
    "f = lambda x: x*x\n",
    "f(5)"
   ]
  },
  {
   "cell_type": "markdown",
   "metadata": {},
   "source": [
    "We use this `lambda` notation to define functions **anonymously**,\n",
    "meaning that we need not give them a name.  For instance, we can even\n",
    "write the following.\n",
    "\n"
   ]
  },
  {
   "cell_type": "code",
   "execution_count": 2,
   "metadata": {},
   "outputs": [
    {
     "data": {
      "text/plain": [
       "25"
      ]
     },
     "execution_count": 2,
     "metadata": {},
     "output_type": "execute_result"
    }
   ],
   "source": [
    "(lambda x: x*x)(5)"
   ]
  },
  {
   "cell_type": "markdown",
   "metadata": {},
   "source": [
    "The code inside the first set of parenthesis defines the anonymous\n",
    "function $x \\mapsto x^2$. We then evaluate it at $x=5$ with the second\n",
    "parentheses.\n",
    "\n"
   ]
  },
  {
   "cell_type": "markdown",
   "metadata": {},
   "source": [
    "## First-class functions and calculus\n",
    "\n"
   ]
  },
  {
   "cell_type": "markdown",
   "metadata": {},
   "source": [
    "To see an example of how these lambda functions might be useful, let&rsquo;s\n",
    "define a function which takes a function as one of its inputs. The\n",
    "`integral` function has inputs: a function $f$, a lower bound $a$, an\n",
    "upper bound $b$ and a positive real number $h$. The output is the\n",
    "numerical approximation integral of $f$ over $[a,b]$ using\n",
    "subdivisions of size $h$. in particular, we are using rectangular\n",
    "approximations to compute the integral.\n",
    "\n"
   ]
  },
  {
   "cell_type": "code",
   "execution_count": 4,
   "metadata": {},
   "outputs": [],
   "source": [
    "def integral(f, a, b, h):\n",
    "    sum = 0\n",
    "    x = a\n",
    "    while x < b:\n",
    "        sum = sum + f(x)*h\n",
    "        x = x + h\n",
    "    return sum"
   ]
  },
  {
   "cell_type": "markdown",
   "metadata": {},
   "source": [
    "Let&rsquo;s test our integral function.\n",
    "\n"
   ]
  },
  {
   "cell_type": "code",
   "execution_count": 5,
   "metadata": {},
   "outputs": [
    {
     "data": {
      "text/plain": [
       "0.32835000000000036"
      ]
     },
     "execution_count": 5,
     "metadata": {},
     "output_type": "execute_result"
    }
   ],
   "source": [
    "integral(lambda x: x*x, 0, 1, 0.01)"
   ]
  },
  {
   "cell_type": "markdown",
   "metadata": {},
   "source": [
    "We can do better using `scipy` and its numeric quadrature routines.\n",
    "\n"
   ]
  },
  {
   "cell_type": "code",
   "execution_count": 6,
   "metadata": {},
   "outputs": [
    {
     "data": {
      "text/plain": [
       "(0.33333333333333337, 3.700743415417189e-15)"
      ]
     },
     "execution_count": 6,
     "metadata": {},
     "output_type": "execute_result"
    }
   ],
   "source": [
    "import scipy.integrate\n",
    "\n",
    "scipy.integrate.quad( lambda x: x*x, 0, 1 )"
   ]
  },
  {
   "cell_type": "markdown",
   "metadata": {},
   "source": [
    "The return value is a tuple, the first entry of which is the estimated\n",
    "value of the integral, and the second entry of which is an estimate of\n",
    "the absolute error.\n",
    "\n",
    "We can use this numerically compute the antiderivative of a function.\n",
    "\n"
   ]
  },
  {
   "cell_type": "code",
   "execution_count": 1,
   "metadata": {},
   "outputs": [],
   "source": [
    "def indefinite_integral(f,a): # f is a function, a is an initial condition\n",
    "    return lambda x: scipy.integrate.quad( f, a, x )"
   ]
  },
  {
   "cell_type": "markdown",
   "metadata": {},
   "source": [
    "Let&rsquo;s plot this.\n",
    "\n"
   ]
  },
  {
   "cell_type": "code",
   "execution_count": 1,
   "metadata": {},
   "outputs": [],
   "source": [
    "%matplotlib inline\n",
    "import numpy as np\n",
    "import matplotlib.pyplot as plt\n",
    "\n",
    "xs = np.arange(0, 10, 0.01) \n",
    "\n",
    "plt.plot(xs, [np.sin(x) for x in xs])\n",
    "plt.plot(xs, [indefinite_integral(np.sin,0)(x) for x in xs])\n",
    "plt.show()"
   ]
  },
  {
   "cell_type": "markdown",
   "metadata": {},
   "source": [
    "You might be wondering about the strange notation involving `for` and\n",
    "`in`; this is **list comprehension**, quite the Pythonic way to\n",
    "construct new lists from old.  To get a feel for this, try:\n",
    "\n"
   ]
  },
  {
   "cell_type": "code",
   "execution_count": 1,
   "metadata": {},
   "outputs": [],
   "source": [
    "[x**2 for x in range(10)]"
   ]
  },
  {
   "cell_type": "markdown",
   "metadata": {},
   "source": [
    "## Map versus list comprehensions\n",
    "\n"
   ]
  },
  {
   "cell_type": "markdown",
   "metadata": {},
   "source": [
    "You might be familiar with `map` and wondering how this relates.  For\n",
    "instance, you could also have written the following.\n",
    "\n"
   ]
  },
  {
   "cell_type": "code",
   "execution_count": 1,
   "metadata": {},
   "outputs": [],
   "source": [
    "list(map(lambda x: x**2, range(10)))"
   ]
  },
  {
   "cell_type": "markdown",
   "metadata": {},
   "source": [
    "The difference is that `map` is lazily evaluated, meaning that you can run code like\n",
    "\n"
   ]
  },
  {
   "cell_type": "code",
   "execution_count": 1,
   "metadata": {},
   "outputs": [],
   "source": [
    "for s in map(lambda x: x**2, range(10**100)):\n",
    "    print(s)\n",
    "    if s > 10:\n",
    "        break"
   ]
  },
  {
   "cell_type": "markdown",
   "metadata": {},
   "source": [
    "but if you were to create a **list** with $10^{100}$ entries, you&rsquo;d run\n",
    "out of memory!  Functions like `map` are insanely important, but list\n",
    "comprehensions are arguably a bit more idiomatic in Python.  But when\n",
    "you don&rsquo;t wish to name the parameter and when your function is not\n",
    "anonymous, `map` is arguably more readable.\n",
    "\n"
   ]
  },
  {
   "cell_type": "markdown",
   "metadata": {},
   "source": [
    "## Convolution\n",
    "\n"
   ]
  },
  {
   "cell_type": "markdown",
   "metadata": {},
   "source": [
    "Let $f$ and $g$ be functions on the real line, and suppose that $f$ is\n",
    "supported on $[a,b]$ (i.e., $f(x) = 0$ for $x \\not \\in [a,b]$).\n",
    "\n",
    "The convolution function $f \\ast g$ is defined by\n",
    "$$\n",
    "f\\ast g (t) = \\int_{a}^b f(\\tau) g(t - \\tau) \\; \\mathrm{d}\\tau.\n",
    "$$\n",
    "\n",
    "Define a function &rsquo;convolution&rsquo; which takes as input two functions $f$\n",
    "and $g$, lower and upper bounds $a$ and $b$ and which outputs the\n",
    "convolution of $f$ and $g$.\n",
    "\n"
   ]
  },
  {
   "cell_type": "code",
   "execution_count": 1,
   "metadata": {},
   "outputs": [],
   "source": [
    "def convolution(f, g, a, b):\n",
    "    raise Exception('You must implement convolution.')"
   ]
  },
  {
   "cell_type": "markdown",
   "metadata": {},
   "source": [
    "The code below will test your convolution function on the `pulse`\n",
    "function as defined as follows.\n",
    "\n"
   ]
  },
  {
   "cell_type": "code",
   "execution_count": 1,
   "metadata": {},
   "outputs": [],
   "source": [
    "def pulse(x):\n",
    "    if x < 0 or x > 1:\n",
    "        return 0\n",
    "    else:\n",
    "        return 1"
   ]
  },
  {
   "cell_type": "markdown",
   "metadata": {},
   "source": [
    "Let&rsquo;s define the convolution of pulse with pulse.\n",
    "\n"
   ]
  },
  {
   "cell_type": "code",
   "execution_count": 1,
   "metadata": {},
   "outputs": [],
   "source": [
    "ff = convolution(pulse, pulse, -4, 4)"
   ]
  },
  {
   "cell_type": "markdown",
   "metadata": {},
   "source": [
    "Plot it.\n",
    "\n"
   ]
  },
  {
   "cell_type": "code",
   "execution_count": 1,
   "metadata": {},
   "outputs": [],
   "source": [
    "%matplotlib inline\n",
    "import numpy as np\n",
    "import matplotlib.pyplot as plt\n",
    "\n",
    "xs = np.linspace(-3,5,100)\n",
    "ys1 = list(map(ff, xs))\n",
    "ys2 = list(map(pulse,xs))\n",
    "plt.plot(xs, ys1)\n",
    "plt.plot(xs,ys2)\n",
    "plt.show()"
   ]
  },
  {
   "cell_type": "markdown",
   "metadata": {},
   "source": [
    "Is this plot what you expect?  If not, how might you fix it?\n",
    "\n",
    "Reading about the optional `points` parameter in the\n",
    "[manual]([https://docs.scipy.org/doc/scipy/reference/generated/scipy.integrate.quad.html](https://docs.scipy.org/doc/scipy/reference/generated/scipy.integrate.quad.html))\n",
    "may help.\n",
    "\n"
   ]
  }
 ],
 "metadata": {
  "kernelspec": {
   "display_name": "Python 3",
   "language": "python",
   "name": "python3"
  },
  "language_info": {
   "codemirror_mode": {
    "name": "ipython",
    "version": 3
   },
   "file_extension": ".py",
   "mimetype": "text/x-python",
   "name": "python",
   "nbconvert_exporter": "python",
   "pygments_lexer": "ipython3",
   "version": "3.7.0"
  },
  "org": null
 },
 "nbformat": 4,
 "nbformat_minor": 1
}
