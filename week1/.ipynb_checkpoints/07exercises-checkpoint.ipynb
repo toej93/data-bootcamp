{
 "cells": [
  {
   "cell_type": "markdown",
   "metadata": {},
   "source": [
    "Executing cells is not the same as learning.  Now is the time for you\n",
    "to truly learn by writing some code on your own.  You can add your own\n",
    "cells to this worksheet, save your work, and then commit your\n",
    "solutions to a fork of our class repo.\n",
    "\n",
    "****Warning:**** Depending on your background, you may feel you are\n",
    "unprepared for this task.  **Make as much progress as you can.** The\n",
    "good news is that with Google, StackOverflow, etc., you are more\n",
    "powerful than you know.  Leverage the resources at your disposal to\n",
    "make the most of our short time together.\n",
    "\n"
   ]
  },
  {
   "cell_type": "markdown",
   "metadata": {},
   "source": [
    "## Exercise 1.1\n",
    "\n"
   ]
  },
  {
   "cell_type": "markdown",
   "metadata": {},
   "source": [
    "For a list `L`, what is the meaning of `L[-1]`, `L[-2]`, `L[1:3]`,\n",
    "`L[:]`, `L[-3:-1]`, `L[-2:]`, `L[::-1]`?  Explore this by building\n",
    "some lists and executing cells right here in this Jupyter notebook.\n",
    "(If you get stuck, search for **slicing**.)\n",
    "\n"
   ]
  },
  {
   "cell_type": "code",
   "execution_count": 8,
   "metadata": {},
   "outputs": [
    {
     "name": "stdout",
     "output_type": "stream",
     "text": [
      "['The', 'earth', 'around', 'sun']\n"
     ]
    }
   ],
   "source": [
    "myList = [\"The\", \"earth\", \"revolves\", \"around\", \"sun\"]\n",
    "#print(myList[2::])\n",
    "#print(myList[::-2])\n",
    "myList.pop(2)\n",
    "print(myList)\n"
   ]
  },
  {
   "cell_type": "markdown",
   "metadata": {},
   "source": [
    "## Exercise 1.2"
   ]
  },
  {
   "cell_type": "markdown",
   "metadata": {},
   "source": [
    "Define a function `digits()` which takes a positive integer and\n",
    "returns the number of digits in its decimal expansion.  For instance,\n",
    "`digits(321)` evaluates to `3`.\n",
    "\n",
    "How many digits are in the decimal expansion of `2**1000`?\n",
    "\n"
   ]
  },
  {
   "cell_type": "code",
   "execution_count": null,
   "metadata": {},
   "outputs": [],
   "source": [
    "def digits(number):\n",
    "    print(len(str(number)))\n",
    "\n",
    "digits(2**1000)\n",
    "\n",
    "\n"
   ]
  },
  {
   "cell_type": "markdown",
   "metadata": {},
   "source": [
    "Define `harmonic` so that `harmonic(n)` is the sum of the first `n`\n",
    "terms of the harmonic series, i.e., `harmonic(4)` equals $1 + \\frac{1}{2} + \\frac{1}{3} + \\frac{1}{4}$.\n",
    "\n"
   ]
  },
  {
   "cell_type": "code",
   "execution_count": null,
   "metadata": {},
   "outputs": [],
   "source": [
    "def harmonic(n):\n",
    "    sum=0\n",
    "    for i in range(1,n):\n",
    "        sum+=1/i\n",
    "    return sum;\n",
    "\n",
    "harmonic(20)"
   ]
  },
  {
   "cell_type": "markdown",
   "metadata": {},
   "source": [
    "## Exercise 1.4\n",
    "\n"
   ]
  },
  {
   "cell_type": "markdown",
   "metadata": {},
   "source": [
    "Define a function `uniqued` which takes a list and removes all\n",
    "repeated entries.  For instance, `uniqued([1,5,1,4])` equals `[1,5,4]`.\n",
    "\n"
   ]
  },
  {
   "cell_type": "code",
   "execution_count": null,
   "metadata": {},
   "outputs": [],
   "source": [
    "def uniqued(list):\n",
    "    sorted(list)\n",
    "    i=0\n",
    "    length=len(list)\n",
    "    while i<length:\n",
    "        if list[i]==list[i+1]:\n",
    "            list.pop(i+1)\n",
    "            length=len(list)\n",
    "            print(length)\n",
    "            i+=1\n",
    "    print(list)\n",
    "\n",
    "List = [\"The\", \"earth\", \"revolves\", \"around\", \"sun\", \"sun\", \"around\"]\n",
    "\n",
    "uniqued(List)\n",
    "#print(sorted(List))"
   ]
  },
  {
   "cell_type": "markdown",
   "metadata": {},
   "source": [
    "## Exercise 1.5\n",
    "\n"
   ]
  },
  {
   "cell_type": "code",
   "execution_count": null,
   "metadata": {},
   "outputs": [],
   "source": []
  },
  {
   "cell_type": "markdown",
   "metadata": {},
   "source": [
    "Explain what is happening in the code below (e.g., what does this say about **associativity** of `+`?)\n",
    "\n"
   ]
  },
  {
   "cell_type": "code",
   "execution_count": null,
   "metadata": {},
   "outputs": [],
   "source": [
    "eps = 1.0\n",
    "while 1.0 + eps != 1.0:\n",
    "    eps = eps / 2.0\n",
    "print(1.0 + (eps - eps))\n",
    "print((1.0 + eps) - eps)"
   ]
  },
  {
   "cell_type": "markdown",
   "metadata": {},
   "source": [
    "If you (don&rsquo;t?) like this, you might enjoy reading \\*[What Every\n",
    "Computer Scientist Should Know About Floating-Point\n",
    "Arithmetic]([https://docs.oracle.com/cd/E19957-01/806-3568/ncg_goldberg.html](https://docs.oracle.com/cd/E19957-01/806-3568/ncg_goldberg.html))\\*.\n",
    "\n"
   ]
  },
  {
   "cell_type": "markdown",
   "metadata": {},
   "source": [
    "## Exercise 1.6\n",
    "\n"
   ]
  },
  {
   "cell_type": "markdown",
   "metadata": {},
   "source": [
    "Write a function `is_palindrome` which takes a string and returns\n",
    "`True` if it is a palindrome, and `False` if not.  Find an English\n",
    "word list (such as [https://github.com/dwyl/english-words>](https://github.com/dwyl/english-words>)which\n",
    "includes some Python examples) to find English palindromes.\n",
    "\n",
    "There are many entertaining games to play with word lists.  Find more\n",
    "examples of words like **almost** and **wronged** whose letters are in\n",
    "alphabetical or reverse-alphabetic order.  Is the spelling &ldquo;rule&rdquo; **i\n",
    "before e except after c** valid?  Can you make a histogram showing\n",
    "frequency of letters in English words?  How might you visualize\n",
    "frequency of pairs of letters?\n",
    "\n"
   ]
  },
  {
   "cell_type": "markdown",
   "metadata": {},
   "source": [
    "## Exercise 1.7\n",
    "\n"
   ]
  },
  {
   "cell_type": "markdown",
   "metadata": {},
   "source": [
    "Define a function `flip` which takes an integer and reverses its\n",
    "digits, so that `flip(17)` evaluates to `71`.  By repeatedly replacing\n",
    "`x` with `x + flip(x)`, we often find palindromic numbers this way,\n",
    "e.g., 192 + 291 is 483, and 483 + 384 is 867, and and 867 + 768 is\n",
    "1635, and 1635 + 5361 is 6996, a palindrome!  Experimentally, does\n",
    "this always happen?  For fun, use `matplotlib` to make some graphs.\n",
    "\n",
    "This exercise is designed for you to worry about types, e.g., `'17' +\n",
    "'71'` equals `'1771'` because strings are concatenated with plus.\n",
    "\n"
   ]
  },
  {
   "cell_type": "code",
   "execution_count": null,
   "metadata": {},
   "outputs": [],
   "source": []
  },
  {
   "cell_type": "code",
   "execution_count": null,
   "metadata": {},
   "outputs": [],
   "source": []
  },
  {
   "cell_type": "code",
   "execution_count": null,
   "metadata": {},
   "outputs": [],
   "source": []
  },
  {
   "cell_type": "code",
   "execution_count": null,
   "metadata": {},
   "outputs": [],
   "source": []
  }
 ],
 "metadata": {
  "kernelspec": {
   "display_name": "Python 3",
   "language": "python",
   "name": "python3"
  },
  "language_info": {
   "codemirror_mode": {
    "name": "ipython",
    "version": 3
   },
   "file_extension": ".py",
   "mimetype": "text/x-python",
   "name": "python",
   "nbconvert_exporter": "python",
   "pygments_lexer": "ipython3",
   "version": "3.7.0"
  },
  "org": null
 },
 "nbformat": 4,
 "nbformat_minor": 1
}
