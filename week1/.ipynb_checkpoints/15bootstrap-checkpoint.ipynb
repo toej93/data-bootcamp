{
 "cells": [
  {
   "cell_type": "markdown",
   "metadata": {},
   "source": [
    "## Producing some fake data\n",
    "\n"
   ]
  },
  {
   "cell_type": "markdown",
   "metadata": {},
   "source": [
    "Let&rsquo;s again use `numpy` to produce some fake data.\n",
    "\n"
   ]
  },
  {
   "cell_type": "code",
   "execution_count": 1,
   "metadata": {},
   "outputs": [],
   "source": [
    "import numpy as np\n",
    "\n",
    "p = 0.75\n",
    "trials = 30\n",
    "flips = np.random.uniform(0,1,trials) < p"
   ]
  },
  {
   "cell_type": "markdown",
   "metadata": {},
   "source": [
    "Think back to the `09coins` notebook and then think back to your\n",
    "homework assignment that involved building a biased coin.  This is a\n",
    "similar setup, but perhaps you are impressed by how short the code is?\n",
    "Clearly `numpy` is quite expressive.\n",
    "\n"
   ]
  },
  {
   "cell_type": "markdown",
   "metadata": {},
   "source": [
    "### Play pretend\n",
    "\n"
   ]
  },
  {
   "cell_type": "markdown",
   "metadata": {},
   "source": [
    "With this data, because we constructed it by hand, we already **know**\n",
    "the truth: we flipped the biased coin `trials = 50` times, and `p =\n",
    "0.75` tells us exactly how the coin was weighted.  But let&rsquo;s pretend\n",
    "we didn&rsquo;t know this; let&rsquo;s pretend we only saw the `flips` and we do\n",
    "**not** know `p`.\n",
    "\n"
   ]
  },
  {
   "cell_type": "markdown",
   "metadata": {},
   "source": [
    "## Our first estimate\n",
    "\n"
   ]
  },
  {
   "cell_type": "markdown",
   "metadata": {},
   "source": [
    "How then would we estimate `p`?  We&rsquo;d first take an average.\n",
    "\n"
   ]
  },
  {
   "cell_type": "code",
   "execution_count": 2,
   "metadata": {},
   "outputs": [
    {
     "data": {
      "text/plain": [
       "0.8666666666666667"
      ]
     },
     "execution_count": 2,
     "metadata": {},
     "output_type": "execute_result"
    }
   ],
   "source": [
    "sum(flips) / trials"
   ]
  },
  {
   "cell_type": "markdown",
   "metadata": {},
   "source": [
    "But how good is this estimate?  (If you don&rsquo;t quantify the error, $\\pi\n",
    "\\approx 17$).  Ideally, we&rsquo;d just flip the coin 50 more times, over\n",
    "and over again, i.e., just keep taking more random samples from the\n",
    "population.  If we draw random samples from a population and then look\n",
    "at the distribution of the estimates, we get the [sampling\n",
    "distribution for a\n",
    "statistic]([https://en.wikipedia.org/wiki/Sampling_distribution](https://en.wikipedia.org/wiki/Sampling_distribution)).\n",
    "Recall that is what we did in `09coins` but, in many real-world cases,\n",
    "getting more data would be completely impractical.\n",
    "\n",
    "Instead of randomly drawing samples from the population (which we\n",
    "can&rsquo;t easily do), we randomly draw samples from the **data we already\n",
    "have**, i.e., from the empirical distribution of the observed data.\n",
    "\n",
    "This technique is\n",
    "[bootstrapping]([https://en.wikipedia.org/wiki/Bootstrapping_(statistics)](https://en.wikipedia.org/wiki/Bootstrapping_(statistics)))\n",
    "and permits us to estimate the sampling distribution of statistics\n",
    "computed via complicated formulas.\n",
    "\n"
   ]
  },
  {
   "cell_type": "markdown",
   "metadata": {},
   "source": [
    "## To a confidence interval\n",
    "\n"
   ]
  },
  {
   "cell_type": "markdown",
   "metadata": {},
   "source": [
    "We perform the resampling with replacement (!) quite easily with\n",
    "`numpy`.\n",
    "\n"
   ]
  },
  {
   "cell_type": "code",
   "execution_count": 3,
   "metadata": {},
   "outputs": [],
   "source": [
    "flips_resampled = np.random.choice(flips,size=trials,replace=True)"
   ]
  },
  {
   "cell_type": "markdown",
   "metadata": {},
   "source": [
    "We can then compute the statistic on the resampled data.\n",
    "\n"
   ]
  },
  {
   "cell_type": "code",
   "execution_count": 4,
   "metadata": {},
   "outputs": [
    {
     "data": {
      "text/plain": [
       "0.8333333333333334"
      ]
     },
     "execution_count": 4,
     "metadata": {},
     "output_type": "execute_result"
    }
   ],
   "source": [
    "sum(flips_resampled) / trials"
   ]
  },
  {
   "cell_type": "markdown",
   "metadata": {},
   "source": [
    "Let&rsquo;s repeat this `N = 10000` times.\n",
    "\n"
   ]
  },
  {
   "cell_type": "code",
   "execution_count": 5,
   "metadata": {},
   "outputs": [],
   "source": [
    "N = 10000\n",
    "flips_resampled = np.random.choice(flips,size=(N,trials),replace=True)"
   ]
  },
  {
   "cell_type": "markdown",
   "metadata": {},
   "source": [
    "Now we compute means by summing along the appropriate axis.\n",
    "\n"
   ]
  },
  {
   "cell_type": "code",
   "execution_count": 6,
   "metadata": {},
   "outputs": [],
   "source": [
    "means = np.sum( flips_resampled, axis=1 ) / trials"
   ]
  },
  {
   "cell_type": "markdown",
   "metadata": {},
   "source": [
    "We can plot a histogram of the bootstrapped means.\n",
    "\n"
   ]
  },
  {
   "cell_type": "code",
   "execution_count": 10,
   "metadata": {},
   "outputs": [
    {
     "data": {
      "image/png": "[encoded data removed]",
      "text/plain": [
       "<Figure size 432x288 with 1 Axes>"
      ]
     },
     "metadata": {
      "needs_background": "light"
     },
     "output_type": "display_data"
    }
   ],
   "source": [
    "import matplotlib.pyplot as plt \n",
    "plt.hist(means)\n",
    "plt.show()"
   ]
  },
  {
   "cell_type": "markdown",
   "metadata": {},
   "source": [
    "We can use `np.percentile` to find a 95% confidence interval.\n",
    "\n"
   ]
  },
  {
   "cell_type": "code",
   "execution_count": 8,
   "metadata": {},
   "outputs": [
    {
     "name": "stdout",
     "output_type": "stream",
     "text": [
      "95% CI [0.7333333333333333,0.9666666666666667]\n"
     ]
    }
   ],
   "source": [
    "print( '95% CI [{},{}]'.format( np.percentile( means, 2.5 ), np.percentile( means, 97.5 ) ) )"
   ]
  },
  {
   "cell_type": "markdown",
   "metadata": {},
   "source": [
    "### No loops?\n",
    "\n"
   ]
  },
  {
   "cell_type": "markdown",
   "metadata": {},
   "source": [
    "Are you surprised that we did not use any `for` loops in this calculation?\n",
    "\n"
   ]
  },
  {
   "cell_type": "markdown",
   "metadata": {},
   "source": [
    "### What did people do historically?\n",
    "\n"
   ]
  },
  {
   "cell_type": "markdown",
   "metadata": {},
   "source": [
    "What we&rsquo;re really doing here is computing a [binomial proportion\n",
    "confidence interval]\n",
    "([https://en.wikipedia.org/wiki/Binomial_proportion_confidence_interval](https://en.wikipedia.org/wiki/Binomial_proportion_confidence_interval))\n",
    "and this might be computed by making some approximation, e.g.,\n",
    "approximating with a normal distribution.  With the bootstrap, we\n",
    "don&rsquo;t need to make some assumption like this to facilitate an analytic\n",
    "approximation but instead rely on the computer to perform the\n",
    "resampling.  If we were to rely on such an approximation (which is not\n",
    "so bad when `trials` is large and `p` is far from 0 and 1), our\n",
    "confidence interval is\n",
    "\n"
   ]
  },
  {
   "cell_type": "code",
   "execution_count": 9,
   "metadata": {},
   "outputs": [
    {
     "name": "stdout",
     "output_type": "stream",
     "text": [
      "95% CI [0.7450226200631683,0.9883107132701651]\n"
     ]
    }
   ],
   "source": [
    "radius = 1.96 * np.sqrt( sum(flips) * (trials - sum(flips) ) / trials ) / trials\n",
    "print( '95% CI [{},{}]'.format( sum(flips) / trials - radius, sum(flips) / trials + radius ) )"
   ]
  },
  {
   "cell_type": "markdown",
   "metadata": {},
   "source": [
    "## Your homework\n",
    "\n"
   ]
  },
  {
   "cell_type": "markdown",
   "metadata": {},
   "source": [
    "### Other statistics\n",
    "\n"
   ]
  },
  {
   "cell_type": "markdown",
   "metadata": {},
   "source": [
    "We&rsquo;ve used the bootstrap to produce a confidence interval for the\n",
    "mean.  Find some other data set you like, and do the same for the\n",
    "median (or the &ldquo;trimmed mean&rdquo;).\n",
    "\n"
   ]
  },
  {
   "cell_type": "markdown",
   "metadata": {},
   "source": [
    "### Rewrite with loops\n",
    "\n"
   ]
  },
  {
   "cell_type": "markdown",
   "metadata": {},
   "source": [
    "Take the code above (which carefully avoided loops) and reimplement it\n",
    "**with** some `for` loops.  How fast is your code?  (If you don&rsquo;t notice\n",
    "a difference, increase `N` until you can feel it.)\n",
    "\n"
   ]
  }
 ],
 "metadata": {
  "kernelspec": {
   "display_name": "Python 3",
   "language": "python",
   "name": "python3"
  },
  "language_info": {
   "codemirror_mode": {
    "name": "ipython",
    "version": 3
   },
   "file_extension": ".py",
   "mimetype": "text/x-python",
   "name": "python",
   "nbconvert_exporter": "python",
   "pygments_lexer": "ipython3",
   "version": "3.7.0"
  },
  "org": null
 },
 "nbformat": 4,
 "nbformat_minor": 1
}
