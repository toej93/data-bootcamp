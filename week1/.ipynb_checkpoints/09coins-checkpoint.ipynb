{
 "cells": [
  {
   "cell_type": "markdown",
   "metadata": {},
   "source": [
    "## Import random\n",
    "\n"
   ]
  },
  {
   "cell_type": "markdown",
   "metadata": {},
   "source": [
    "Today we generate some data to analyze by creating simulations. First\n",
    "we will define a function which gives the result of a fair coin\n",
    "toss. This uses the package `random` which you can read about in [the\n",
    "Documentation for the Python Standard\n",
    "Library]([https://docs.python.org/3/library/random.html](https://docs.python.org/3/library/random.html)).\n",
    "\n"
   ]
  },
  {
   "cell_type": "code",
   "execution_count": 8,
   "metadata": {},
   "outputs": [],
   "source": [
    "# Import the package 'random' with an abbreviation.\n",
    "import random as r"
   ]
  },
  {
   "cell_type": "markdown",
   "metadata": {},
   "source": [
    "The `random` module contains a function (not very creatively) called\n",
    "`random` which we can run as follows:\n",
    "\n"
   ]
  },
  {
   "cell_type": "code",
   "execution_count": 9,
   "metadata": {},
   "outputs": [
    {
     "data": {
      "text/plain": [
       "0.5106688446607636"
      ]
     },
     "execution_count": 9,
     "metadata": {},
     "output_type": "execute_result"
    }
   ],
   "source": [
    "r.random()"
   ]
  },
  {
   "cell_type": "markdown",
   "metadata": {},
   "source": [
    "The function generates a &ldquo;random&rdquo; real number.\n",
    "\n"
   ]
  },
  {
   "cell_type": "code",
   "execution_count": 10,
   "metadata": {},
   "outputs": [
    {
     "name": "stdout",
     "output_type": "stream",
     "text": [
      "0.26675626879604475\n",
      "0.5647070354761067\n",
      "0.9265227339682195\n",
      "0.30442843501930517\n",
      "0.18855746246482252\n",
      "0.17346235455748726\n",
      "0.6397995297665491\n",
      "0.040552002252582375\n",
      "0.7918520913418718\n",
      "0.6069640661063344\n",
      "0.07387697490084699\n",
      "0.1184210129164629\n",
      "0.2205572145288759\n",
      "0.29608421843745913\n",
      "0.08658352045565187\n",
      "0.8323186340422405\n",
      "0.21586275623825557\n",
      "0.4844010674934349\n",
      "0.5513898801792695\n",
      "0.5178535665907109\n"
     ]
    }
   ],
   "source": [
    "# recall that range(20) = [0,1,...,19]\n",
    "for j in range(20): \n",
    "    print(r.random())"
   ]
  },
  {
   "cell_type": "markdown",
   "metadata": {},
   "source": [
    "## A simulation of a single coin toss\n",
    "\n"
   ]
  },
  {
   "cell_type": "markdown",
   "metadata": {},
   "source": [
    "Now let&rsquo;s use `random` to define a new &rsquo;coin toss&rsquo; function.&ldquo;\n",
    "\n"
   ]
  },
  {
   "cell_type": "code",
   "execution_count": 11,
   "metadata": {},
   "outputs": [],
   "source": [
    "def coin():\n",
    "    u = r.random()\n",
    "    if u < 0.5:\n",
    "        return 'H'\n",
    "    else:\n",
    "        return 'T'"
   ]
  },
  {
   "cell_type": "markdown",
   "metadata": {},
   "source": [
    "## A simulation of a multiple coin tosses\n",
    "\n"
   ]
  },
  {
   "cell_type": "markdown",
   "metadata": {},
   "source": [
    "Let&rsquo;s toss the coin 10 times and look at the result.\n",
    "\n"
   ]
  },
  {
   "cell_type": "code",
   "execution_count": 12,
   "metadata": {},
   "outputs": [
    {
     "name": "stdout",
     "output_type": "stream",
     "text": [
      "T T H H H H H H H H "
     ]
    }
   ],
   "source": [
    "for i in range(0, 10):\n",
    "    print(coin(), end =' ')"
   ]
  },
  {
   "cell_type": "markdown",
   "metadata": {},
   "source": [
    "The named argument `end=` prevents `print` from printing a newline;\n",
    "instead, we print `' '` after each coin toss.\n",
    "\n",
    "Since we wish to experiment with randomness, it would be good to have\n",
    "a function which runs the coin toss experiment several times. The\n",
    "input of our function will be a positive integer and the output will\n",
    "be a string of H&rsquo;s and T&rsquo;s.&ldquo;\n",
    "\n"
   ]
  },
  {
   "cell_type": "code",
   "execution_count": 15,
   "metadata": {},
   "outputs": [
    {
     "data": {
      "text/plain": [
       "['T', 'T', 'H', 'H', 'H']"
      ]
     },
     "execution_count": 15,
     "metadata": {},
     "output_type": "execute_result"
    }
   ],
   "source": [
    "def run_coin(n):\n",
    "    # Initialize the output of the function as an empty string\n",
    "    result = '' \n",
    "    # Loop over the range of n and add the coin toss result to the output each iteration\n",
    "    for k in range(n):\n",
    "        result = result + coin() \n",
    "    return list(result)\n",
    "run_coin(5)"
   ]
  },
  {
   "cell_type": "markdown",
   "metadata": {},
   "source": [
    "## Count the number of heads\n",
    "\n"
   ]
  },
  {
   "cell_type": "markdown",
   "metadata": {},
   "source": [
    "****Exercise:**** Write a function `count_heads` whose input is a result\n",
    "of the `run_coin` function and whose output is the number of H&rsquo;s in\n",
    "the string.  For instance, `count_heads('HHTHT')` equals 3.\n",
    "\n"
   ]
  },
  {
   "cell_type": "code",
   "execution_count": 33,
   "metadata": {},
   "outputs": [
    {
     "data": {
      "text/plain": [
       "2"
      ]
     },
     "execution_count": 33,
     "metadata": {},
     "output_type": "execute_result"
    }
   ],
   "source": [
    "def count_heads(tosses):\n",
    "    List=run_coin(tosses)\n",
    "    #print(List)\n",
    "    n_heads=0\n",
    "    for i in range(0,len(List)):\n",
    "        if List[i]==\"T\":\n",
    "            n_heads+=1\n",
    "    #raise Exception('You must implement count_heads.')\n",
    "    return n_heads\n",
    "count_heads(5)"
   ]
  },
  {
   "cell_type": "markdown",
   "metadata": {},
   "source": [
    "## Is the coin fair?\n",
    "\n"
   ]
  },
  {
   "cell_type": "markdown",
   "metadata": {},
   "source": [
    "Suppose that we would like to determine whether the coin we are\n",
    "tossing is fair. We could toss it, say, 20 times then count the number\n",
    "of heads. Of course, we don&rsquo;t expect to get 10 heads every time we do\n",
    "this, but if we ran this experiment several times then we should\n",
    "expect the average over all experiments to converge to 10.\n",
    "\n",
    "Let&rsquo;s try it.\n",
    "\n"
   ]
  },
  {
   "cell_type": "code",
   "execution_count": 38,
   "metadata": {},
   "outputs": [
    {
     "name": "stdout",
     "output_type": "stream",
     "text": [
      "12 7 14 9 9 7 11 15 8 10 "
     ]
    }
   ],
   "source": [
    "for j in range(10):\n",
    "    print(count_heads(20),end = ' ')"
   ]
  },
  {
   "cell_type": "markdown",
   "metadata": {},
   "source": [
    "Looks reasonable, but it&rsquo;s hard to eyeball whether this is actually a\n",
    "good result. Let&rsquo;s write some functions to automate our experiment and\n",
    "to analyze it quantitatively.\n",
    "\n",
    "First we write a function to carry out the experiment.  We want to\n",
    "toss the coin `num_tosses` times and repeat this `num_repeats` times.\n",
    "\n",
    "We will store our results in a list.\n",
    "\n"
   ]
  },
  {
   "cell_type": "code",
   "execution_count": 40,
   "metadata": {},
   "outputs": [
    {
     "data": {
      "text/plain": [
       "[10, 6, 9, 14, 8, 11, 9, 7, 11, 9]"
      ]
     },
     "execution_count": 40,
     "metadata": {},
     "output_type": "execute_result"
    }
   ],
   "source": [
    "def coin_experiment(num_tosses,num_repeats):\n",
    "    results = []\n",
    "    for j in range(num_repeats):\n",
    "        results.append(count_heads(num_tosses))\n",
    "    return results\n",
    "\n",
    "coin_experiment(20,10)"
   ]
  },
  {
   "cell_type": "markdown",
   "metadata": {},
   "source": [
    "### Finding the mean\n",
    "\n"
   ]
  },
  {
   "cell_type": "markdown",
   "metadata": {},
   "source": [
    "Now let&rsquo;s define a function to take the mean of a list.\n",
    "\n",
    "Certainly such a function already exists in some package, but can you\n",
    "define it yourself?\n",
    "\n"
   ]
  },
  {
   "cell_type": "code",
   "execution_count": 61,
   "metadata": {},
   "outputs": [
    {
     "name": "stdout",
     "output_type": "stream",
     "text": [
      "4.0 == 4.0\n",
      "12.0 == 12\n"
     ]
    }
   ],
   "source": [
    "def mean(L):\n",
    "    sum=0\n",
    "    for i in range(0,len(L)):\n",
    "        sum+=L[i]\n",
    "    return sum/len(L)\n",
    "    #raise Exception('You must implement mean.')\n",
    "\n",
    "print(mean([1,2,3,10]),'== 4.0')\n",
    "print(mean([5,10,20,8,13,16]),'== 12')"
   ]
  },
  {
   "cell_type": "markdown",
   "metadata": {},
   "source": [
    "(Incidentally, you may enjoy playing a bit of **code golf** with your\n",
    "neighbors &#x2013; can you make your implementation of `mean` shorter than\n",
    "your neighbor&rsquo;s implementation?)\n",
    "\n",
    "Once you have written `mean`, compute the mean of an experiment.\n",
    "\n"
   ]
  },
  {
   "cell_type": "code",
   "execution_count": 43,
   "metadata": {},
   "outputs": [
    {
     "data": {
      "text/plain": [
       "11.2"
      ]
     },
     "execution_count": 43,
     "metadata": {},
     "output_type": "execute_result"
    }
   ],
   "source": [
    "mean(coin_experiment(20,10))"
   ]
  },
  {
   "cell_type": "markdown",
   "metadata": {},
   "source": [
    "How do you expect the mean of the experiment to behave if we fix the\n",
    "number of tosses and increase the number of repeats? Vice-versa?  Play\n",
    "around with parameters to get an idea for it.\n",
    "\n"
   ]
  },
  {
   "cell_type": "markdown",
   "metadata": {},
   "source": [
    "## Visualization\n",
    "\n"
   ]
  },
  {
   "cell_type": "markdown",
   "metadata": {},
   "source": [
    "An important part of exploratory data analysis is visualization.\n",
    "Let&rsquo;s look at a plot of this data, using a friend we&rsquo;ve already met,\n",
    "namely `matplotlib`.\n",
    "\n"
   ]
  },
  {
   "cell_type": "code",
   "execution_count": 56,
   "metadata": {
    "scrolled": true
   },
   "outputs": [
    {
     "data": {
      "image/png": "[encoded data removed]",
      "text/plain": [
       "<Figure size 432x288 with 1 Axes>"
      ]
     },
     "metadata": {
      "needs_background": "light"
     },
     "output_type": "display_data"
    }
   ],
   "source": [
    "import matplotlib.pyplot as plt \n",
    "\n",
    "# Fix the number of tosses at k.\n",
    "k = 10\n",
    "\n",
    "# Look at what happens if we run the experiment 1 through M times.\n",
    "M = 100\n",
    "\n",
    "# We will fill the list L with results of the coin experiment for k flips and t trials\n",
    "L = []\n",
    "for t in range(1,M+1):\n",
    "    L.append(mean(coin_experiment(k,t))/M)#Normalized\n",
    "\n",
    "# Now we plot\n",
    "plt.plot(list(range(1,M+1)),L); # Semicolon supresses some unnecessary output\n",
    "\n",
    "# Add axis labels:\n",
    "plt.ylabel('Mean(normalized)')\n",
    "plt.xlabel('Number of trials')\n",
    "\n",
    "plt.show()"
   ]
  },
  {
   "cell_type": "markdown",
   "metadata": {},
   "source": [
    "Change the code to see what happens when the number of trials is fixed\n",
    "(say at 10), but the number of flips per trial runs between (say) 1\n",
    "and 100.  The plot should look quite different than what we got in the\n",
    "last plot. How could your output be normalized to get comparable\n",
    "graphs?\n",
    "\n"
   ]
  },
  {
   "cell_type": "markdown",
   "metadata": {},
   "source": [
    "## Standard deviation\n",
    "\n"
   ]
  },
  {
   "cell_type": "markdown",
   "metadata": {},
   "source": [
    "Let&rsquo;s write a function to compute the standard deviation of a\n",
    "dataset. Again this can be found in many packages, but write it\n",
    "for yourself for practice.\n",
    "\n",
    "Recall that the standard deviation $\\sigma = \\sigma(X)$ of a dataset\n",
    "$X = \\{x_i\\}_{i=1}^N$ is given by $ &sigma; = \\left(\\frac{1}{N}\n",
    "&sum;<sub>i=1</sub><sup>N</sup> \\left(x<sub>i</sub> - &mu; \\right)<sup>2</sup> \\right)<sup>1/2</sup>, $ where $\\mu =\n",
    "\\mu(X)$ is the mean of $X$.\n",
    "\n",
    "We will write our function by defining intermediate functions, then\n",
    "combining them to get $\\sigma$. This **modular** style of programming is\n",
    "good practice.  After all, the intermediate functions might be\n",
    "interesting or useful in their own right.\n",
    "\n",
    "First define a function `delta` which centers the data on a fixed\n",
    "value.  This takes each data point and subtracts a chosen center.\n",
    "\n"
   ]
  },
  {
   "cell_type": "code",
   "execution_count": 67,
   "metadata": {},
   "outputs": [
    {
     "name": "stdout",
     "output_type": "stream",
     "text": [
      "[-4, -3, -2] == [-4, -3, -2]\n"
     ]
    }
   ],
   "source": [
    "def delta(data, center):\n",
    "    return [x - center for x in data]\n",
    "\n",
    "print(delta([1,2,3],5), '== [-4, -3, -2]')"
   ]
  },
  {
   "cell_type": "markdown",
   "metadata": {},
   "source": [
    "Combine `delta` and `mean` to compute deviations from the mean.\n",
    "\n"
   ]
  },
  {
   "cell_type": "code",
   "execution_count": 70,
   "metadata": {},
   "outputs": [
    {
     "name": "stdout",
     "output_type": "stream",
     "text": [
      "[-4.0, -1.0, 5.0] == [-4, -1, 5]\n"
     ]
    }
   ],
   "source": [
    "def deviation(data):\n",
    "    mean_1=mean(data)\n",
    "    #print(mean_1)\n",
    "    return delta(data,mean_1)\n",
    "    #raise Exception('You must implement derivation.')\n",
    "\n",
    "print(deviation([1,4,10]), '== [-4, -1, 5]')"
   ]
  },
  {
   "cell_type": "markdown",
   "metadata": {},
   "source": [
    "To compute the variance, we square the deviations, add, and divide by\n",
    "the number of data points.\n",
    "\n"
   ]
  },
  {
   "cell_type": "code",
   "execution_count": 71,
   "metadata": {},
   "outputs": [],
   "source": [
    "def variance(data):\n",
    "    return mean([x*x for x in deviation(data)])"
   ]
  },
  {
   "cell_type": "markdown",
   "metadata": {},
   "source": [
    "Finally, the standard deviation is the square root of the variance.\n",
    "\n"
   ]
  },
  {
   "cell_type": "code",
   "execution_count": 72,
   "metadata": {},
   "outputs": [],
   "source": [
    "import math\n",
    "\n",
    "def stdev(data):\n",
    "    return math.sqrt(variance(data))"
   ]
  },
  {
   "cell_type": "markdown",
   "metadata": {},
   "source": [
    "## Summary statistics for the coin tosses\n",
    "\n"
   ]
  },
  {
   "cell_type": "markdown",
   "metadata": {},
   "source": [
    "Let&rsquo;s look at summary statistics for our coin toss simulation.\n",
    "\n"
   ]
  },
  {
   "cell_type": "code",
   "execution_count": 81,
   "metadata": {},
   "outputs": [
    {
     "name": "stdout",
     "output_type": "stream",
     "text": [
      "mean 50.081\n",
      "variance 25.302438999999996\n",
      "stdev 5.0301529797810325\n",
      "relstdev 0.1004403462347204\n"
     ]
    }
   ],
   "source": [
    "data = coin_experiment(100, 1000)\n",
    "print('mean', mean(data))\n",
    "print('variance', variance(data))\n",
    "print('stdev', stdev(data))\n",
    "print('relstdev',stdev(data)/mean(data)) # 'Relative standard deviation'\""
   ]
  },
  {
   "cell_type": "markdown",
   "metadata": {},
   "source": [
    "Play with the &ldquo;number of tosses&rdquo; and &ldquo;number of trials&rdquo; parameters to\n",
    "determine the qualitative behavior of the relative standard deviation\n",
    "across parameters. Create a plot to illustrate your findings.\n",
    "\n"
   ]
  }
 ],
 "metadata": {
  "kernelspec": {
   "display_name": "Python 3",
   "language": "python",
   "name": "python3"
  },
  "language_info": {
   "codemirror_mode": {
    "name": "ipython",
    "version": 3
   },
   "file_extension": ".py",
   "mimetype": "text/x-python",
   "name": "python",
   "nbconvert_exporter": "python",
   "pygments_lexer": "ipython3",
   "version": "3.7.0"
  },
  "org": null
 },
 "nbformat": 4,
 "nbformat_minor": 1
}
