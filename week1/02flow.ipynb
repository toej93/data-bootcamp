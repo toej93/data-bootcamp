{
   "nbformat" : 4,
   "metadata" : {
      "language_info" : {
         "mimetype" : "text/x-python",
         "codemirror_mode" : {
            "name" : "ipython",
            "version" : 3
         },
         "name" : "python",
         "version" : "3.5.2",
         "pygments_lexer" : "ipython3",
         "nbconvert_exporter" : "python",
         "file_extension" : ".py"
      },
      "org" : null,
      "kernelspec" : {
         "language" : "python",
         "display_name" : "Python 3",
         "name" : "python3"
      }
   },
   "cells" : [
      {
         "source" : [
            "In this lesson, we meet some *flow control*, meaning conditionals\n(&ldquo;if-then&rdquo;) and loops (&ldquo;for&rdquo; and &ldquo;while&rdquo;).  Perhaps the biggest\nchallenge for newcomers to Python is *semantic whitespace* meaning\nthat the indentation in Python is meaningful.\n\n"
         ],
         "cell_type" : "markdown",
         "metadata" : {}
      },
      {
         "source" : [
            "## Booleans\n\n"
         ],
         "cell_type" : "markdown",
         "metadata" : {}
      },
      {
         "metadata" : {},
         "execution_count" : 1,
         "outputs" : [],
         "cell_type" : "code",
         "source" : [
            "type(True)"
         ]
      },
      {
         "source" : [
            "### Numeric comparison\n\n"
         ],
         "cell_type" : "markdown",
         "metadata" : {}
      },
      {
         "source" : [
            "The &ldquo;not equal&rdquo; `!=` looks a bit like a slash through an equal sign.\n\n"
         ],
         "cell_type" : "markdown",
         "metadata" : {}
      },
      {
         "cell_type" : "code",
         "source" : [
            "1 != 0"
         ],
         "outputs" : [],
         "execution_count" : 1,
         "metadata" : {}
      },
      {
         "metadata" : {},
         "source" : [
            "For greater-than-or-equal-to, the &ldquo;equal&rdquo; comes after the\n&ldquo;greater-than&rdquo; sign.\n\n"
         ],
         "cell_type" : "markdown"
      },
      {
         "execution_count" : 1,
         "metadata" : {},
         "source" : [
            "1 >= 0"
         ],
         "cell_type" : "code",
         "outputs" : []
      },
      {
         "metadata" : {},
         "source" : [
            "You can include multiple inequalities.\n\n"
         ],
         "cell_type" : "markdown"
      },
      {
         "execution_count" : 1,
         "metadata" : {},
         "source" : [
            "1 <= 2 <= 3"
         ],
         "cell_type" : "code",
         "outputs" : []
      },
      {
         "metadata" : {},
         "source" : [
            "### Lists\n\n"
         ],
         "cell_type" : "markdown"
      },
      {
         "metadata" : {},
         "cell_type" : "markdown",
         "source" : [
            "You can check if a value appears in a list.\n\n"
         ]
      },
      {
         "outputs" : [],
         "source" : [
            "4 in [0,2,4,6,8]"
         ],
         "cell_type" : "code",
         "metadata" : {},
         "execution_count" : 1
      },
      {
         "metadata" : {},
         "source" : [
            "### Boolean algebra\n\n"
         ],
         "cell_type" : "markdown"
      },
      {
         "cell_type" : "markdown",
         "source" : [
            "Instead of puncuation as in other languages, in Python write `and` and `or` and `not` for the operations on booleans.\n\n"
         ],
         "metadata" : {}
      },
      {
         "source" : [
            "True and False"
         ],
         "cell_type" : "code",
         "outputs" : [],
         "execution_count" : 1,
         "metadata" : {}
      },
      {
         "cell_type" : "code",
         "source" : [
            "True or False"
         ],
         "outputs" : [],
         "execution_count" : 1,
         "metadata" : {}
      },
      {
         "execution_count" : 1,
         "metadata" : {},
         "cell_type" : "code",
         "source" : [
            "not False"
         ],
         "outputs" : []
      },
      {
         "metadata" : {},
         "source" : [
            "## Conditionals\n\n"
         ],
         "cell_type" : "markdown"
      },
      {
         "source" : [
            "We now use conditionals in &ldquo;if-then&rdquo; statements.  Note that there is a\ncolon `:` at the end of the &ldquo;if&rdquo; and the code underneath is indented.\n\n"
         ],
         "cell_type" : "markdown",
         "metadata" : {}
      },
      {
         "outputs" : [],
         "cell_type" : "code",
         "source" : [
            "if 1 > 0:\n    print('one is bigger')"
         ],
         "metadata" : {},
         "execution_count" : 1
      },
      {
         "metadata" : {},
         "source" : [
            "To get a feeling for the meaning of indentation, compare the output of the following two cells.\n\n"
         ],
         "cell_type" : "markdown"
      },
      {
         "execution_count" : 1,
         "metadata" : {},
         "cell_type" : "code",
         "source" : [
            "if 1 > 0:\n    print('one is bigger')\nprint('more printing')"
         ],
         "outputs" : []
      },
      {
         "outputs" : [],
         "source" : [
            "if 1 > 0:\n    print('one is bigger')\n    print('more printing')"
         ],
         "cell_type" : "code",
         "metadata" : {},
         "execution_count" : 1
      },
      {
         "cell_type" : "markdown",
         "source" : [
            "## Loops\n\n"
         ],
         "metadata" : {}
      },
      {
         "source" : [
            "You can do something for each entry in a list by using a `for` loop.\n\n"
         ],
         "cell_type" : "markdown",
         "metadata" : {}
      },
      {
         "outputs" : [],
         "source" : [
            "for i in [1,2,3,4,5]:\n    print(2*i)"
         ],
         "cell_type" : "code",
         "metadata" : {},
         "execution_count" : 1
      },
      {
         "metadata" : {},
         "source" : [
            "Instead of building lists by naming each of the entries, try `range`.\n\n"
         ],
         "cell_type" : "markdown"
      },
      {
         "source" : [
            "for i in range(5):\n    print(2*i)"
         ],
         "cell_type" : "code",
         "outputs" : [],
         "execution_count" : 1,
         "metadata" : {}
      },
      {
         "metadata" : {},
         "source" : [
            "Do you have a sense of the result of `range(5)`?  Is it the numbers 1\nthrough 5?  0 through 4?  Try `range(1,5)` and `range(1,6)`.  What if\nyou use three parameters to `range` as follows?\n\n"
         ],
         "cell_type" : "markdown"
      },
      {
         "metadata" : {},
         "execution_count" : 1,
         "outputs" : [],
         "cell_type" : "code",
         "source" : [
            "for i in range(5,20,2):\n    print(i)"
         ]
      },
      {
         "source" : [
            "### While\n\n"
         ],
         "cell_type" : "markdown",
         "metadata" : {}
      },
      {
         "metadata" : {},
         "cell_type" : "markdown",
         "source" : [
            "A `while` loop repeats &ldquo;while&rdquo; the condition holds.\n\n"
         ]
      },
      {
         "outputs" : [],
         "source" : [
            "xs = [1,2,3,4]\nwhile len(xs) > 0:\n    xs.remove( xs[0] )\n    print(xs)"
         ],
         "cell_type" : "code",
         "metadata" : {},
         "execution_count" : 1
      },
      {
         "metadata" : {},
         "cell_type" : "markdown",
         "source" : [
            "### Break and continue\n\n"
         ]
      },
      {
         "source" : [
            "With `break` you can escape from a loop earlier than you normally would.\n\n"
         ],
         "cell_type" : "markdown",
         "metadata" : {}
      },
      {
         "metadata" : {},
         "execution_count" : 1,
         "outputs" : [],
         "source" : [
            "for i in range(100):\n    if i == 5:\n        break\n    print(i)"
         ],
         "cell_type" : "code"
      },
      {
         "metadata" : {},
         "source" : [
            "With `continue` you can restart a loop early.\n\n"
         ],
         "cell_type" : "markdown"
      },
      {
         "outputs" : [],
         "source" : [
            "for i in range(10):\n    print(\"first\",i)\n    if i > 3:\n        continue\n    print(\"and\",i)"
         ],
         "cell_type" : "code",
         "metadata" : {},
         "execution_count" : 1
      }
   ],
   "nbformat_minor" : 0
}
