{
   "cells" : [
      {
         "cell_type" : "markdown",
         "metadata" : {},
         "source" : [
            "The Gapminder Foundation is a non-profit promoting sustainable global\ndevelopment by increased use and understanding of statistics about\nsocial, economic and environmental development.  They make data\navailable.\n\n"
         ]
      },
      {
         "cell_type" : "markdown",
         "source" : [
            "## Load some data\n\n"
         ],
         "metadata" : {}
      },
      {
         "source" : [
            "You may have thought that the argument to `read_csv` needed to be a\nfile, but it can also be a URL.  Let&rsquo;s load some gapminder data from a\nGitHub repository.\n\n"
         ],
         "metadata" : {},
         "cell_type" : "markdown"
      },
      {
         "cell_type" : "code",
         "execution_count" : 1,
         "outputs" : [],
         "source" : [
            "import pandas as pd \nimport numpy as np\nimport matplotlib.pyplot as plt\nurl = 'https://raw.githubusercontent.com/resbaz/r-novice-gapminder-files/master/data/gapminder-FiveYearData.csv'\ndf = pd.read_csv(url)"
         ],
         "metadata" : {}
      },
      {
         "cell_type" : "markdown",
         "metadata" : {},
         "source" : [
            "## Some initial plots\n\n"
         ]
      },
      {
         "cell_type" : "markdown",
         "metadata" : {},
         "source" : [
            "We could explore GDP per capita versus life expectancy.\n\n"
         ]
      },
      {
         "outputs" : [],
         "cell_type" : "code",
         "execution_count" : 1,
         "source" : [
            "df.plot.scatter( 'gdpPercap', 'lifeExp' )\nplt.show()"
         ],
         "metadata" : {}
      },
      {
         "source" : [
            "It might be a bit easier to see a football-shaped scatterplot if we\nuse a logarithmic scale on the $x$-axis.\n\n"
         ],
         "metadata" : {},
         "cell_type" : "markdown"
      },
      {
         "source" : [
            "df.plot.scatter( 'gdpPercap', 'lifeExp' )\nplt.xscale('log')\nplt.show()"
         ],
         "metadata" : {},
         "execution_count" : 1,
         "cell_type" : "code",
         "outputs" : []
      },
      {
         "cell_type" : "markdown",
         "metadata" : {},
         "source" : [
            "Your ****homework**** for today is to continue exploring this data set.\nWhat questions can you invent?  Use the `pandas` documentation and all\nthe resources at your disposal to dig into the data.\n\n"
         ]
      }
   ],
   "nbformat_minor" : 0,
   "nbformat" : 4,
   "metadata" : {
      "org" : null,
      "language_info" : {
         "codemirror_mode" : {
            "version" : 3,
            "name" : "ipython"
         },
         "name" : "python",
         "mimetype" : "text/x-python",
         "file_extension" : ".py",
         "pygments_lexer" : "ipython3",
         "nbconvert_exporter" : "python",
         "version" : "3.5.2"
      },
      "kernelspec" : {
         "display_name" : "Python 3",
         "language" : "python",
         "name" : "python3"
      }
   }
}
