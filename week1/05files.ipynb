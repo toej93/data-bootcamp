{
   "cells" : [
      {
         "cell_type" : "markdown",
         "source" : [
            "## Working with paths\n\n"
         ],
         "metadata" : {}
      },
      {
         "source" : [
            "Note the mysterious `import os` which &ldquo;imports&rdquo; some additional\nfunctions for us.  In the future, we will `import` other Python\npackages.\n\n"
         ],
         "cell_type" : "markdown",
         "metadata" : {}
      },
      {
         "source" : [
            "import os\nnotebook = os.path.realpath('05files.ipynb')\nprint('current file: {}'.format(notebook))\nnotebook_path = os.path.dirname(notebook)  \nprint('current directory: {}'.format(notebook_path))"
         ],
         "cell_type" : "code",
         "metadata" : {},
         "execution_count" : 1,
         "outputs" : []
      },
      {
         "metadata" : {},
         "cell_type" : "markdown",
         "source" : [
            "****Warning:**** Outside of Jupyter notebooks, we would get the path of\ncurrent file via `__file__`.\n\n"
         ]
      },
      {
         "metadata" : {},
         "cell_type" : "markdown",
         "source" : [
            "## Reading files\n\n"
         ]
      },
      {
         "cell_type" : "markdown",
         "source" : [
            "In `d6.txt`, I have placed 250 throws of a six-sided die.  Let&rsquo;s print them.\n\n"
         ],
         "metadata" : {}
      },
      {
         "source" : [
            "file_path = os.path.join(notebook_path, 'd6.txt')\n\nwith open(file_path, 'r') as f:\n    for line in f:\n        print(line.strip())"
         ],
         "cell_type" : "code",
         "metadata" : {},
         "execution_count" : 1,
         "outputs" : []
      },
      {
         "metadata" : {},
         "source" : [
            "Note the use of `with` which guarantees that `f.close()` is called\nafter the end of the `with` stanza.\n\nCan you perform some simple statistics on the data in `d6.txt`?  How\nmany times was a 1 thrown?\n\n"
         ],
         "cell_type" : "markdown"
      },
      {
         "metadata" : {},
         "source" : [
            "## Writing files\n\n"
         ],
         "cell_type" : "markdown"
      },
      {
         "source" : [
            "Try creating a new file called `hello.txt` and writing a string to it.\n\n"
         ],
         "cell_type" : "markdown",
         "metadata" : {}
      },
      {
         "cell_type" : "code",
         "source" : [
            "hello_path = os.path.join(notebook_path, 'hello.txt')\n\nwith open(hello_path, 'w') as f:\n    f.write('Hello, world!')"
         ],
         "outputs" : [],
         "metadata" : {},
         "execution_count" : 1
      },
      {
         "cell_type" : "markdown",
         "source" : [
            "After you run this code, check that the file now exists.\n\n"
         ],
         "metadata" : {}
      }
   ],
   "nbformat" : 4,
   "nbformat_minor" : 0,
   "metadata" : {
      "kernelspec" : {
         "display_name" : "Python 3",
         "language" : "python",
         "name" : "python3"
      },
      "org" : null,
      "language_info" : {
         "codemirror_mode" : {
            "name" : "ipython",
            "version" : 3
         },
         "version" : "3.5.2",
         "pygments_lexer" : "ipython3",
         "nbconvert_exporter" : "python",
         "mimetype" : "text/x-python",
         "name" : "python",
         "file_extension" : ".py"
      }
   }
}
