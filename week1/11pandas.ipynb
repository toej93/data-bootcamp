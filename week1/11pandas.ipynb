{
   "metadata" : {
      "language_info" : {
         "pygments_lexer" : "ipython3",
         "file_extension" : ".py",
         "version" : "3.5.2",
         "nbconvert_exporter" : "python",
         "name" : "python",
         "codemirror_mode" : {
            "version" : 3,
            "name" : "ipython"
         },
         "mimetype" : "text/x-python"
      },
      "kernelspec" : {
         "language" : "python",
         "display_name" : "Python 3",
         "name" : "python3"
      },
      "org" : null
   },
   "cells" : [
      {
         "metadata" : {},
         "cell_type" : "markdown",
         "source" : [
            "The term &ldquo;regression&rdquo; originated with the work of Galton on the\nheights of parents and their children.  How do you suppose a child&rsquo;s\nadult height is related to their parents&rsquo; heights?  Let&rsquo;s explore the\ndata.\n\nWe&rsquo;ll use `pandas`, which stands for &ldquo;Python Data Analysis Library&rdquo; or\nperhaps &ldquo;panel data,&rdquo; an econometrics term for multidimensional\nstructured data sets.  In any case, `pandas` is an open source,\nBSD-licensed library providing high-performance, easy-to-use data\nstructures and data analysis tools for Python.  It&rsquo;s popular, and its\nbasic conceit of **data frames** is widely used (e.g., in R).  Let&rsquo;s\nbegin by loading the `pandas` module.\n\n"
         ]
      },
      {
         "cell_type" : "code",
         "source" : [
            "import pandas as pd \nimport numpy as np\nimport matplotlib.pyplot as plt"
         ],
         "execution_count" : 1,
         "metadata" : {},
         "outputs" : []
      },
      {
         "cell_type" : "markdown",
         "source" : [
            "## Loading Galton's data\n\n"
         ],
         "metadata" : {}
      },
      {
         "metadata" : {},
         "source" : [
            "We read Galton&rsquo;s data into a data frame `df`.\n\n"
         ],
         "cell_type" : "markdown"
      },
      {
         "metadata" : {},
         "outputs" : [],
         "execution_count" : 1,
         "source" : [
            "df = pd.read_csv('galton.csv')"
         ],
         "cell_type" : "code"
      },
      {
         "metadata" : {},
         "cell_type" : "markdown",
         "source" : [
            "This data includes the parents&rsquo; heights and the child&rsquo;s eventual adult\nheight.  Here&rsquo;s some of the data.\n\n| mother|father|height|\n|---|---|---|\n| 67.0|78.5|69.2|\n| 67.0|78.5|69.0|\n| 67.0|78.5|69.0|\n| 66.5|75.5|73.5|\n| 66.5|75.5|72.5|\n| 66.5|75.5|65.5|\n| 66.5|75.5|65.5|\n\nYou can see the &ldquo;whole&rdquo; data frame by evaluating `df`.\n\n"
         ]
      },
      {
         "execution_count" : 1,
         "metadata" : {},
         "outputs" : [],
         "cell_type" : "code",
         "source" : [
            "df"
         ]
      },
      {
         "cell_type" : "markdown",
         "source" : [
            "You can get a quick overview with `describe`.\n\n"
         ],
         "metadata" : {}
      },
      {
         "cell_type" : "code",
         "source" : [
            "df.describe()"
         ],
         "execution_count" : 1,
         "metadata" : {},
         "outputs" : []
      },
      {
         "metadata" : {},
         "cell_type" : "markdown",
         "source" : [
            "## Some basic questions\n\n"
         ]
      },
      {
         "cell_type" : "markdown",
         "source" : [
            "Are the fathers generally taller than the mothers?\n\n"
         ],
         "metadata" : {}
      },
      {
         "execution_count" : 1,
         "metadata" : {},
         "outputs" : [],
         "cell_type" : "code",
         "source" : [
            "df.father.mean() > df.mother.mean()"
         ]
      },
      {
         "cell_type" : "markdown",
         "source" : [
            "Is it enough to compare the means like this?  We could also explore\nthis question by looking at histograms.\n\n"
         ],
         "metadata" : {}
      },
      {
         "cell_type" : "code",
         "source" : [
            "df.father.hist()\ndf.mother.hist()\nplt.show()"
         ],
         "execution_count" : 1,
         "outputs" : [],
         "metadata" : {}
      },
      {
         "cell_type" : "markdown",
         "source" : [
            "## Subsetting\n\n"
         ],
         "metadata" : {}
      },
      {
         "source" : [
            "A reason to love `pandas` is that it simplifies certain &ldquo;data\nwrangling&rdquo; tasks.  A common task is taking a subset.\n\nThe gender of the child is given by the `gender` column.\n\n"
         ],
         "cell_type" : "markdown",
         "metadata" : {}
      },
      {
         "source" : [
            "df.gender"
         ],
         "cell_type" : "code",
         "outputs" : [],
         "metadata" : {},
         "execution_count" : 1
      },
      {
         "source" : [
            "Let&rsquo;s see if daughters are taller than their mothers.  We&rsquo;ll filter\nusing the following.\n\n"
         ],
         "cell_type" : "markdown",
         "metadata" : {}
      },
      {
         "cell_type" : "code",
         "source" : [
            "daughters = df[df.gender == 'F']"
         ],
         "execution_count" : 1,
         "metadata" : {},
         "outputs" : []
      },
      {
         "source" : [
            "What sort of object is `df.gender == 'F'` ?  You should be feeling\nthat `pandas` is quite expressive!\n\n"
         ],
         "cell_type" : "markdown",
         "metadata" : {}
      },
      {
         "cell_type" : "code",
         "source" : [
            "daughters.describe()"
         ],
         "execution_count" : 1,
         "outputs" : [],
         "metadata" : {}
      },
      {
         "metadata" : {},
         "cell_type" : "markdown",
         "source" : [
            "The average height of the daughters is less than (but so close!) to\nthat of their mothers.  But is it enough to just look at the mean?\n\n"
         ]
      },
      {
         "metadata" : {},
         "cell_type" : "markdown",
         "source" : [
            "## Scatter plots\n\n"
         ]
      },
      {
         "source" : [
            "One feature of `pandas` is how accessible it makes the usual\n&ldquo;exploratory&rdquo; tools like scatterplots.  Indeed, when you are working\nwith data, ****first look at your data**** and some scatterplots are a\nreasonable way to do this.\n\nWe could plot the father&rsquo;s height on the $x$-axis and the child&rsquo;s eventual height on the $y$-axis.\n\n"
         ],
         "cell_type" : "markdown",
         "metadata" : {}
      },
      {
         "execution_count" : 1,
         "metadata" : {},
         "outputs" : [],
         "cell_type" : "code",
         "source" : [
            "df.plot.scatter('father', 'height')\nplt.show()"
         ]
      },
      {
         "metadata" : {},
         "cell_type" : "markdown",
         "source" : [
            "Or the mother&rsquo;s height on the $x$-axis and the child&rsquo;s eventual height on the $y$-axis.\n\n"
         ]
      },
      {
         "source" : [
            "df.plot.scatter('mother', 'height')\nplt.show()"
         ],
         "cell_type" : "code",
         "metadata" : {},
         "outputs" : [],
         "execution_count" : 1
      },
      {
         "metadata" : {},
         "source" : [
            "But `pandas` also permits various calculations to be performed on the\nrows.  Let&rsquo;s add a column to our data frame which is the average the\nheights of the two parents.\n\n"
         ],
         "cell_type" : "markdown"
      },
      {
         "cell_type" : "code",
         "source" : [
            "df['midparent'] = (df.father + df.mother)/2"
         ],
         "execution_count" : 1,
         "metadata" : {},
         "outputs" : []
      },
      {
         "source" : [
            "Now we could plot the midparent height on the $x$-axis instead.\n\n"
         ],
         "cell_type" : "markdown",
         "metadata" : {}
      },
      {
         "cell_type" : "code",
         "source" : [
            "df.plot.scatter('midparent', 'height')\nplt.show()"
         ],
         "execution_count" : 1,
         "metadata" : {},
         "outputs" : []
      },
      {
         "metadata" : {},
         "source" : [
            "I encourage you to look at the other methods available under `df.plot`\nto explore this dataset further.  This data is available at [a data\nrepository]([https://doi.org/10.7910/DVN/T0HSJ1](https://doi.org/10.7910/DVN/T0HSJ1)) and if you are looking\nfor other interesting data sets, I also encourage you to explore these\ndata repositories.\n\n"
         ],
         "cell_type" : "markdown"
      },
      {
         "cell_type" : "markdown",
         "source" : [
            "## Making predictions\n\n"
         ],
         "metadata" : {}
      },
      {
         "cell_type" : "markdown",
         "source" : [
            "Can we use Galton&rsquo;s data to predict the height of a child based on the\naverage height of his/her parents?\n\nThere are various ways to do this.  Perhaps the first thing to think\nto do is the following: to predict the height of a child whose\nmidparent height is $x$, let&rsquo;s look at &ldquo;neighbors&rdquo; meaning rows\nin the data frame where the midparent height is close to $x$.\n\n"
         ],
         "metadata" : {}
      },
      {
         "execution_count" : 1,
         "outputs" : [],
         "metadata" : {},
         "cell_type" : "code",
         "source" : [
            "def neighbors(x):\n    return df[ abs(df['midparent'] - x) < 2 ]"
         ]
      },
      {
         "metadata" : {},
         "cell_type" : "markdown",
         "source" : [
            "Once we have some &ldquo;neighbors,&rdquo; we can look at their average height.\n\n"
         ]
      },
      {
         "execution_count" : 1,
         "outputs" : [],
         "metadata" : {},
         "cell_type" : "code",
         "source" : [
            "def prediction(x):\n    return neighbors(x).height.mean()"
         ]
      },
      {
         "metadata" : {},
         "cell_type" : "markdown",
         "source" : [
            "Now let&rsquo;s plot our predictions.  Because `pandas` is built on\n`matplotlib` it is easy to combine plots from different sources.\n\n"
         ]
      },
      {
         "execution_count" : 1,
         "outputs" : [],
         "metadata" : {},
         "cell_type" : "code",
         "source" : [
            "df.plot.scatter('midparent', 'height')\nxs = np.linspace( df.midparent.min(), df.midparent.max(), 100 )\nplt.plot(xs, [prediction(x) for x in xs])\nplt.show()"
         ]
      },
      {
         "metadata" : {},
         "source" : [
            "That &ldquo;prediction line&rdquo; is wiggly, but certainly looks like a line!\nWhat line is it?  &ldquo;Linear regression&rdquo; is our next goal.\n\n"
         ],
         "cell_type" : "markdown"
      }
   ],
   "nbformat_minor" : 0,
   "nbformat" : 4
}
