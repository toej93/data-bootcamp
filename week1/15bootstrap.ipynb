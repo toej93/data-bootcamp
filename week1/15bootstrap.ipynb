{
   "nbformat" : 4,
   "nbformat_minor" : 0,
   "cells" : [
      {
         "source" : [
            "## Producing some fake data\n\n"
         ],
         "cell_type" : "markdown",
         "metadata" : {}
      },
      {
         "metadata" : {},
         "cell_type" : "markdown",
         "source" : [
            "Let&rsquo;s again use `numpy` to produce some fake data.\n\n"
         ]
      },
      {
         "execution_count" : 1,
         "outputs" : [],
         "metadata" : {},
         "cell_type" : "code",
         "source" : [
            "import numpy as np\n\np = 0.75\ntrials = 30\nflips = np.random.uniform(0,1,trials) < p"
         ]
      },
      {
         "cell_type" : "markdown",
         "source" : [
            "Think back to the `09coins` notebook and then think back to your\nhomework assignment that involved building a biased coin.  This is a\nsimilar setup, but perhaps you are impressed by how short the code is?\nClearly `numpy` is quite expressive.\n\n"
         ],
         "metadata" : {}
      },
      {
         "metadata" : {},
         "cell_type" : "markdown",
         "source" : [
            "### Play pretend\n\n"
         ]
      },
      {
         "source" : [
            "With this data, because we constructed it by hand, we already **know**\nthe truth: we flipped the biased coin `trials = 50` times, and `p =\n0.75` tells us exactly how the coin was weighted.  But let&rsquo;s pretend\nwe didn&rsquo;t know this; let&rsquo;s pretend we only saw the `flips` and we do\n**not** know `p`.\n\n"
         ],
         "cell_type" : "markdown",
         "metadata" : {}
      },
      {
         "metadata" : {},
         "source" : [
            "## Our first estimate\n\n"
         ],
         "cell_type" : "markdown"
      },
      {
         "metadata" : {},
         "source" : [
            "How then would we estimate `p`?  We&rsquo;d first take an average.\n\n"
         ],
         "cell_type" : "markdown"
      },
      {
         "source" : [
            "sum(flips) / trials"
         ],
         "cell_type" : "code",
         "execution_count" : 1,
         "outputs" : [],
         "metadata" : {}
      },
      {
         "cell_type" : "markdown",
         "source" : [
            "But how good is this estimate?  (If you don&rsquo;t quantify the error, $\\pi\n\\approx 17$).  Ideally, we&rsquo;d just flip the coin 50 more times, over\nand over again, i.e., just keep taking more random samples from the\npopulation.  If we draw random samples from a population and then look\nat the distribution of the estimates, we get the [sampling\ndistribution for a\nstatistic]([https://en.wikipedia.org/wiki/Sampling_distribution](https://en.wikipedia.org/wiki/Sampling_distribution)).\nRecall that is what we did in `09coins` but, in many real-world cases,\ngetting more data would be completely impractical.\n\nInstead of randomly drawing samples from the population (which we\ncan&rsquo;t easily do), we randomly draw samples from the **data we already\nhave**, i.e., from the empirical distribution of the observed data.\n\nThis technique is\n[bootstrapping]([https://en.wikipedia.org/wiki/Bootstrapping_(statistics)](https://en.wikipedia.org/wiki/Bootstrapping_(statistics)))\nand permits us to estimate the sampling distribution of statistics\ncomputed via complicated formulas.\n\n"
         ],
         "metadata" : {}
      },
      {
         "cell_type" : "markdown",
         "source" : [
            "## To a confidence interval\n\n"
         ],
         "metadata" : {}
      },
      {
         "metadata" : {},
         "cell_type" : "markdown",
         "source" : [
            "We perform the resampling with replacement (!) quite easily with\n`numpy`.\n\n"
         ]
      },
      {
         "execution_count" : 1,
         "outputs" : [],
         "metadata" : {},
         "cell_type" : "code",
         "source" : [
            "flips_resampled = np.random.choice(flips,size=trials,replace=True)"
         ]
      },
      {
         "cell_type" : "markdown",
         "source" : [
            "We can then compute the statistic on the resampled data.\n\n"
         ],
         "metadata" : {}
      },
      {
         "cell_type" : "code",
         "source" : [
            "sum(flips_resampled) / trials"
         ],
         "execution_count" : 1,
         "metadata" : {},
         "outputs" : []
      },
      {
         "cell_type" : "markdown",
         "source" : [
            "Let&rsquo;s repeat this `N = 10000` times.\n\n"
         ],
         "metadata" : {}
      },
      {
         "cell_type" : "code",
         "source" : [
            "N = 10000\nflips_resampled = np.random.choice(flips,size=(N,trials),replace=True)"
         ],
         "execution_count" : 1,
         "metadata" : {},
         "outputs" : []
      },
      {
         "metadata" : {},
         "cell_type" : "markdown",
         "source" : [
            "Now we compute means by summing along the appropriate axis.\n\n"
         ]
      },
      {
         "source" : [
            "means = np.sum( flips_resampled, axis=1 ) / trials"
         ],
         "cell_type" : "code",
         "execution_count" : 1,
         "outputs" : [],
         "metadata" : {}
      },
      {
         "metadata" : {},
         "source" : [
            "We can plot a histogram of the bootstrapped means.\n\n"
         ],
         "cell_type" : "markdown"
      },
      {
         "execution_count" : 1,
         "metadata" : {},
         "outputs" : [],
         "source" : [
            "import matplotlib.pyplot as plt \nplt.hist(means)\nplt.show()"
         ],
         "cell_type" : "code"
      },
      {
         "metadata" : {},
         "cell_type" : "markdown",
         "source" : [
            "We can use `np.percentile` to find a 95% confidence interval.\n\n"
         ]
      },
      {
         "cell_type" : "code",
         "source" : [
            "print( '95% CI [{},{}]'.format( np.percentile( means, 2.5 ), np.percentile( means, 97.5 ) ) )"
         ],
         "metadata" : {},
         "outputs" : [],
         "execution_count" : 1
      },
      {
         "cell_type" : "markdown",
         "source" : [
            "### No loops?\n\n"
         ],
         "metadata" : {}
      },
      {
         "source" : [
            "Are you surprised that we did not use any `for` loops in this calculation?\n\n"
         ],
         "cell_type" : "markdown",
         "metadata" : {}
      },
      {
         "metadata" : {},
         "source" : [
            "### What did people do historically?\n\n"
         ],
         "cell_type" : "markdown"
      },
      {
         "source" : [
            "What we&rsquo;re really doing here is computing a [binomial proportion\nconfidence interval]\n([https://en.wikipedia.org/wiki/Binomial_proportion_confidence_interval](https://en.wikipedia.org/wiki/Binomial_proportion_confidence_interval))\nand this might be computed by making some approximation, e.g.,\napproximating with a normal distribution.  With the bootstrap, we\ndon&rsquo;t need to make some assumption like this to facilitate an analytic\napproximation but instead rely on the computer to perform the\nresampling.  If we were to rely on such an approximation (which is not\nso bad when `trials` is large and `p` is far from 0 and 1), our\nconfidence interval is\n\n"
         ],
         "cell_type" : "markdown",
         "metadata" : {}
      },
      {
         "metadata" : {},
         "outputs" : [],
         "execution_count" : 1,
         "cell_type" : "code",
         "source" : [
            "radius = 1.96 * np.sqrt( sum(flips) * (trials - sum(flips) ) / trials ) / trials\nprint( '95% CI [{},{}]'.format( sum(flips) / trials - radius, sum(flips) / trials + radius ) )"
         ]
      },
      {
         "metadata" : {},
         "cell_type" : "markdown",
         "source" : [
            "## Your homework\n\n"
         ]
      },
      {
         "metadata" : {},
         "source" : [
            "### Other statistics\n\n"
         ],
         "cell_type" : "markdown"
      },
      {
         "metadata" : {},
         "cell_type" : "markdown",
         "source" : [
            "We&rsquo;ve used the bootstrap to produce a confidence interval for the\nmean.  Find some other data set you like, and do the same for the\nmedian (or the &ldquo;trimmed mean&rdquo;).\n\n"
         ]
      },
      {
         "source" : [
            "### Rewrite with loops\n\n"
         ],
         "cell_type" : "markdown",
         "metadata" : {}
      },
      {
         "cell_type" : "markdown",
         "source" : [
            "Take the code above (which carefully avoided loops) and reimplement it\n**with** some `for` loops.  How fast is your code?  (If you don&rsquo;t notice\na difference, increase `N` until you can feel it.)\n\n"
         ],
         "metadata" : {}
      }
   ],
   "metadata" : {
      "kernelspec" : {
         "language" : "python",
         "display_name" : "Python 3",
         "name" : "python3"
      },
      "language_info" : {
         "codemirror_mode" : {
            "version" : 3,
            "name" : "ipython"
         },
         "nbconvert_exporter" : "python",
         "mimetype" : "text/x-python",
         "version" : "3.5.2",
         "name" : "python",
         "pygments_lexer" : "ipython3",
         "file_extension" : ".py"
      },
      "org" : null
   }
}
