{
   "cells" : [
      {
         "metadata" : {},
         "source" : [
            "In this Jupyter notebook, you&rsquo;ll meet some of the basic data types in\nPython: numbers, strings, and lists.\n\nBefore executing each cell, take a moment to guess what will happen.\nIf your guess differs from what actually takes place, take the time to\nresolve the cognitive dissonance!\n\n"
         ],
         "cell_type" : "markdown"
      },
      {
         "metadata" : {},
         "source" : [
            "## Numbers\n\n"
         ],
         "cell_type" : "markdown"
      },
      {
         "source" : [
            "You can treat Jupyter notebooks as the nicest calculator you&rsquo;ve ever owned.\n\n"
         ],
         "metadata" : {},
         "cell_type" : "markdown"
      },
      {
         "source" : [
            "4 * 4 + 1"
         ],
         "metadata" : {},
         "outputs" : [],
         "cell_type" : "code",
         "execution_count" : 1
      },
      {
         "cell_type" : "markdown",
         "metadata" : {},
         "source" : [
            "You can assign values to variables to use them later.\n\n"
         ]
      },
      {
         "execution_count" : 1,
         "outputs" : [],
         "cell_type" : "code",
         "source" : [
            "x = 4\nx * x + 1"
         ],
         "metadata" : {}
      },
      {
         "cell_type" : "markdown",
         "source" : [
            "### Types\n\n"
         ],
         "metadata" : {}
      },
      {
         "source" : [
            "In Python, a number might be an `int`-eger.\n\n"
         ],
         "metadata" : {},
         "cell_type" : "markdown"
      },
      {
         "metadata" : {},
         "source" : [
            "type(17)"
         ],
         "outputs" : [],
         "cell_type" : "code",
         "execution_count" : 1
      },
      {
         "metadata" : {},
         "source" : [
            "A number might have a `float`-ing decimal point.\n\n"
         ],
         "cell_type" : "markdown"
      },
      {
         "outputs" : [],
         "cell_type" : "code",
         "metadata" : {},
         "source" : [
            "type(17.0)"
         ],
         "execution_count" : 1
      },
      {
         "source" : [
            "What happens when a calculation involving an `int` and an `int` would\nresult in something that isn&rsquo;t an `int`?\n\n"
         ],
         "metadata" : {},
         "cell_type" : "markdown"
      },
      {
         "source" : [
            "17 / 5"
         ],
         "metadata" : {},
         "outputs" : [],
         "cell_type" : "code",
         "execution_count" : 1
      },
      {
         "metadata" : {},
         "source" : [
            "You can check the `type` of a number as follows.\n\n"
         ],
         "cell_type" : "markdown"
      },
      {
         "outputs" : [],
         "cell_type" : "code",
         "metadata" : {},
         "source" : [
            "type(17 / 5)"
         ],
         "execution_count" : 1
      },
      {
         "source" : [
            "### More division\n\n"
         ],
         "metadata" : {},
         "cell_type" : "markdown"
      },
      {
         "execution_count" : 1,
         "cell_type" : "code",
         "outputs" : [],
         "metadata" : {},
         "source" : [
            "type(17 / 5)"
         ]
      },
      {
         "source" : [
            "What if you instead use `//`?\n\n"
         ],
         "metadata" : {},
         "cell_type" : "markdown"
      },
      {
         "execution_count" : 1,
         "source" : [
            "17 // 5"
         ],
         "metadata" : {},
         "cell_type" : "code",
         "outputs" : []
      },
      {
         "source" : [
            "We refer to `//` as *floor division*.\n\n"
         ],
         "metadata" : {},
         "cell_type" : "markdown"
      },
      {
         "execution_count" : 1,
         "metadata" : {},
         "source" : [
            "17 % 5"
         ],
         "cell_type" : "code",
         "outputs" : []
      },
      {
         "source" : [
            "What name would we give to `%`?  The percent sign has a slash in it,\nso perhaps it has something to do with division.\n\n"
         ],
         "metadata" : {},
         "cell_type" : "markdown"
      },
      {
         "source" : [
            "### Misconceptions\n\n"
         ],
         "metadata" : {},
         "cell_type" : "markdown"
      },
      {
         "cell_type" : "markdown",
         "metadata" : {},
         "source" : [
            "A common misconception arises with the following notation.\n\n"
         ]
      },
      {
         "execution_count" : 1,
         "cell_type" : "code",
         "outputs" : [],
         "source" : [
            "17^5"
         ],
         "metadata" : {}
      },
      {
         "metadata" : {},
         "source" : [
            "Try `17**5` instead.  What operation does `^` denote?\n\n"
         ],
         "cell_type" : "markdown"
      },
      {
         "source" : [
            "### Who is afraid of floating point arithmetic?\n\n"
         ],
         "metadata" : {},
         "cell_type" : "markdown"
      },
      {
         "metadata" : {},
         "source" : [
            "Are you worried generally about floating point arithmetic?\n\n"
         ],
         "cell_type" : "markdown"
      },
      {
         "execution_count" : 1,
         "source" : [
            "one = 0.35 + 0.30 + 0.35\none == 1.0"
         ],
         "metadata" : {},
         "outputs" : [],
         "cell_type" : "code"
      },
      {
         "metadata" : {},
         "source" : [
            "How ought *one* generally deal with situations like the above?\n\n"
         ],
         "cell_type" : "markdown"
      },
      {
         "cell_type" : "markdown",
         "metadata" : {},
         "source" : [
            "## Strings\n\n"
         ]
      },
      {
         "cell_type" : "markdown",
         "metadata" : {},
         "source" : [
            "Not all data is numeric.  Think of a &ldquo;string&rdquo; of characters like beads\non a string.  You can `print` a string.\n\n"
         ]
      },
      {
         "execution_count" : 1,
         "source" : [
            "multiline = 'Use backspace n like this\\nto insert a newline'\nprint(multiline)"
         ],
         "metadata" : {},
         "outputs" : [],
         "cell_type" : "code"
      },
      {
         "cell_type" : "markdown",
         "metadata" : {},
         "source" : [
            "### Length\n\n"
         ]
      },
      {
         "cell_type" : "markdown",
         "metadata" : {},
         "source" : [
            "Can you guess what the function `len` does?\n\n"
         ]
      },
      {
         "metadata" : {},
         "source" : [
            "big = 'gigantic'\nlen(big)"
         ],
         "cell_type" : "code",
         "outputs" : [],
         "execution_count" : 1
      },
      {
         "metadata" : {},
         "source" : [
            "### Concatenation\n\n"
         ],
         "cell_type" : "markdown"
      },
      {
         "execution_count" : 1,
         "source" : [
            "'concat' + 'enation'"
         ],
         "metadata" : {},
         "outputs" : [],
         "cell_type" : "code"
      },
      {
         "cell_type" : "markdown",
         "source" : [
            "### Replace\n\n"
         ],
         "metadata" : {}
      },
      {
         "metadata" : {},
         "source" : [
            "Python is &ldquo;object-oriented&rdquo; and like many such languages, &ldquo;methods&rdquo;\nare called on objects using dot notation.  Below we call `replace` on\nthe string `x`.\n\n"
         ],
         "cell_type" : "markdown"
      },
      {
         "metadata" : {},
         "source" : [
            "x = 'the input'\nx.replace('in', 'out')"
         ],
         "outputs" : [],
         "cell_type" : "code",
         "execution_count" : 1
      },
      {
         "metadata" : {},
         "source" : [
            "****A common misconception.**** What is the output of the code below?\nMake sure to make your guess before executing the cell.\n\n"
         ],
         "cell_type" : "markdown"
      },
      {
         "cell_type" : "code",
         "outputs" : [],
         "metadata" : {},
         "source" : [
            "x = 'the input'\nx.replace('in', 'out')\nprint(x)"
         ],
         "execution_count" : 1
      },
      {
         "cell_type" : "markdown",
         "source" : [
            "### Strip\n\n"
         ],
         "metadata" : {}
      },
      {
         "cell_type" : "markdown",
         "metadata" : {},
         "source" : [
            "Much of data science involves *cleaning* poorly formatted data.  One\nmethod useful for this task is `strip` but can you describe what it\ndoes?\n\n"
         ]
      },
      {
         "metadata" : {},
         "source" : [
            "data = '   \\n \\n    some data  \\n \\n \\n    \\n '\ndata.strip()"
         ],
         "cell_type" : "code",
         "outputs" : [],
         "execution_count" : 1
      },
      {
         "cell_type" : "markdown",
         "metadata" : {},
         "source" : [
            "Check your guess on the meaning of `strip` by predicting what the\nfollowing cell evaluates to.\n\n"
         ]
      },
      {
         "execution_count" : 1,
         "metadata" : {},
         "source" : [
            "more_data = '   \\n \\n    some\\nmore\\ndata  \\n \\n \\n    \\n '\nmore_data.strip()"
         ],
         "outputs" : [],
         "cell_type" : "code"
      },
      {
         "source" : [
            "### Format\n\n"
         ],
         "metadata" : {},
         "cell_type" : "markdown"
      },
      {
         "cell_type" : "markdown",
         "source" : [
            "You can use the `format` method to produce output.\n\n"
         ],
         "metadata" : {}
      },
      {
         "cell_type" : "code",
         "outputs" : [],
         "metadata" : {},
         "source" : [
            "'build {} strings with {}'.format('complicated', 'format')"
         ],
         "execution_count" : 1
      },
      {
         "metadata" : {},
         "source" : [
            "You can also use named arguments.\n\n"
         ],
         "cell_type" : "markdown"
      },
      {
         "metadata" : {},
         "source" : [
            "'A {animal} is a {animal} of course.  His name is Mister {name}.'.format(animal='horse', name='Ed')"
         ],
         "outputs" : [],
         "cell_type" : "code",
         "execution_count" : 1
      },
      {
         "source" : [
            "## Lists\n\n"
         ],
         "metadata" : {},
         "cell_type" : "markdown"
      },
      {
         "metadata" : {},
         "source" : [
            "In Python, we produce lists of values with `[` and `]`.\n\n"
         ],
         "cell_type" : "markdown"
      },
      {
         "metadata" : {},
         "source" : [
            "### Building lists\n\n"
         ],
         "cell_type" : "markdown"
      },
      {
         "execution_count" : 1,
         "metadata" : {},
         "source" : [
            "xs = [2, 5, 17]\nlen(xs)"
         ],
         "outputs" : [],
         "cell_type" : "code"
      },
      {
         "cell_type" : "markdown",
         "metadata" : {},
         "source" : [
            "There is also the empty list.\n\n"
         ]
      },
      {
         "cell_type" : "code",
         "outputs" : [],
         "source" : [
            "empty = []\nlen(empty)"
         ],
         "metadata" : {},
         "execution_count" : 1
      },
      {
         "cell_type" : "markdown",
         "source" : [
            "Unlike in some languages, you can mix together various values of\ndiffering `type` in your lists.\n\n"
         ],
         "metadata" : {}
      },
      {
         "execution_count" : 1,
         "cell_type" : "code",
         "outputs" : [],
         "metadata" : {},
         "source" : [
            "[4,'things that are', ['different'], 0.1]"
         ]
      },
      {
         "cell_type" : "markdown",
         "source" : [
            "Note that your lists can contain lists!\n\n"
         ],
         "metadata" : {}
      },
      {
         "metadata" : {},
         "source" : [
            "[[9, 5, 1], [6, 5], [0, 9, 4, 5], [3, 7, 5]]"
         ],
         "outputs" : [],
         "cell_type" : "code",
         "execution_count" : 1
      },
      {
         "cell_type" : "markdown",
         "source" : [
            "### Accessing entries\n\n"
         ],
         "metadata" : {}
      },
      {
         "metadata" : {},
         "source" : [
            "In the list `xs`, reference the `index` entry with `xs[index]`.  Try\nthe code below.  Do you expect to see a 4 or an 8?\n\n"
         ],
         "cell_type" : "markdown"
      },
      {
         "execution_count" : 1,
         "source" : [
            "xs = [1, 2, 4, 8, 16, 32, 64]\nxs[3]"
         ],
         "metadata" : {},
         "cell_type" : "code",
         "outputs" : []
      },
      {
         "metadata" : {},
         "source" : [
            "Can you guess what the output of the cell below?\n\n"
         ],
         "cell_type" : "markdown"
      },
      {
         "outputs" : [],
         "cell_type" : "code",
         "source" : [
            "xs = [[9, 5, 1], [6, 5], [0, 9, 4, 5], [3, 7, 5]]\nxs[2][3]"
         ],
         "metadata" : {},
         "execution_count" : 1
      },
      {
         "cell_type" : "markdown",
         "source" : [
            "### Modifying entries\n\n"
         ],
         "metadata" : {}
      },
      {
         "metadata" : {},
         "source" : [
            "You can modify lists by placing `xs[index]` on the left-hand side of an assignment.\n\n"
         ],
         "cell_type" : "markdown"
      },
      {
         "outputs" : [],
         "cell_type" : "code",
         "metadata" : {},
         "source" : [
            "xs = [5, 8, 2, 4]\nxs[1] = 3\nprint(xs)"
         ],
         "execution_count" : 1
      },
      {
         "source" : [
            "Sometimes students misunderstand the effect of the code below.  Can\nyou guess what will be printed?  If you are right, can you explain\nwhy?\n\n"
         ],
         "metadata" : {},
         "cell_type" : "markdown"
      },
      {
         "metadata" : {},
         "source" : [
            "xs = [5, 8, 2, 4]\nys = xs\nxs[1] = 3\nprint(ys)"
         ],
         "cell_type" : "code",
         "outputs" : [],
         "execution_count" : 1
      },
      {
         "cell_type" : "markdown",
         "metadata" : {},
         "source" : [
            "### Methods\n\n"
         ]
      },
      {
         "cell_type" : "markdown",
         "source" : [
            "Add new values to the end of a list with `append`.\n\n"
         ],
         "metadata" : {}
      },
      {
         "metadata" : {},
         "source" : [
            "xs = [0, 2, 4, 6]\nxs.append(8)\nprint(xs)"
         ],
         "cell_type" : "code",
         "outputs" : [],
         "execution_count" : 1
      },
      {
         "cell_type" : "markdown",
         "source" : [
            "Can you remove entries with `remove`.\n\n"
         ],
         "metadata" : {}
      },
      {
         "metadata" : {},
         "source" : [
            "xs = [0, 2, 4, 6]\nxs.remove(4)\nprint(xs)"
         ],
         "outputs" : [],
         "cell_type" : "code",
         "execution_count" : 1
      },
      {
         "cell_type" : "markdown",
         "source" : [
            "### Sorting lists\n\n"
         ],
         "metadata" : {}
      },
      {
         "execution_count" : 1,
         "source" : [
            "sorted([4, 3, 3, 7, 2, 7, 7, 2, 10, 6])"
         ],
         "metadata" : {},
         "outputs" : [],
         "cell_type" : "code"
      },
      {
         "cell_type" : "markdown",
         "metadata" : {},
         "source" : [
            "There is also a `sort` method.\n\n"
         ]
      },
      {
         "execution_count" : 1,
         "cell_type" : "code",
         "outputs" : [],
         "metadata" : {},
         "source" : [
            "x = [4, 3, 3, 7, 2, 7, 7, 2, 10, 6]\nx.sort()\nx"
         ]
      },
      {
         "cell_type" : "markdown",
         "source" : [
            "There is a mistake in the code below.  Can you fix it?\n\n"
         ],
         "metadata" : {}
      },
      {
         "execution_count" : 1,
         "source" : [
            "x = [4, 3, 3, 7, 2, 7, 7, 2, 10, 6]\nprint(x.sort())"
         ],
         "metadata" : {},
         "outputs" : [],
         "cell_type" : "code"
      },
      {
         "cell_type" : "markdown",
         "source" : [
            "## Lists and strings\n\n"
         ],
         "metadata" : {}
      },
      {
         "cell_type" : "markdown",
         "metadata" : {},
         "source" : [
            "The expressive power of any language, including programming languages,\narises because the various pieces of the language are *composable* and\nrelated to each other in complicated way.  How do lists and strings\nrelate?\n\n"
         ]
      },
      {
         "source" : [
            "### From lists to strings\n\n"
         ],
         "metadata" : {},
         "cell_type" : "markdown"
      },
      {
         "outputs" : [],
         "cell_type" : "code",
         "metadata" : {},
         "source" : [
            "animals = ['cat', 'dog', 'cow', 'python']\n', '.join(animals)"
         ],
         "execution_count" : 1
      },
      {
         "source" : [
            "### From strings to lists\n\n"
         ],
         "metadata" : {},
         "cell_type" : "markdown"
      },
      {
         "cell_type" : "code",
         "outputs" : [],
         "source" : [
            "sentence = 'This is a string of words but I want a list.'\nsentence.split()"
         ],
         "metadata" : {},
         "execution_count" : 1
      }
   ],
   "nbformat_minor" : 0,
   "nbformat" : 4,
   "metadata" : {
      "kernelspec" : {
         "language" : "python",
         "name" : "python3",
         "display_name" : "Python 3"
      },
      "org" : null,
      "language_info" : {
         "version" : "3.5.2",
         "mimetype" : "text/x-python",
         "name" : "python",
         "codemirror_mode" : {
            "name" : "ipython",
            "version" : 3
         },
         "nbconvert_exporter" : "python",
         "pygments_lexer" : "ipython3",
         "file_extension" : ".py"
      }
   }
}
