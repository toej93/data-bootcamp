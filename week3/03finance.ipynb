{
 "cells": [
  {
   "cell_type": "markdown",
   "metadata": {},
   "source": [
    "Another source for high-dimensional data comes from finance.\n",
    "\n"
   ]
  },
  {
   "cell_type": "markdown",
   "metadata": {},
   "source": [
    "## Load real world data\n",
    "\n"
   ]
  },
  {
   "cell_type": "markdown",
   "metadata": {},
   "source": [
    "Let&rsquo;s load some stock prices.\n",
    "\n"
   ]
  },
  {
   "cell_type": "code",
   "execution_count": 13,
   "metadata": {},
   "outputs": [],
   "source": [
    "import os, json\n",
    "files = [f for f in os.listdir('/Users/neutrino/Desktop/Python_bootcamp/data-bootcamp/week3/stocks') if f.endswith('.json')]\n",
    "\n",
    "data = {}\n",
    "symbols = []\n",
    "for name in files:\n",
    "    with open(os.path.join('/Users/neutrino/Desktop/Python_bootcamp/data-bootcamp/week3/stocks/', name),'r') as f:\n",
    "        d = json.load(f)\n",
    "        symbol = d['Meta Data']['2. Symbol']\n",
    "        symbols.append( symbol )\n",
    "        data[ symbol ] = d['Time Series (Daily)']"
   ]
  },
  {
   "cell_type": "markdown",
   "metadata": {},
   "source": [
    "Convert it to a `pandas` data frame.\n",
    "\n"
   ]
  },
  {
   "cell_type": "code",
   "execution_count": 14,
   "metadata": {},
   "outputs": [],
   "source": [
    "import pandas as pd\n",
    "\n",
    "market = pd.DataFrame(columns=['date'])\n",
    "\n",
    "for symbol in data.keys():\n",
    "    dates = pd.DataFrame( pd.to_datetime( list(data[symbol].keys()) ), columns=['date'] )\n",
    "    closes = pd.DataFrame( [float(x['5. adjusted close']) for x in data[symbol].values()], columns=[symbol] )\n",
    "    df = pd.DataFrame( pd.concat( [dates, closes], axis=1 ) )\n",
    "    market = market.merge( df, how='outer' )"
   ]
  },
  {
   "cell_type": "markdown",
   "metadata": {},
   "source": [
    "## Make a plot\n",
    "\n"
   ]
  },
  {
   "cell_type": "markdown",
   "metadata": {},
   "source": [
    "Let&rsquo;s &ldquo;wrangle&rdquo; this data into our desired format.\n",
    "\n"
   ]
  },
  {
   "cell_type": "code",
   "execution_count": 15,
   "metadata": {},
   "outputs": [
    {
     "name": "stdout",
     "output_type": "stream",
     "text": [
      "(9, 100)\n"
     ]
    }
   ],
   "source": [
    "import numpy as np\n",
    "prices = market.drop('date',axis=1)\n",
    "symbols = list(prices.columns)\n",
    "X = np.array([prices[s] for s in symbols])\n",
    "print(X.shape)"
   ]
  },
  {
   "cell_type": "markdown",
   "metadata": {},
   "source": [
    "This is much too high-dimensional for us to plot.  Let&rsquo;s do some\n",
    "unsupervised dimensionality reduction.  Let&rsquo;s first normalize\n",
    "everything.\n",
    "\n"
   ]
  },
  {
   "cell_type": "code",
   "execution_count": 17,
   "metadata": {},
   "outputs": [],
   "source": [
    "from sklearn.preprocessing import StandardScaler\n",
    "ss = StandardScaler()\n",
    "ss.fit(X.transpose())\n",
    "X2 = ss.transform(X.transpose())\n",
    "X2 = X2.transpose()"
   ]
  },
  {
   "cell_type": "markdown",
   "metadata": {},
   "source": [
    "Then we&rsquo;ll perform PCA.\n",
    "\n"
   ]
  },
  {
   "cell_type": "code",
   "execution_count": 18,
   "metadata": {},
   "outputs": [],
   "source": [
    "from sklearn.decomposition import PCA\n",
    "pca = PCA(n_components=2)\n",
    "pca.fit(X2)  \n",
    "X3 = pca.transform(X2)"
   ]
  },
  {
   "cell_type": "markdown",
   "metadata": {},
   "source": [
    "Plot it!\n",
    "\n"
   ]
  },
  {
   "cell_type": "code",
   "execution_count": 20,
   "metadata": {},
   "outputs": [
    {
     "data": {
      "image/png": "[encoded data removed]",
      "text/plain": [
       "<Figure size 432x288 with 1 Axes>"
      ]
     },
     "metadata": {
      "needs_background": "light"
     },
     "output_type": "display_data"
    }
   ],
   "source": [
    "import matplotlib.pyplot as plt\n",
    "plt.scatter( X3[:,0], X3[:,1] )\n",
    "for i, w in enumerate(symbols):\n",
    "    plt.text( X3[i,0], X3[i,1], w )\n",
    "plt.show()"
   ]
  },
  {
   "cell_type": "markdown",
   "metadata": {},
   "source": [
    "It looks Facebook and Apple are similar.\n",
    "\n"
   ]
  },
  {
   "cell_type": "code",
   "execution_count": null,
   "metadata": {},
   "outputs": [],
   "source": [
    "import matplotlib.pyplot as plt\n",
    "plt.scatter( prices['FB'], prices['AAPL'] )\n",
    "plt.show()"
   ]
  },
  {
   "cell_type": "markdown",
   "metadata": {},
   "source": [
    "Compare Toyota to Google.\n",
    "\n"
   ]
  },
  {
   "cell_type": "code",
   "execution_count": null,
   "metadata": {},
   "outputs": [],
   "source": [
    "import matplotlib.pyplot as plt\n",
    "plt.scatter( prices['TM'], prices['GOOG'] )\n",
    "plt.show()"
   ]
  },
  {
   "cell_type": "markdown",
   "metadata": {},
   "source": [
    "Dig further into this data.\n",
    "\n"
   ]
  }
 ],
 "metadata": {
  "kernelspec": {
   "display_name": "Python 3",
   "language": "python",
   "name": "python3"
  },
  "language_info": {
   "codemirror_mode": {
    "name": "ipython",
    "version": 3
   },
   "file_extension": ".py",
   "mimetype": "text/x-python",
   "name": "python",
   "nbconvert_exporter": "python",
   "pygments_lexer": "ipython3",
   "version": "3.7.0"
  },
  "org": null
 },
 "nbformat": 4,
 "nbformat_minor": 1
}
