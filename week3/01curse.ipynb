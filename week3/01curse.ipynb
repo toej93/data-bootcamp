{
 "cells": [
  {
   "cell_type": "markdown",
   "metadata": {},
   "source": [
    "## The curse of dimensionality\n",
    "\n"
   ]
  },
  {
   "cell_type": "markdown",
   "metadata": {},
   "source": [
    "We&rsquo;ll consider various metric properties of $\\mathbb{R}^n$.  We&rsquo;ll\n",
    "find that there&rsquo;s more space than you might think in higher\n",
    "dimensions, which should serve as a warning to you: when your data\n",
    "sits in some high-dimensional space, you are in danger of having\n",
    "sparser data than you might expect!  This is the **curse of\n",
    "dimensionality** and it motivates various dimension-reduction\n",
    "procedures that we&rsquo;ll be studying this week.\n",
    "\n",
    "The story we tell here &#x2013; particularly that the volume of the $n$-ball\n",
    "reaches a maximum (!) &#x2013; is not only an important observation for data\n",
    "science but also for geometry and, well, for mathematics.\n",
    "\n"
   ]
  },
  {
   "cell_type": "markdown",
   "metadata": {},
   "source": [
    "## The volume of a hypersphere\n",
    "\n"
   ]
  },
  {
   "cell_type": "markdown",
   "metadata": {},
   "source": [
    "The volume of the $n$-ball can be computed as follows.\n",
    "\n"
   ]
  },
  {
   "cell_type": "code",
   "execution_count": 1,
   "metadata": {},
   "outputs": [
    {
     "name": "stdout",
     "output_type": "stream",
     "text": [
      "3.141592653589793\n"
     ]
    }
   ],
   "source": [
    "import numpy as np\n",
    "from scipy.special import gamma\n",
    "\n",
    "def volume_ball(n,r):\n",
    "    return (np.pi ** (n/2)) * (r**n) / gamma( 1 + n/2 )\n",
    "print(volume_ball(2,1))"
   ]
  },
  {
   "cell_type": "markdown",
   "metadata": {},
   "source": [
    "But this is a data science course, so let&rsquo;s see if we can &ldquo;check&rdquo; this\n",
    "formula via some monte carlo method.\n",
    "\n",
    "****Warning:**** I&rsquo;ve purposefully included a typo in the code below.  Can\n",
    "you catch it and fix the bug?q\n",
    "\n"
   ]
  },
  {
   "cell_type": "code",
   "execution_count": 2,
   "metadata": {},
   "outputs": [],
   "source": [
    "import numpy as np\n",
    "\n",
    "def volume_ball_mc(n,r):\n",
    "    count = 100000\n",
    "    points = np.random.uniform( -r, r, size=(count,n) )\n",
    "    cube_volume = (2*r)**n\n",
    "    #print(\"cube volume is\", cube_volume)\n",
    "    # There is a bug somewhere in this code!  Find it, fix it\n",
    "    sphere_to_cube = np.sum(np.linalg.norm(points,axis=1) < r) / count\n",
    "    #print(\"Sphere to cube is\", sphere_to_cube)\n",
    "    return cube_volume * sphere_to_cube"
   ]
  },
  {
   "cell_type": "markdown",
   "metadata": {},
   "source": [
    "Our definition of `volume_ball` involved `np.pi` but there&rsquo;s no $\\pi$\n",
    "in `volume_ball_mc`.  Let&rsquo;s estimate it!  This also serves as a quick\n",
    "check that you fixed the bug.\n",
    "\n"
   ]
  },
  {
   "cell_type": "code",
   "execution_count": 3,
   "metadata": {},
   "outputs": [
    {
     "name": "stdout",
     "output_type": "stream",
     "text": [
      "3.14832\n",
      "3.141592653589793\n",
      "3.14778\n"
     ]
    }
   ],
   "source": [
    "print(volume_ball_mc(2,1))\n",
    "print(volume_ball(2,1))\n",
    "print(volume_ball_mc(3,1)*3/4)"
   ]
  },
  {
   "cell_type": "markdown",
   "metadata": {},
   "source": [
    "****Plot these**** as functions of $n$.\n",
    "\n",
    "For which $n$ is `volume_ball(n,1)` the largest?\n",
    "\n",
    "In `volume_ball_mc`, play with `count` and consider say `n = 20`.  How\n",
    "likely is a point in a high-dimensional cube to also be in a\n",
    "high-dimensional sphere?\n",
    "\n"
   ]
  },
  {
   "cell_type": "code",
   "execution_count": 4,
   "metadata": {},
   "outputs": [
    {
     "data": {
      "text/plain": [
       "(0, 10)"
      ]
     },
     "execution_count": 4,
     "metadata": {},
     "output_type": "execute_result"
    }
   ],
   "source": [
    "import matplotlib.pyplot as plt\n",
    "plt.plot([x for x in np.linspace(0, 50, 100)],[volume_ball(n,1) for n in np.linspace(0, 50, 100)],'*')\n",
    "plt.plot([x for x in range(0, 50)],[volume_ball_mc(n,1) for n in range(0, 50)],'*')\n",
    "plt.xlim(0,10)\n"
   ]
  },
  {
   "cell_type": "markdown",
   "metadata": {},
   "source": [
    "## Distance to nearest neighbors\n",
    "\n"
   ]
  },
  {
   "cell_type": "markdown",
   "metadata": {},
   "source": [
    "Let&rsquo;s again consider randomly chosen points in $\\mathbb{R}^n$.  How\n",
    "far do we expect each point is to nearby neighbors?\n",
    "\n"
   ]
  },
  {
   "cell_type": "code",
   "execution_count": 5,
   "metadata": {},
   "outputs": [],
   "source": [
    "import scipy.spatial\n",
    "\n",
    "def nearest_neighbor_distances(points, k):\n",
    "    neighbors = []\n",
    "    tree = scipy.spatial.cKDTree(points)\n",
    "    dd, ii = tree.query(points, k=range(2,2+k))\n",
    "    return dd\n",
    "\n",
    "def average_knn_distance(n):\n",
    "    count = 10000\n",
    "    points = np.random.uniform( -1, 1, size=(count,n) )\n",
    "    return np.mean( nearest_neighbor_distances( points, 1 ) )"
   ]
  },
  {
   "cell_type": "markdown",
   "metadata": {},
   "source": [
    "Plot `average_knn_distance` for various values of `n`.  Does this\n",
    "worry you at all?  Even when $n$ isn&rsquo;t **that** large, $\\mathbb{R}^n$ is\n",
    "a lonely place.  When we do clustering, we&rsquo;ll often care about\n",
    "pairwise distances, so we must face this problem.  One way out is\n",
    "through various **dimensionality reduction** algorithms.\n",
    "\n"
   ]
  },
  {
   "cell_type": "code",
   "execution_count": 8,
   "metadata": {},
   "outputs": [
    {
     "data": {
      "text/plain": [
       "[<matplotlib.lines.Line2D at 0x1175b0d30>]"
      ]
     },
     "execution_count": 8,
     "metadata": {},
     "output_type": "execute_result"
    },
    {
     "data": {
      "image/png": "[encoded data removed]",
      "text/plain": [
       "<Figure size 432x288 with 1 Axes>"
      ]
     },
     "metadata": {
      "needs_background": "light"
     },
     "output_type": "display_data"
    }
   ],
   "source": [
    "plt.plot([x for x in range(0, 20)],[average_knn_distance(x) for x in range(0, 20)])"
   ]
  },
  {
   "cell_type": "code",
   "execution_count": null,
   "metadata": {},
   "outputs": [],
   "source": []
  }
 ],
 "metadata": {
  "kernelspec": {
   "display_name": "Python 3",
   "language": "python",
   "name": "python3"
  },
  "language_info": {
   "codemirror_mode": {
    "name": "ipython",
    "version": 3
   },
   "file_extension": ".py",
   "mimetype": "text/x-python",
   "name": "python",
   "nbconvert_exporter": "python",
   "pygments_lexer": "ipython3",
   "version": "3.7.0"
  },
  "org": null
 },
 "nbformat": 4,
 "nbformat_minor": 1
}
