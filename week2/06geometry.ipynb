{
   "nbformat" : 4,
   "nbformat_minor" : 0,
   "cells" : [
      {
         "metadata" : {},
         "cell_type" : "markdown",
         "source" : [
            "Use stochastic gradient descent to arrange 12 points on the unit\nsphere minimizing the sum of the reciprocals of the squared distances\nbetween distinct points.  (The loss function in this case is a sum\nover **pairs** of points.)\n\n"
         ]
      },
      {
         "source" : [
            "## Plotting points in 3-D\n\n"
         ],
         "metadata" : {},
         "cell_type" : "markdown"
      },
      {
         "metadata" : {},
         "cell_type" : "markdown",
         "source" : [
            "Let&rsquo;s use `mpl_toolkits` to enable the `projection='3d'` option in\n`plt.axes`.\n\n"
         ]
      },
      {
         "outputs" : [],
         "execution_count" : 1,
         "source" : [
            "import numpy as np\nimport matplotlib.pyplot as plt\nfrom mpl_toolkits import mplot3d\n\nN = 12\n\ndef plot(points):\n    fig = plt.figure()\n    ax = plt.axes(projection='3d')\n    for i in range(N):\n        for j in range(i+1,N):\n            p = np.array([points[i], points[j]])\n            ax.plot(p[:,0], p[:,1], p[:,2])\n    ax.scatter(points[:,0], points[:,1], points[:,2], c='b', s=200)\n    plt.show()\n\nplot( np.random.uniform(-1,1,size=(N,3)) )"
         ],
         "cell_type" : "code",
         "metadata" : {}
      },
      {
         "source" : [
            "## Normalizing to the sphere\n\n"
         ],
         "metadata" : {},
         "cell_type" : "markdown"
      },
      {
         "source" : [
            "Use `np.linalg.norm` to normalize the points to the unit sphere.\n\n"
         ],
         "cell_type" : "markdown",
         "metadata" : {}
      },
      {
         "execution_count" : 1,
         "outputs" : [],
         "source" : [
            "def normalize(points):\n    return points / np.linalg.norm(points, axis=1)[:, np.newaxis]\n\ndef random_points():\n    return normalize( np.random.uniform(-1,1,size=(N,3)) )\n\nplot( random_points() )"
         ],
         "metadata" : {},
         "cell_type" : "code"
      },
      {
         "metadata" : {},
         "cell_type" : "markdown",
         "source" : [
            "## Our cost function\n\n"
         ]
      },
      {
         "execution_count" : 1,
         "outputs" : [],
         "metadata" : {},
         "cell_type" : "code",
         "source" : [
            "def cost(points):\n    raise Exception('You implement this.')"
         ]
      },
      {
         "source" : [
            "We can get an idea of the distribution of our cost function by\nsampling random configurations.\n\n"
         ],
         "metadata" : {},
         "cell_type" : "markdown"
      },
      {
         "metadata" : {},
         "cell_type" : "code",
         "source" : [
            "plt.hist( [cost( random_points() ) for _ in range(100)] )\nplt.show()"
         ],
         "execution_count" : 1,
         "outputs" : []
      },
      {
         "cell_type" : "markdown",
         "metadata" : {},
         "source" : [
            "Let&rsquo;s &ldquo;zoom in&rdquo; on the left hand side.\n\n"
         ]
      },
      {
         "execution_count" : 1,
         "outputs" : [],
         "metadata" : {},
         "cell_type" : "code",
         "source" : [
            "samples = np.array([cost( random_points() ) for _ in range(10000)])\nsamples = samples[ samples < 300 ]\nplt.hist( samples )\nplt.show()"
         ]
      },
      {
         "cell_type" : "markdown",
         "metadata" : {},
         "source" : [
            "Can we get much lower?\n\n"
         ]
      },
      {
         "cell_type" : "markdown",
         "metadata" : {},
         "source" : [
            "## SGD ftw\n\n"
         ]
      },
      {
         "cell_type" : "markdown",
         "metadata" : {},
         "source" : [
            "Now it is your turn to compute the gradient.\n\n"
         ]
      },
      {
         "cell_type" : "code",
         "metadata" : {},
         "source" : [
            "def sgd_step(points, eta):\n    g = np.zeros((len(points),3))\n\n    # pick a random pair of points\n    i, j = np.random.choice( range(len(points)), size = 2, replace=False )\n\n    raise Exception('You compute grad ( 1 / distance(points[i],points[j])**2 )')\n\n    return normalize( points - eta * g )"
         ],
         "outputs" : [],
         "execution_count" : 1
      },
      {
         "source" : [
            "We guess an appropriate decay for the learning rate.\n\n"
         ],
         "cell_type" : "markdown",
         "metadata" : {}
      },
      {
         "metadata" : {},
         "cell_type" : "code",
         "source" : [
            "def sgd(points, steps):\n    for t in range(steps): \n        eta = 0.02 * (0.9999 ** (t / N))\n        points = sgd_step(points, eta)\n        print( cost(points) )\n    return points\n\npoints = random_points()\npoints = sgd( points, 10000 )\nplot(points)"
         ],
         "outputs" : [],
         "execution_count" : 1
      },
      {
         "source" : [
            "What does this plot look like?\n\n"
         ],
         "metadata" : {},
         "cell_type" : "markdown"
      }
   ],
   "metadata" : {
      "org" : null,
      "language_info" : {
         "pygments_lexer" : "ipython3",
         "name" : "python",
         "codemirror_mode" : {
            "version" : 3,
            "name" : "ipython"
         },
         "version" : "3.5.2",
         "nbconvert_exporter" : "python",
         "mimetype" : "text/x-python",
         "file_extension" : ".py"
      },
      "kernelspec" : {
         "name" : "python3",
         "language" : "python",
         "display_name" : "Python 3"
      }
   }
}
