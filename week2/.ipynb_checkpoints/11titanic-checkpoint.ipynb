{
 "cells": [
  {
   "cell_type": "markdown",
   "metadata": {},
   "source": [
    "One great source of both data **and** community is Kaggle.\n",
    "\n",
    "Go to [https://www.kaggle.com/c/titanic/data>](https://www.kaggle.com/c/titanic/data>)to download data\n",
    "describing passengers from the Titanic, and whether or not they\n",
    "survived their voyage.  Can you use logistic regression (or any other\n",
    "techniques!) to predict who surived?  (Perhaps &ldquo;predict&rdquo; is something\n",
    "of a misnomer since the Titanic has already sunk!)\n",
    "\n"
   ]
  }
 ],
 "metadata": {
  "kernelspec": {
   "display_name": "Python 3",
   "language": "python",
   "name": "python3"
  },
  "language_info": {
   "codemirror_mode": {
    "name": "ipython",
    "version": 3
   },
   "file_extension": ".py",
   "mimetype": "text/x-python",
   "name": "python",
   "nbconvert_exporter": "python",
   "pygments_lexer": "ipython3",
   "version": "3.7.0"
  },
  "org": null
 },
 "nbformat": 4,
 "nbformat_minor": 1
}
