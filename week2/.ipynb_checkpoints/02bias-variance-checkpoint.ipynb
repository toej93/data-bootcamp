{
 "cells": [
  {
   "cell_type": "markdown",
   "metadata": {},
   "source": [
    "## What does learning mean?\n",
    "\n"
   ]
  },
  {
   "cell_type": "markdown",
   "metadata": {},
   "source": [
    "What does &ldquo;learning&rdquo; even mean?  At a given $x$, what we **measure** is\n",
    "$y = f(x) + \\epsilon$ where $f$ is some (deterministic!) function and\n",
    "$\\epsilon$ is noise with mean 0 and variance $\\sigma^2$.  By\n",
    "performing many measurements, we get many pairs $(x_i,y_i)$.  Via some\n",
    "supervised learning algorithm, we produce a function $\\hat{f}$.\n",
    "\n",
    "Hopefully $(y - \\hat{f}(x))^2$ is small.  If we succeed in producing\n",
    "such an $\\hat{f}$, we might say &ldquo;we have learned $f$.&rdquo;\n",
    "\n"
   ]
  },
  {
   "cell_type": "markdown",
   "metadata": {},
   "source": [
    "## Bias and variance\n",
    "\n"
   ]
  },
  {
   "cell_type": "markdown",
   "metadata": {},
   "source": [
    "We define bias by $\\mathrm{Bias}[\\hat{f}(x)] =\n",
    "\\mathbb{E}[\\hat{f}(x)] - f(x)$.  This is the difference between the\n",
    "expected prediction of our model and the truth.\n",
    "\n",
    "We define variance by $\\mathrm{Var}[\\hat{f}(x)] =\n",
    "\\mathbb{E}[\\hat{f}(x)^2] - \\mathbb{E}[\\hat{f}(x)]^2$.  This is\n",
    "capturing the variability of the model prediction.\n",
    "\n",
    "Then just **from algebra** we note that, for a previously unseen sample $x$, $\\mathbb{E}\\left[ (y -\n",
    "\\hat{f}(x))^2 \\right] = \\left( \\mathrm{Bias}[\\hat{f}(x)] \\right)^2 +\n",
    "\\mathrm{Var}[\\hat{f}(x)] + \\sigma^2$.  But $\\mathbb{E}\\left[ (y -\n",
    "\\hat{f}(x))^2 \\right]$ is the expected value of the squared error\n",
    "between what we see ($y$) and what our model predicts ($\\hat{f}(x)$),\n",
    "and the algebra then shows this to be the sum of three nonnegative\n",
    "terms.  The noise in our data (with variance $\\sigma^2$) provides a\n",
    "lower bound for the expected error on unseen data.\n",
    "\n",
    "The consequence is a ****bias-variance tradeoff****.  There are low-bias,\n",
    "high-variance models like k-nearest neighbors; there are high-bias,\n",
    "low-variance models like linear regression.\n",
    "\n"
   ]
  },
  {
   "cell_type": "markdown",
   "metadata": {},
   "source": [
    "## Produce some fake data to see this\n",
    "\n"
   ]
  },
  {
   "cell_type": "markdown",
   "metadata": {},
   "source": [
    "We recall how we handled this back for polynomial fitting.\n",
    "\n"
   ]
  },
  {
   "cell_type": "code",
   "execution_count": 1,
   "metadata": {},
   "outputs": [],
   "source": [
    "import matplotlib.pyplot as plt\n",
    "import numpy as np\n",
    "\n",
    "N = 15\n",
    "\n",
    "f = np.sin\n",
    "min_x = 0\n",
    "max_x = 3*np.pi\n",
    "\n",
    "def noise():\n",
    "    return np.random.normal(0,0.5,N)\n",
    "\n",
    "def some_data():\n",
    "    xs = np.random.uniform(min_x, max_x,N)\n",
    "    xs = np.sort(xs)\n",
    "    ys = f(xs) + noise()\n",
    "    xs = xs.reshape(N,1)\n",
    "    ys = ys.reshape(N,1)\n",
    "    return xs, ys"
   ]
  },
  {
   "cell_type": "markdown",
   "metadata": {},
   "source": [
    "Earlier we said $y = f(x) + \\epsilon$, and here we wrote `ys = f(xs) + noise()`.  \n",
    "\n",
    "As always, we ****look at our data**** before continuing.\n",
    "\n"
   ]
  },
  {
   "cell_type": "code",
   "execution_count": 2,
   "metadata": {},
   "outputs": [
    {
     "data": {
      "image/png": "[encoded data removed]",
      "text/plain": [
       "<Figure size 432x288 with 1 Axes>"
      ]
     },
     "metadata": {
      "needs_background": "light"
     },
     "output_type": "display_data"
    }
   ],
   "source": [
    "xs, ys = some_data()\n",
    "\n",
    "import matplotlib.pyplot as plt\n",
    "plt.scatter(xs,ys)\n",
    "plt.show()"
   ]
  },
  {
   "cell_type": "markdown",
   "metadata": {},
   "source": [
    "Let&rsquo;s pick a test point `x_test`.\n",
    "\n"
   ]
  },
  {
   "cell_type": "code",
   "execution_count": 4,
   "metadata": {},
   "outputs": [],
   "source": [
    "x_test = (max_x + min_x)/2.0\n",
    "\n",
    "def y_test():\n",
    "    return f(x_test) + noise()[0]"
   ]
  },
  {
   "cell_type": "markdown",
   "metadata": {},
   "source": [
    "## The model\n",
    "\n"
   ]
  },
  {
   "cell_type": "markdown",
   "metadata": {},
   "source": [
    "We said that we&rsquo;d produce a function $\\hat{f}$.  Let&rsquo;s do that now.\n",
    "In this case, $\\hat{f}$ will be denoted `fhat(d,x)` where `d` refers\n",
    "to the degree of the polynomial approximation.\n",
    "\n"
   ]
  },
  {
   "cell_type": "code",
   "execution_count": 48,
   "metadata": {},
   "outputs": [
    {
     "name": "stdout",
     "output_type": "stream",
     "text": [
      "[array([[6.45921101]]), array([[-3.96139619]])]\n"
     ]
    }
   ],
   "source": [
    "from sklearn.linear_model import LinearRegression\n",
    "from sklearn.preprocessing import PolynomialFeatures\n",
    "\n",
    "def fhat(d, x):\n",
    "    xs, ys = some_data()\n",
    "\n",
    "    polynomial_features = PolynomialFeatures(degree=d)\n",
    "    xs_poly = polynomial_features.fit_transform(xs)\n",
    "    model = LinearRegression().fit( xs_poly, ys )\n",
    "\n",
    "    x_poly = polynomial_features.fit_transform([[x]])\n",
    "    y_predicted = model.predict( x_poly )\n",
    "\n",
    "    return y_predicted\n",
    "\n",
    "#print(some_data())\n",
    "y_sin = [fhat(3,d) for d in (0,16)]\n",
    "print(y_sin)\n",
    "\n",
    "x_plot = range(0,16)\n",
    "#y_sin = range \n",
    "\n",
    "#plt.plot(x_plot, y_sin)"
   ]
  },
  {
   "cell_type": "markdown",
   "metadata": {},
   "source": [
    "Note that `fhat` is stochastic.\n",
    "\n"
   ]
  },
  {
   "cell_type": "markdown",
   "metadata": {},
   "source": [
    "## Expectation, in Python\n",
    "\n"
   ]
  },
  {
   "cell_type": "markdown",
   "metadata": {},
   "source": [
    "To make the Python look more like &ldquo;mathematics,&rdquo; define expected value\n",
    "as follows.\n",
    "\n"
   ]
  },
  {
   "cell_type": "code",
   "execution_count": 10,
   "metadata": {},
   "outputs": [],
   "source": [
    "def expectation(g):\n",
    "    return np.mean( [g() for _ in range(1000) ] )"
   ]
  },
  {
   "cell_type": "markdown",
   "metadata": {},
   "source": [
    "Then we can write code like this.\n",
    "\n"
   ]
  },
  {
   "cell_type": "code",
   "execution_count": 11,
   "metadata": {},
   "outputs": [
    {
     "data": {
      "text/plain": [
       "16.98950610300785"
      ]
     },
     "execution_count": 11,
     "metadata": {},
     "output_type": "execute_result"
    }
   ],
   "source": [
    "expectation(lambda: np.random.normal(17,1) )"
   ]
  },
  {
   "cell_type": "markdown",
   "metadata": {},
   "source": [
    "Hopefully $(y - \\hat{f}(x))^2$ is small.  If we succeed in producing\n",
    "such an $\\hat{f}$, we say that we&rsquo;ve learned $f$.\n",
    "\n"
   ]
  },
  {
   "cell_type": "markdown",
   "metadata": {},
   "source": [
    "## Bias and variance\n",
    "\n"
   ]
  },
  {
   "cell_type": "markdown",
   "metadata": {},
   "source": [
    "We want to control $\\mathbb{E}\\left[ (y - \\hat{f}(x))^2 \\right]$.\n",
    "Using a degree $d$ model, we denote this quantity by `error(d)`.\n",
    "\n"
   ]
  },
  {
   "cell_type": "code",
   "execution_count": 12,
   "metadata": {},
   "outputs": [],
   "source": [
    "def error(d):\n",
    "    return expectation( lambda: (y_test() - fhat(d,x_test)) ** 2 )"
   ]
  },
  {
   "cell_type": "markdown",
   "metadata": {},
   "source": [
    "Recall that $\\mathrm{Bias}[\\hat{f}(x)] = \\mathbb{E}[\\hat{f}(x)] - f(x)$.\n",
    "\n"
   ]
  },
  {
   "cell_type": "code",
   "execution_count": 13,
   "metadata": {},
   "outputs": [],
   "source": [
    "def bias(d):\n",
    "    return (expectation( lambda: fhat(d,x_test) ) - f(x_test) )"
   ]
  },
  {
   "cell_type": "markdown",
   "metadata": {},
   "source": [
    "Recall $\\mathrm{Var}[\\hat{f}(x)] = \\mathbb{E}[\\hat{f}(x)^2] - \\mathbb{E}[\\hat{f}(x)]^2$.\n",
    "\n"
   ]
  },
  {
   "cell_type": "code",
   "execution_count": 14,
   "metadata": {},
   "outputs": [],
   "source": [
    "def variance(d):\n",
    "    return expectation( lambda: fhat(d,x_test) ** 2 ) - expectation( lambda: fhat(d,x_test) ) ** 2"
   ]
  },
  {
   "cell_type": "markdown",
   "metadata": {},
   "source": [
    "Then we can see how bias and variance are affected by degree, which\n",
    "plays the role of model complexity.\n",
    "\n"
   ]
  },
  {
   "cell_type": "code",
   "execution_count": 16,
   "metadata": {},
   "outputs": [
    {
     "data": {
      "image/png": "[encoded data removed]",
      "text/plain": [
       "<Figure size 432x288 with 1 Axes>"
      ]
     },
     "metadata": {
      "needs_background": "light"
     },
     "output_type": "display_data"
    }
   ],
   "source": [
    "degrees = range(1,9)\n",
    "plt.plot(degrees, [bias(d)**2 for d in degrees],label='squared bias')\n",
    "plt.plot(degrees, [variance(d) for d in degrees],label='variance')\n",
    "plt.plot(degrees, [error(d) for d in degrees], label='error')\n",
    "plt.legend()\n",
    "plt.xlabel('degree')\n",
    "plt.ylabel('error')\n",
    "plt.show()"
   ]
  },
  {
   "cell_type": "code",
   "execution_count": null,
   "metadata": {},
   "outputs": [],
   "source": []
  }
 ],
 "metadata": {
  "kernelspec": {
   "display_name": "Python 3",
   "language": "python",
   "name": "python3"
  },
  "language_info": {
   "codemirror_mode": {
    "name": "ipython",
    "version": 3
   },
   "file_extension": ".py",
   "mimetype": "text/x-python",
   "name": "python",
   "nbconvert_exporter": "python",
   "pygments_lexer": "ipython3",
   "version": "3.7.0"
  },
  "org": null
 },
 "nbformat": 4,
 "nbformat_minor": 1
}
