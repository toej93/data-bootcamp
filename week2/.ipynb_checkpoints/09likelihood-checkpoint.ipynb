{
 "cells": [
  {
   "cell_type": "markdown",
   "metadata": {},
   "source": [
    "The **likelihood** is a probability of the joint occurence of the\n",
    "observations for specified values of the parameters of the model.  In\n",
    "short, it describes how likely we are to see the data assuming a given\n",
    "model.\n",
    "\n",
    "The critical insight is the following: armed with an expression for\n",
    "the likelihood, we can choose the model parameters that are most\n",
    "plausible given our observations.  Specifically, we obtain the\n",
    "parameter estimates by finding the parameter values that maximize the\n",
    "likelihood function.\n",
    "\n",
    "Let&rsquo;s try this in order to perform **logistic regression** (something of\n",
    "a misnomer since we&rsquo;re treating it as a classifier!).\n",
    "\n"
   ]
  },
  {
   "cell_type": "markdown",
   "metadata": {},
   "source": [
    "## Computing likelihood\n",
    "\n"
   ]
  },
  {
   "cell_type": "markdown",
   "metadata": {},
   "source": [
    "We can find an expression for the likelihood.\n",
    "\n",
    "We have parameters $\\beta_1, \\ldots, \\beta_n$ along with an intercept\n",
    "$\\beta_0$, and we define $p(x)$ so that $\\log \\frac{p(x)}{1 - p(x)} = \\sum \\beta_i x_i +\n",
    "\\beta_0)$.\n",
    "\n",
    "Suppose we have $N$ input vectors $x_1, \\ldots, x_N$ which are each\n",
    "classified with a corresponding $y_i \\in \\{ 0, 1 \\}$.  Then the\n",
    "likelihood of making those observations (assuming our model is\n",
    "correctly estimating the &ldquo;actual&rdquo; probability!) is $\\prod_{i=1}^N\n",
    "p(x_i)^{y_i} ( 1 - p(x_i) )^{1 - y_i}$.\n",
    "\n",
    "Instead of maximizing likelihood, we will maximize the log likelihood\n",
    "which conveniently replaces the product with a sum.\n",
    "\n"
   ]
  },
  {
   "cell_type": "markdown",
   "metadata": {},
   "source": [
    "## Some fake data\n",
    "\n"
   ]
  },
  {
   "cell_type": "code",
   "execution_count": 18,
   "metadata": {},
   "outputs": [],
   "source": [
    "from sklearn.datasets import make_blobs\n",
    "\n",
    "N = 100\n",
    "points, labels = make_blobs(n_samples=N, centers=2, cluster_std=1, n_features=2)"
   ]
  },
  {
   "cell_type": "markdown",
   "metadata": {},
   "source": [
    "## The model\n",
    "\n"
   ]
  },
  {
   "cell_type": "markdown",
   "metadata": {},
   "source": [
    "In this case, there are there parameters to the model.  We&rsquo;ll call\n",
    "them `bx` and `by` and `b0`.  Then for a point $(x,y)$ in the plane,\n",
    "define $p(x,y) = \\sigma( b_x \\cdot x + b_y \\cdot y + b_0 )$ which is\n",
    "the probability that the point $(x,y)$ receives the $1$ label.\n",
    "\n"
   ]
  },
  {
   "cell_type": "code",
   "execution_count": 19,
   "metadata": {},
   "outputs": [
    {
     "data": {
      "image/png": "[encoded data removed]",
      "text/plain": [
       "<Figure size 432x288 with 1 Axes>"
      ]
     },
     "metadata": {
      "needs_background": "light"
     },
     "output_type": "display_data"
    }
   ],
   "source": [
    "from scipy.special import expit\n",
    "\n",
    "def p(x, y, bx, by, b0):\n",
    "    return expit( bx * x + by * y + b0 )\n",
    "\n",
    "plt.scatter(points[:,0], points[:,1]);"
   ]
  },
  {
   "cell_type": "markdown",
   "metadata": {},
   "source": [
    "## The cost function\n",
    "\n"
   ]
  },
  {
   "cell_type": "markdown",
   "metadata": {},
   "source": [
    "We want to maximize the likelihood, or alternatively minimize the\n",
    "negative of the log likelihood.  Let&rsquo;s make our cost function be the\n",
    "negative of the log likelihood.\n",
    "\n"
   ]
  },
  {
   "cell_type": "code",
   "execution_count": 20,
   "metadata": {},
   "outputs": [],
   "source": [
    "def cost(bx, by, b0):\n",
    "    result = 0\n",
    "    for i in range(N):\n",
    "        pp = p( points[i,0], points[i,1], bx, by, b0 )\n",
    "        if pp == 1.0 or pp == 0.0:\n",
    "            continue\n",
    "        if labels[i] == 0:\n",
    "            result = result + math.log( 1 - pp )\n",
    "        else:\n",
    "            result = result + math.log( pp )\n",
    "    return -result"
   ]
  },
  {
   "cell_type": "markdown",
   "metadata": {},
   "source": [
    "## Optimizing\n",
    "\n"
   ]
  },
  {
   "cell_type": "markdown",
   "metadata": {},
   "source": [
    "There are a number of solvers in `scikit-learn`.\n",
    "\n",
    "A terrible idea is just to randomly try a bunch of things and see how small we can make things.\n",
    "\n"
   ]
  },
  {
   "cell_type": "code",
   "execution_count": 21,
   "metadata": {},
   "outputs": [
    {
     "data": {
      "image/png": "[encoded data removed]",
      "text/plain": [
       "<Figure size 432x288 with 1 Axes>"
      ]
     },
     "metadata": {
      "needs_background": "light"
     },
     "output_type": "display_data"
    }
   ],
   "source": [
    "import matplotlib.pyplot as plt\n",
    "import numpy as np\n",
    "import math\n",
    "\n",
    "plt.hist( [ cost(*np.random.normal( 0, 2, size=3 )) for _ in range(100)] )\n",
    "plt.show()"
   ]
  },
  {
   "cell_type": "markdown",
   "metadata": {},
   "source": [
    "Let&rsquo;s identify one of those low-cost choices.\n",
    "\n"
   ]
  },
  {
   "cell_type": "code",
   "execution_count": 35,
   "metadata": {},
   "outputs": [
    {
     "name": "stdout",
     "output_type": "stream",
     "text": [
      "2.235153263601623\n",
      "0.09965322752982694\n",
      "0.004505702246841358\n"
     ]
    }
   ],
   "source": [
    "best = [1,2,3]\n",
    "best_cost = cost( *best ) ##* takes a list as arguments. For example, the argument here is best=[1,2,3]\n",
    "#print(best_cost)\n",
    "for _ in range(100):\n",
    "    b = np.random.normal( 0, 1, size=3 )\n",
    "    if cost(*b) < best_cost:\n",
    "        best = b\n",
    "        best_cost = cost(*best)\n",
    "        print(best_cost)"
   ]
  },
  {
   "cell_type": "markdown",
   "metadata": {},
   "source": [
    "Let&rsquo;s plot it!\n",
    "\n"
   ]
  },
  {
   "cell_type": "code",
   "execution_count": 36,
   "metadata": {},
   "outputs": [
    {
     "data": {
      "image/png": "[encoded data removed]",
      "text/plain": [
       "<Figure size 288x216 with 1 Axes>"
      ]
     },
     "metadata": {
      "needs_background": "light"
     },
     "output_type": "display_data"
    }
   ],
   "source": [
    "import matplotlib.pyplot as plt\n",
    "\n",
    "x_min, x_max = points[:, 0].min() - .5, points[:, 0].max() + .5\n",
    "y_min, y_max = points[:, 1].min() - .5, points[:, 1].max() + .5\n",
    "h = 0.1\n",
    "xx, yy = np.meshgrid(np.arange(x_min, x_max, h), np.arange(y_min, y_max, h))\n",
    "\n",
    "def predict(point):\n",
    "    return p( point[0], point[1], *best) > 0.5\n",
    "\n",
    "Z = np.array([predict(p) for p in np.c_[xx.ravel(), yy.ravel()]])\n",
    "\n",
    "Z = Z.reshape(xx.shape)\n",
    "plt.figure(1, figsize=(4, 3))\n",
    "plt.pcolormesh(xx, yy, Z, cmap=plt.cm.Paired)\n",
    "plt.scatter( points[:,0], points[:,1] )\n",
    "plt.show()"
   ]
  },
  {
   "cell_type": "markdown",
   "metadata": {},
   "source": [
    "If you like this sort of thing, you could try using our SGD code to\n",
    "attack this problem.\n",
    "\n"
   ]
  }
 ],
 "metadata": {
  "kernelspec": {
   "display_name": "Python 3",
   "language": "python",
   "name": "python3"
  },
  "language_info": {
   "codemirror_mode": {
    "name": "ipython",
    "version": 3
   },
   "file_extension": ".py",
   "mimetype": "text/x-python",
   "name": "python",
   "nbconvert_exporter": "python",
   "pygments_lexer": "ipython3",
   "version": "3.7.0"
  },
  "org": null
 },
 "nbformat": 4,
 "nbformat_minor": 1
}
