{
 "cells": [
  {
   "cell_type": "markdown",
   "metadata": {},
   "source": [
    "A **cost function** is sometimes called a **loss** function.  Speaking\n",
    "very generally, this is some quantity to be minimized.  In our\n",
    "specific context, the &ldquo;cost&rdquo; is a measure of the wrongness of the\n",
    "model, and we want to wiggle the parameters to minimize this\n",
    "wrongness.\n",
    "\n",
    "Because we want to get a look inside the black boxes, we&rsquo;ll play with\n",
    "this idea just using `numpy` and **without** using the whole power of\n",
    "`scikit-learn`.\n",
    "\n"
   ]
  },
  {
   "cell_type": "code",
   "execution_count": 1,
   "metadata": {},
   "outputs": [],
   "source": [
    "import numpy as np\n",
    "import matplotlib.pyplot as plt"
   ]
  },
  {
   "cell_type": "markdown",
   "metadata": {},
   "source": [
    "## The fake data\n",
    "\n"
   ]
  },
  {
   "cell_type": "markdown",
   "metadata": {},
   "source": [
    "Let&rsquo;s generate some fake data.\n",
    "\n"
   ]
  },
  {
   "cell_type": "code",
   "execution_count": 17,
   "metadata": {},
   "outputs": [
    {
     "data": {
      "image/png": "[encoded data removed]",
      "text/plain": [
       "<Figure size 432x288 with 1 Axes>"
      ]
     },
     "metadata": {
      "needs_background": "light"
     },
     "output_type": "display_data"
    },
    {
     "name": "stdout",
     "output_type": "stream",
     "text": [
      "2.4560870994742814 -1.2984297613766587\n"
     ]
    }
   ],
   "source": [
    "N = 100\n",
    "original_m = m = np.random.normal(1,2)\n",
    "original_b = b = np.random.normal(1,2)\n",
    "X = np.random.uniform(5,10,N)\n",
    "y = m * X + b + np.random.normal(0,0.1,N)\n",
    "\n",
    "plt.scatter(X,y)\n",
    "plt.show()\n",
    "print(m,b)"
   ]
  },
  {
   "cell_type": "markdown",
   "metadata": {},
   "source": [
    "As we&rsquo;ve rigged it, these `N` data points are near the line `y = mx + b`.\n",
    "\n",
    "Let&rsquo;s forget that we know about `m` and `b`, and try to **deduce** `m`\n",
    "and `b` from the data `X` and `y`.\n",
    "\n"
   ]
  },
  {
   "cell_type": "markdown",
   "metadata": {},
   "source": [
    "## The cost function\n",
    "\n"
   ]
  },
  {
   "cell_type": "markdown",
   "metadata": {},
   "source": [
    "Given parameters `m` and `b`, the average of the squared errors can\n",
    "serve as our cost function.\n",
    "\n"
   ]
  },
  {
   "cell_type": "code",
   "execution_count": 18,
   "metadata": {},
   "outputs": [],
   "source": [
    "def cost(m,b):\n",
    "    return np.mean( (y - (m * X + b)) ** 2 )"
   ]
  },
  {
   "cell_type": "markdown",
   "metadata": {},
   "source": [
    "Note that even our chosen value of `m` and `b` doesn&rsquo;t make\n",
    "`cost(m,b)` vanish, because there is some noise in the data `y`.\n",
    "\n"
   ]
  },
  {
   "cell_type": "markdown",
   "metadata": {},
   "source": [
    "## Minimizing cost\n",
    "\n"
   ]
  },
  {
   "cell_type": "markdown",
   "metadata": {},
   "source": [
    "In this case, we have **least squares** available to us to minimize the\n",
    "cost function.\n",
    "\n"
   ]
  },
  {
   "cell_type": "code",
   "execution_count": 19,
   "metadata": {},
   "outputs": [
    {
     "name": "stdout",
     "output_type": "stream",
     "text": [
      "0.00863879698817109\n",
      "0.008475041187454391\n",
      "goal is 0.009475041187454392\n",
      "2.460701821254178 -1.3442673224282673\n",
      "2.4560870994742814 -1.2984297613766587\n"
     ]
    },
    {
     "name": "stderr",
     "output_type": "stream",
     "text": [
      "/Users/neutrino/Library/Python/3.7/lib/python/site-packages/ipykernel_launcher.py:1: FutureWarning: `rcond` parameter will change to the default of machine precision times ``max(M, N)`` where M and N are the input matrix dimensions.\n",
      "To use the future default and silence this warning we advise to pass `rcond=None`, to keep using the old, explicitly pass `rcond=-1`.\n",
      "  \"\"\"Entry point for launching an IPython kernel.\n"
     ]
    }
   ],
   "source": [
    "(best_m, best_b) = np.linalg.lstsq([[x,1] for x in X], y)[0]\n",
    "print(cost(original_m,original_b))\n",
    "print(cost(best_m,best_b))\n",
    "goal = cost(best_m,best_b) + 0.001\n",
    "print(\"goal is\", goal)\n",
    "print(best_m,best_b)\n",
    "print(m,b)"
   ]
  },
  {
   "cell_type": "markdown",
   "metadata": {},
   "source": [
    "## Stochastic gradient descent\n",
    "\n"
   ]
  },
  {
   "cell_type": "markdown",
   "metadata": {},
   "source": [
    "If we are standing at $(m,b)$, we could likely reduce $Q$ by moving in\n",
    "the direction of negative gradient.  So we subtract off the a small\n",
    "multiple of the gradient of $Q$; this multiple is $\\eta$, the\n",
    "**learning rate**.  We let $\\eta$ decay as we repeat this procedure of\n",
    "**gradient descent**.\n",
    "\n",
    "Note that `cost` has a special structure, namely it is the average $Q$\n",
    "of cost functions $Q_i$ associated to the $i$th data point.  That is,\n",
    "$Q(m,b)={\\frac {1}{N}}\\sum_{i=1}^{N}Q_{i}(m,b)$.  Often $N$ is very\n",
    "large and computing $\\nabla Q_i$ could be expensive, so we shuffle the\n",
    "indices and only subtract off a few $\\nabla Q_i$&rsquo;s.  This is\n",
    "**stochastic** gradient descent.\n",
    "\n",
    "For this example, let&rsquo;s just subtract one of the $Q_i$ by randomly\n",
    "choosing an index with `np.random.randint(0,len(X))`.\n",
    "\n"
   ]
  },
  {
   "cell_type": "code",
   "execution_count": 20,
   "metadata": {},
   "outputs": [],
   "source": [
    "def sgd_step(m,b,eta):\n",
    "    i = np.random.randint(0,len(X))\n",
    "    gradm = 2*X[i]*(m*X[i] + b - y[i])\n",
    "    gradb = 2*(m*X[i] + b - y[i])\n",
    "    return ( m - eta * gradm, b - eta * gradb )"
   ]
  },
  {
   "cell_type": "markdown",
   "metadata": {},
   "source": [
    "We pick random values of `m` and `b`, and then repeat this `sgd_step`\n",
    "until our `cost` function is small enough.  As we do so, the learning\n",
    "rate decays.\n",
    "\n"
   ]
  },
  {
   "cell_type": "code",
   "execution_count": 21,
   "metadata": {},
   "outputs": [
    {
     "data": {
      "text/plain": [
       "[<matplotlib.lines.Line2D at 0x1136df7b8>]"
      ]
     },
     "execution_count": 21,
     "metadata": {},
     "output_type": "execute_result"
    },
    {
     "data": {
      "image/png": "[encoded data removed]",
      "text/plain": [
       "<Figure size 432x288 with 1 Axes>"
      ]
     },
     "metadata": {
      "needs_background": "light"
     },
     "output_type": "display_data"
    }
   ],
   "source": [
    "goal_list=[]\n",
    "def sgd():\n",
    "    m, b = np.random.normal(size=2)\n",
    "    t = 1\n",
    "    while cost(m,b) > goal:\n",
    "        eta = 0.01 * (0.99 ** (t / N))\n",
    "        t = t + 1\n",
    "        m, b = sgd_step(m, b, eta)\n",
    "        #print( cost(m,b) )\n",
    "        goal_list.append(cost(m,b))\n",
    "    return m, b\n",
    "\n",
    "sgd()\n",
    "plt.plot(goal_list[:])"
   ]
  },
  {
   "cell_type": "code",
   "execution_count": 22,
   "metadata": {},
   "outputs": [
    {
     "name": "stdout",
     "output_type": "stream",
     "text": [
      "[0, 1, 2, 3, 4, 5, 6, 7, 8, 9]\n"
     ]
    }
   ],
   "source": [
    "newlist = [x for x in range(10)]\n",
    "print(newlist)"
   ]
  },
  {
   "cell_type": "code",
   "execution_count": 24,
   "metadata": {},
   "outputs": [
    {
     "data": {
      "text/plain": [
       "(0, 0.1)"
      ]
     },
     "execution_count": 24,
     "metadata": {},
     "output_type": "execute_result"
    },
    {
     "data": {
      "image/png": "[encoded data removed]",
      "text/plain": [
       "<Figure size 432x288 with 1 Axes>"
      ]
     },
     "metadata": {
      "needs_background": "light"
     },
     "output_type": "display_data"
    }
   ],
   "source": [
    "#plt.scatter(goal_list,[x for x in range(len(goal_list))])\n",
    "plt.plot(goal_list)\n",
    "plt.xlim(10,6000);\n",
    "plt.ylim(0,0.1)"
   ]
  },
  {
   "cell_type": "code",
   "execution_count": null,
   "metadata": {},
   "outputs": [],
   "source": []
  },
  {
   "cell_type": "code",
   "execution_count": null,
   "metadata": {},
   "outputs": [],
   "source": []
  }
 ],
 "metadata": {
  "kernelspec": {
   "display_name": "Python 3",
   "language": "python",
   "name": "python3"
  },
  "language_info": {
   "codemirror_mode": {
    "name": "ipython",
    "version": 3
   },
   "file_extension": ".py",
   "mimetype": "text/x-python",
   "name": "python",
   "nbconvert_exporter": "python",
   "pygments_lexer": "ipython3",
   "version": "3.7.0"
  },
  "org": null
 },
 "nbformat": 4,
 "nbformat_minor": 1
}
