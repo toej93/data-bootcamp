{
 "cells": [
  {
   "cell_type": "markdown",
   "metadata": {},
   "source": [
    "We&rsquo;ve previously done some regression (to predict quantities) and some\n",
    "classification (to predict a label).  But sometimes what we really\n",
    "want is to phrase our predictions as **probabilities**.\n",
    "\n",
    "As usual, each $x$ is is a vector and the corresponding $y \\in \\{ 0, 1\n",
    "\\}$ is the desired label.  On an unseen $x$, our model should produce\n",
    "a **probability** that the corresponding $y$ is $0$ or $1$.  We write\n",
    "$p(x)$ for this model.  In other words, we are building a **stochastic\n",
    "model** because the outputs are probabilities rather than a specific\n",
    "classification.  We can still produce a classifier from our stochastic\n",
    "model: if the model outputs a probability $> 1/2$ then we output $1$,\n",
    "and if the model outputs a probability $< 1/2$ then we output $0$.\n",
    "\n"
   ]
  },
  {
   "cell_type": "markdown",
   "metadata": {},
   "source": [
    "## The logistic function\n",
    "\n"
   ]
  },
  {
   "cell_type": "markdown",
   "metadata": {},
   "source": [
    "For us, &ldquo;sigmoid function&rdquo; refers to the logistic function $S$ defined by\n",
    "$S(x)={\\frac {1}{1+e^{-x}}}={\\frac {e^{x}}{e^{x}+1}}$.  \n",
    "\n",
    "You might define this by\n",
    "\n"
   ]
  },
  {
   "cell_type": "code",
   "execution_count": 4,
   "metadata": {},
   "outputs": [],
   "source": [
    "import math\n",
    "def S(x):\n",
    "    return 1/(1 + math.exp(-x))"
   ]
  },
  {
   "cell_type": "markdown",
   "metadata": {},
   "source": [
    "Plot it!\n",
    "\n"
   ]
  },
  {
   "cell_type": "code",
   "execution_count": null,
   "metadata": {},
   "outputs": [],
   "source": []
  },
  {
   "cell_type": "code",
   "execution_count": 22,
   "metadata": {},
   "outputs": [
    {
     "data": {
      "image/png": "[encoded data removed]",
      "text/plain": [
       "<Figure size 432x288 with 1 Axes>"
      ]
     },
     "metadata": {
      "needs_background": "light"
     },
     "output_type": "display_data"
    }
   ],
   "source": [
    "import matplotlib.pyplot as plt\n",
    "import numpy as np\n",
    "#print(np.arange(0.0, 10.0, 0.1))\n",
    "plt.plot(np.arange(-10, 10.0, 0.1),[S(x) for x in np.arange(-10, 10.0, 0.1)]);\n",
    "#raise Exception(\"Use matplotlib to plot S\")"
   ]
  },
  {
   "cell_type": "markdown",
   "metadata": {},
   "source": [
    "What is the image of $S$?  You&rsquo;ll be happy computing this.\n",
    "\n"
   ]
  },
  {
   "cell_type": "code",
   "execution_count": 23,
   "metadata": {},
   "outputs": [
    {
     "data": {
      "text/plain": [
       "1.216780750623423e-308"
      ]
     },
     "execution_count": 23,
     "metadata": {},
     "output_type": "execute_result"
    }
   ],
   "source": [
    "S(-709)"
   ]
  },
  {
   "cell_type": "markdown",
   "metadata": {},
   "source": [
    "You&rsquo;ll be sad when you compute this.\n",
    "\n"
   ]
  },
  {
   "cell_type": "code",
   "execution_count": 24,
   "metadata": {},
   "outputs": [
    {
     "ename": "OverflowError",
     "evalue": "math range error",
     "output_type": "error",
     "traceback": [
      "\u001b[0;31m---------------------------------------------------------------------------\u001b[0m",
      "\u001b[0;31mOverflowError\u001b[0m                             Traceback (most recent call last)",
      "\u001b[0;32m<ipython-input-24-e0b9cc43eae1>\u001b[0m in \u001b[0;36m<module>\u001b[0;34m\u001b[0m\n\u001b[0;32m----> 1\u001b[0;31m \u001b[0mS\u001b[0m\u001b[0;34m(\u001b[0m\u001b[0;34m-\u001b[0m\u001b[0;36m710\u001b[0m\u001b[0;34m)\u001b[0m\u001b[0;34m\u001b[0m\u001b[0m\n\u001b[0m",
      "\u001b[0;32m<ipython-input-4-e2241b7f74a0>\u001b[0m in \u001b[0;36mS\u001b[0;34m(x)\u001b[0m\n\u001b[1;32m      1\u001b[0m \u001b[0;32mimport\u001b[0m \u001b[0mmath\u001b[0m\u001b[0;34m\u001b[0m\u001b[0m\n\u001b[1;32m      2\u001b[0m \u001b[0;32mdef\u001b[0m \u001b[0mS\u001b[0m\u001b[0;34m(\u001b[0m\u001b[0mx\u001b[0m\u001b[0;34m)\u001b[0m\u001b[0;34m:\u001b[0m\u001b[0;34m\u001b[0m\u001b[0m\n\u001b[0;32m----> 3\u001b[0;31m     \u001b[0;32mreturn\u001b[0m \u001b[0;36m1\u001b[0m\u001b[0;34m/\u001b[0m\u001b[0;34m(\u001b[0m\u001b[0;36m1\u001b[0m \u001b[0;34m+\u001b[0m \u001b[0mmath\u001b[0m\u001b[0;34m.\u001b[0m\u001b[0mexp\u001b[0m\u001b[0;34m(\u001b[0m\u001b[0;34m-\u001b[0m\u001b[0mx\u001b[0m\u001b[0;34m)\u001b[0m\u001b[0;34m)\u001b[0m\u001b[0;34m\u001b[0m\u001b[0m\n\u001b[0m",
      "\u001b[0;31mOverflowError\u001b[0m: math range error"
     ]
    }
   ],
   "source": [
    "S(-710)"
   ]
  },
  {
   "cell_type": "markdown",
   "metadata": {},
   "source": [
    "What happened?  One solution is the following.\n",
    "\n"
   ]
  },
  {
   "cell_type": "code",
   "execution_count": 25,
   "metadata": {},
   "outputs": [],
   "source": [
    "def S(x):\n",
    "    if x < 0:\n",
    "        return math.exp(x) / (1 + math.exp(x)) \n",
    "    else:\n",
    "        return 1 / (1 + math.exp(-x))"
   ]
  },
  {
   "cell_type": "markdown",
   "metadata": {},
   "source": [
    "Another choice is to invoke `scipy` which provides an `expit` function\n",
    "defined on arrays.\n",
    "\n"
   ]
  },
  {
   "cell_type": "code",
   "execution_count": 57,
   "metadata": {},
   "outputs": [
    {
     "name": "stdout",
     "output_type": "stream",
     "text": [
      "[-23.02585093 -11.59908319 -10.90593228 -10.50045982 -10.21276948\n",
      "  -9.9896173   -9.80728693  -9.65312733  -9.51958696  -9.4017949\n",
      "  -9.29642533  -9.20110607  -9.11408561  -9.03403379  -8.9599167\n",
      "  -8.89091471  -8.82636706  -8.7657333   -8.70856575  -8.65448938\n",
      "  -8.60318694  -8.55438763  -8.50785846  -8.46339754  -8.42082877\n",
      "  -8.37999762  -8.34076774  -8.30301825  -8.26664145  -8.23154096\n",
      "  -8.19763025  -8.16483126  -8.1330734   -8.10229257  -8.07243044\n",
      "  -8.04343374  -8.01525369  -7.98784555  -7.96116813  -7.93518347\n",
      "  -7.90985649  -7.88515471  -7.86104799  -7.83750832  -7.81450963\n",
      "  -7.7920276   -7.77003952  -7.74852414  -7.72746156  -7.7068331\n",
      "  -7.68662122  -7.66680942  -7.64738215  -7.62832479  -7.60962348\n",
      "  -7.59126516  -7.57323748  -7.55552873  -7.53812781  -7.5210242\n",
      "  -7.50420791  -7.48766943  -7.47139973  -7.45539021  -7.43963268\n",
      "  -7.42411932  -7.40884267  -7.39379561  -7.37897135  -7.36436337\n",
      "  -7.34996546  -7.33577164  -7.32177622  -7.30797372  -7.29435889\n",
      "  -7.28092669  -7.26767229  -7.25459103  -7.24167844  -7.22893024\n",
      "  -7.21634228  -7.20391058  -7.1916313   -7.17950076  -7.16751539\n",
      "  -7.15567176  -7.14396654  -7.13239653  -7.12095866  -7.10964992\n",
      "  -7.09846744  -7.08740842  -7.07647017  -7.06565008  -7.05494561\n",
      "  -7.04435432  -7.03387383  -7.02350187  -7.01323618  -7.00307463\n",
      "  -6.99301511  -6.9830556   -6.97319412  -6.96342877  -6.95375767\n",
      "  -6.94417904  -6.93469111  -6.92529219  -6.91598062  -6.90675478]\n"
     ]
    }
   ],
   "source": [
    "import scipy\n",
    "from scipy.special import expit\n",
    "from scipy.special import logit\n",
    "\n",
    "#print(expit(range(-10,10)))\n",
    "print(logit(np.linspace(0.0000000001,0.001,110)))\n"
   ]
  },
  {
   "cell_type": "markdown",
   "metadata": {},
   "source": [
    "This `S` or `expit` function is the inverse to the `logit` function,\n",
    "defined as follows.\n",
    "\n"
   ]
  },
  {
   "cell_type": "code",
   "execution_count": 63,
   "metadata": {},
   "outputs": [
    {
     "name": "stdout",
     "output_type": "stream",
     "text": [
      "[4.53978687e-05 1.23394576e-04 3.35350130e-04 9.11051194e-04\n",
      " 2.47262316e-03 6.69285092e-03 1.79862100e-02 4.74258732e-02\n",
      " 1.19202922e-01 2.68941421e-01 5.00000000e-01 7.31058579e-01\n",
      " 8.80797078e-01 9.52574127e-01 9.82013790e-01 9.93307149e-01\n",
      " 9.97527377e-01 9.99088949e-01 9.99664650e-01 9.99876605e-01]\n"
     ]
    }
   ],
   "source": [
    "def logit(p):\n",
    "    return math.log( p / (1 - p) )\n",
    "\n",
    "print(expit(range(-10,10)))"
   ]
  },
  {
   "cell_type": "markdown",
   "metadata": {},
   "source": [
    "What&rsquo;s the domain of `logit`?  Plot it.\n",
    "\n"
   ]
  },
  {
   "cell_type": "code",
   "execution_count": 77,
   "metadata": {},
   "outputs": [
    {
     "data": {
      "image/png": "[encoded data removed]",
      "text/plain": [
       "<Figure size 432x288 with 1 Axes>"
      ]
     },
     "metadata": {
      "needs_background": "light"
     },
     "output_type": "display_data"
    }
   ],
   "source": [
    "import matplotlib.pyplot as plt\n",
    "plt.plot(np.linspace(0.0,1,1100),[logit(x) for x in np.linspace(0.0,1,1100)]);\n",
    "#raise Exception(\"Use matplotlib to plot logit\")"
   ]
  },
  {
   "cell_type": "markdown",
   "metadata": {},
   "source": [
    "You can also find `logit` in `scipy`, and the `logit` defined there is\n",
    "also valid for arrays.\n",
    "\n"
   ]
  },
  {
   "cell_type": "code",
   "execution_count": 65,
   "metadata": {},
   "outputs": [],
   "source": [
    "from scipy.special import logit"
   ]
  },
  {
   "cell_type": "markdown",
   "metadata": {},
   "source": [
    "What happens if you compose `logit` and `expit`?\n",
    "\n"
   ]
  },
  {
   "cell_type": "code",
   "execution_count": 71,
   "metadata": {},
   "outputs": [
    {
     "data": {
      "text/plain": [
       "16.999999997092043"
      ]
     },
     "execution_count": 71,
     "metadata": {},
     "output_type": "execute_result"
    }
   ],
   "source": [
    "logit(expit(17))"
   ]
  },
  {
   "cell_type": "code",
   "execution_count": 75,
   "metadata": {},
   "outputs": [
    {
     "data": {
      "text/plain": [
       "0.17000000000000004"
      ]
     },
     "execution_count": 75,
     "metadata": {},
     "output_type": "execute_result"
    }
   ],
   "source": [
    "expit(logit(0.17))\n",
    "#logit(0.17)"
   ]
  },
  {
   "cell_type": "markdown",
   "metadata": {},
   "source": [
    "## The logistic model\n",
    "\n"
   ]
  },
  {
   "cell_type": "markdown",
   "metadata": {},
   "source": [
    "Armed with `logit` and `expit`, we relate $\\mathbb{R}$ to $(0,1)$.\n",
    "\n",
    "If we were to model the probability directly, we might do something\n",
    "silly like report probabilities larger than 1 or report negative\n",
    "probabilities, but now we can model `logit` of the probability, and\n",
    "`logit` is unbounded.  This `logit` is said to be the &ldquo;log odds&rdquo;\n",
    "because it is the logarithm of the odds.  Any real number is a\n",
    "reasonable choice for the log odds; if we want the probability, we\n",
    "take `expit` of the log odds.\n",
    "\n",
    "Assuming the data is drawn from $\\mathbb{R}^n$, our model has\n",
    "parameters $\\beta_1, \\ldots, \\beta_n$ along with an intercept\n",
    "$\\beta_0$, and the model reports $p(x) = S(\\sum \\beta_i x_i +\n",
    "\\beta_0)$.  Since $S(0) = 0.5$, the classification problem boils down\n",
    "to whether or not $\\sum \\beta_i x_i + \\beta_0$ is positive or negative.\n",
    "\n",
    "**This is just a model.** Nobody is promising that this is going to fit\n",
    "the data all that well, but it provides a way, with $n+1$ parameters,\n",
    "to convert $x$&rsquo;s into a number between $0$ and $1$, which we can\n",
    "regard as a probability.  What would it even mean for the logistic\n",
    "model to report the &ldquo;true&rdquo; probabilities?\n",
    "\n"
   ]
  },
  {
   "cell_type": "markdown",
   "metadata": {},
   "source": [
    "## Logistic regression\n",
    "\n"
   ]
  },
  {
   "cell_type": "markdown",
   "metadata": {},
   "source": [
    "You should not be surprised that it isn&rsquo;t hard to perform logistic regression with `scikit-learn`.  Let&rsquo;s load the iris data from your homework.\n",
    "\n"
   ]
  },
  {
   "cell_type": "code",
   "execution_count": 78,
   "metadata": {},
   "outputs": [],
   "source": [
    "from sklearn.datasets import load_iris\n",
    "from sklearn.linear_model import LogisticRegression\n",
    "X, y = load_iris(return_X_y=True)"
   ]
  },
  {
   "cell_type": "markdown",
   "metadata": {},
   "source": [
    "Split the data into a training and a testing set.\n",
    "\n"
   ]
  },
  {
   "cell_type": "code",
   "execution_count": 79,
   "metadata": {},
   "outputs": [],
   "source": [
    "from sklearn.model_selection import train_test_split \n",
    "X_train, X_test, y_train, y_test = train_test_split(X, y, test_size = 0.3, stratify=y)"
   ]
  },
  {
   "cell_type": "markdown",
   "metadata": {},
   "source": [
    "Train the model.\n",
    "\n"
   ]
  },
  {
   "cell_type": "code",
   "execution_count": 82,
   "metadata": {},
   "outputs": [],
   "source": [
    "model = LogisticRegression(solver='lbfgs',multi_class='multinomial')\n",
    "model.fit(X_train, y_train);"
   ]
  },
  {
   "cell_type": "markdown",
   "metadata": {},
   "source": [
    "How did it do?\n",
    "\n"
   ]
  },
  {
   "cell_type": "code",
   "execution_count": 81,
   "metadata": {},
   "outputs": [
    {
     "name": "stdout",
     "output_type": "stream",
     "text": [
      "[[15  0  0]\n",
      " [ 0 14  1]\n",
      " [ 0  0 15]]\n"
     ]
    }
   ],
   "source": [
    "from sklearn import metrics\n",
    "predicted = model.predict(X_test)\n",
    "metrics.classification_report(y_test, predicted)\n",
    "print(metrics.confusion_matrix(y_test, predicted))"
   ]
  },
  {
   "cell_type": "markdown",
   "metadata": {},
   "source": [
    "What do these terms mean?  You might remember (or not remember)\n",
    "&ldquo;sensitivity and specificity&rdquo; from medical tests.\n",
    "\n",
    "****Precision**** is the ratio of correctly predicted observations (in some\n",
    "class) to the total number of observations predicted in the class.\n",
    "Think &ldquo;low false positive.&rdquo;  Or think &ldquo;out of everyone **predicted** to\n",
    "win, how many won?&rdquo;\n",
    "\n",
    "****Recall**** is the ratio of correctly predicted observations (in some\n",
    "class) to the total number of observations labeled as such.  Think\n",
    "&ldquo;out of everyone who won, how many did we predict to win?&rdquo;\n",
    "\n",
    "How do these relate to the confusion matrix?  The difference is\n",
    "whether we&rsquo;re summing over rows or columns.\n",
    "\n",
    "Then the ****F1 score**** is the weighted average of precision and recall.\n",
    "It&rsquo;s a weighted average, but remember that you may worry more (or\n",
    "less) about false negatives than about false postives.\n",
    "\n"
   ]
  }
 ],
 "metadata": {
  "kernelspec": {
   "display_name": "Python 3",
   "language": "python",
   "name": "python3"
  },
  "language_info": {
   "codemirror_mode": {
    "name": "ipython",
    "version": 3
   },
   "file_extension": ".py",
   "mimetype": "text/x-python",
   "name": "python",
   "nbconvert_exporter": "python",
   "pygments_lexer": "ipython3",
   "version": "3.7.0"
  },
  "org": null
 },
 "nbformat": 4,
 "nbformat_minor": 1
}
