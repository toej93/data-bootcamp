{
   "cells" : [
      {
         "source" : [
            "## Ames, Iowa\n\n"
         ],
         "cell_type" : "markdown",
         "metadata" : {}
      },
      {
         "source" : [
            "Let&rsquo;s look at housing data.\n\n"
         ],
         "cell_type" : "markdown",
         "metadata" : {}
      },
      {
         "metadata" : {},
         "outputs" : [],
         "source" : [
            "import numpy as np\nimport pandas as pd\n\ndf = pd.read_csv('ames.csv')"
         ],
         "execution_count" : 1,
         "cell_type" : "code"
      },
      {
         "metadata" : {},
         "source" : [
            "Now `df` contains information about all residential home sales in\nAmes, Iowa between 2006 and 2010.\n\nOften data will be provided with documentation that describes the\ndata.  To learn more about the Ames data set, visit\n\n[http://jse.amstat.org/v19n3/decock/DataDocumentation.txt](http://jse.amstat.org/v19n3/decock/DataDocumentation.txt)\n\nIn this case, the documentation contains some pedagogical notes as\nwell which may be of interest.\n\n"
         ],
         "cell_type" : "markdown"
      },
      {
         "source" : [
            "## Look at the data\n\n"
         ],
         "cell_type" : "markdown",
         "metadata" : {}
      },
      {
         "source" : [
            "How might you use `pandas` and `matplotlib` to take a first look at\nthe data?\n\nDo you see any outliers?\n\n"
         ],
         "cell_type" : "markdown",
         "metadata" : {}
      },
      {
         "source" : [
            "## What is challenging about this data set?\n\n"
         ],
         "cell_type" : "markdown",
         "metadata" : {}
      },
      {
         "metadata" : {},
         "source" : [
            "A goal is to predict `SalePrice` from the other features.\n\nThe challenge is that all these features move together!  Bigger houses\nhave more rooms, and probably more features, and ultimately sell for\nmore.  This is a case where some **regularization** can help.\n\n"
         ],
         "cell_type" : "markdown"
      },
      {
         "source" : [
            "## Homework\n\n"
         ],
         "cell_type" : "markdown",
         "metadata" : {}
      },
      {
         "source" : [
            "Use the time today to play around with this data set.\n\nWhat can you discover?  Make a regression model.\n\nCan you plot the **residual**?\n\n"
         ],
         "cell_type" : "markdown",
         "metadata" : {}
      }
   ],
   "nbformat" : 4,
   "nbformat_minor" : 0,
   "metadata" : {
      "kernelspec" : {
         "display_name" : "Python 3",
         "name" : "python3",
         "language" : "python"
      },
      "org" : null,
      "language_info" : {
         "nbconvert_exporter" : "python",
         "version" : "3.5.2",
         "codemirror_mode" : {
            "name" : "ipython",
            "version" : 3
         },
         "file_extension" : ".py",
         "name" : "python",
         "pygments_lexer" : "ipython3",
         "mimetype" : "text/x-python"
      }
   }
}
