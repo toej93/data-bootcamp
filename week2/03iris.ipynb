{
   "nbformat_minor" : 0,
   "nbformat" : 4,
   "cells" : [
      {
         "source" : [
            "## The data set\n\n"
         ],
         "metadata" : {},
         "cell_type" : "markdown"
      },
      {
         "source" : [
            "There are a number of data sets, like the MNIST handwritten digits\ndataset, which have become classics in data science courses.  The\n&ldquo;iris&rdquo; dataset is another such classic.\n\nYour homework for today is to attack this iris dataset.  This is\narguably the **best known** dataset in the pattern recognition\nliterature.\n\n"
         ],
         "metadata" : {},
         "cell_type" : "markdown"
      },
      {
         "metadata" : {},
         "execution_count" : 1,
         "cell_type" : "code",
         "outputs" : [],
         "source" : [
            "from sklearn import datasets\niris = datasets.load_iris()"
         ]
      },
      {
         "cell_type" : "markdown",
         "metadata" : {},
         "source" : [
            "In this case, `iris.data` gives the sepal length and width and the\npetal length and width of some Iris plants.\n\n"
         ]
      },
      {
         "outputs" : [],
         "source" : [
            "iris.data"
         ],
         "metadata" : {},
         "execution_count" : 1,
         "cell_type" : "code"
      },
      {
         "source" : [
            "A human has classified these plants into one of three species, **Iris\nsetosa**, **Iris versicolour**, and **Iris virginic**.  Thes species are\nreferred to as 0, 1, 2 (as seen in `iris.target_names`) with the\nlabels for each plant provided in `iris.target`.\n\n"
         ],
         "cell_type" : "markdown",
         "metadata" : {}
      },
      {
         "source" : [
            "iris.target"
         ],
         "outputs" : [],
         "cell_type" : "code",
         "execution_count" : 1,
         "metadata" : {}
      },
      {
         "source" : [
            "## To a dataframe\n\n"
         ],
         "metadata" : {},
         "cell_type" : "markdown"
      },
      {
         "source" : [
            "This is chance to be exposed to more &ldquo;data wrangling.&rdquo;  In this case,\nwe want to combine the `iris` data and labels into a single dataframe.\n\n"
         ],
         "cell_type" : "markdown",
         "metadata" : {}
      },
      {
         "outputs" : [],
         "source" : [
            "import pandas as pd\ndf_data = pd.DataFrame(iris.data,columns=iris.feature_names)\ndf_targets = pd.DataFrame( iris.target_names[iris.target], columns=['species'] )\ndf = pd.concat( [df_data, df_targets], axis=1 )"
         ],
         "cell_type" : "code",
         "execution_count" : 1,
         "metadata" : {}
      },
      {
         "source" : [
            "## Look at your data\n\n"
         ],
         "cell_type" : "markdown",
         "metadata" : {}
      },
      {
         "source" : [
            "The first thing to do **always** is to ****look at your data.****\n\nLet&rsquo;s make some graphs.  This isn&rsquo;t the fastest way to make some\nplots, but it is fairly flexible and demonstrates `plt.subplots`.\n\n"
         ],
         "cell_type" : "markdown",
         "metadata" : {}
      },
      {
         "source" : [
            "%matplotlib inline\nimport matplotlib.pyplot as plt\nfrom itertools import cycle\ncolor = cycle('bgrcmk')\n\nfig, ax = plt.subplots()\n\nfor s in pd.unique(df['species']):\n  plants = df[df['species'] == s]\n  plants.plot.scatter('sepal length (cm)', 'petal width (cm)', \n                      label=s, c=next(color), ax=ax)\nplt.legend()\nplt.show()"
         ],
         "outputs" : [],
         "cell_type" : "code",
         "metadata" : {},
         "execution_count" : 1
      },
      {
         "metadata" : {},
         "cell_type" : "markdown",
         "source" : [
            "Do you notice how **setosa** can be (linearly) separated from the other\ntwo?  To make things a bit easier in what follows, let&rsquo;s just consider\n**two** input dimensions.\n\n"
         ]
      },
      {
         "source" : [
            "import numpy as np\nX = np.stack( [iris.data[:,0], iris.data[:,3]], axis=1 )\ny = iris.target"
         ],
         "outputs" : [],
         "metadata" : {},
         "execution_count" : 1,
         "cell_type" : "code"
      },
      {
         "cell_type" : "markdown",
         "metadata" : {},
         "source" : [
            "## Homework 1\n\n"
         ]
      },
      {
         "source" : [
            "Train a classification model on this **two-dimensional** data.  Your\nmodel (with the usual `predict` method) should be called `model`.\n\n"
         ],
         "metadata" : {},
         "cell_type" : "markdown"
      },
      {
         "metadata" : {},
         "execution_count" : 1,
         "cell_type" : "code",
         "outputs" : [],
         "source" : [
            "model = ???\nmodel.fit(X, y)"
         ]
      },
      {
         "source" : [
            "## Decision boundaries\n\n"
         ],
         "metadata" : {},
         "cell_type" : "markdown"
      },
      {
         "source" : [
            "A **decision boundary** is the hypersurface that partitions the\nunderlying space into sets, one for each class. The classifier will\nclassify all the points on one side of the decision boundary as\nbelonging to one class and all those on the other side as belonging to\nanother class.\n\nLet&rsquo;s draw a part of the decision boundary for your model.  You can\nimprove the drawing code below (e.g., match the filled contour plot\ncolors to the scatterplot colors).\n\n"
         ],
         "metadata" : {},
         "cell_type" : "markdown"
      },
      {
         "cell_type" : "code",
         "metadata" : {},
         "execution_count" : 1,
         "source" : [
            "%matplotlib inline\nfrom itertools import cycle\n\ncolor_cycle = cycle('bgrcmk')\ncolors = {}\nfor s in pd.unique(df['species']):\n    colors[s] = next(color_cycle)\n\nfig, ax = plt.subplots()\n\nxs = np.linspace( min(df['sepal length (cm)']), max(df['sepal length (cm)']), 50 )\nys = np.linspace( min(df['petal width (cm)']), max(df['petal width (cm)']), 50 )\nx0, x3 = np.meshgrid(xs, ys)\n\ngrid = np.stack( [x0,x3], axis=2 )\npredicted = model.predict(np.reshape(grid,(2500,2)))\n\nplt.contourf(xs, ys, np.reshape(predicted,(50,50)), [-0.5,0.5,1.5,2.5])\n\nfor s in pd.unique(df['species']):\n  plants = df[df['species'] == s]\n  plants.plot.scatter('sepal length (cm)', 'petal width (cm)', \n                      label=s, c=colors[s], ax=ax)\n\nplt.show()"
         ],
         "outputs" : []
      },
      {
         "cell_type" : "markdown",
         "metadata" : {},
         "source" : [
            "I encourage you to change your model and see how the decision boundary\nis affected.\n\n"
         ]
      },
      {
         "source" : [
            "## Homework 2\n\n"
         ],
         "metadata" : {},
         "cell_type" : "markdown"
      },
      {
         "metadata" : {},
         "cell_type" : "markdown",
         "source" : [
            "Train a classifier on the **four-dimensional** iris data.\n\nDoes it work better?\n\n"
         ]
      }
   ],
   "metadata" : {
      "language_info" : {
         "mimetype" : "text/x-python",
         "codemirror_mode" : {
            "version" : 3,
            "name" : "ipython"
         },
         "pygments_lexer" : "ipython3",
         "version" : "3.5.2",
         "name" : "python",
         "nbconvert_exporter" : "python",
         "file_extension" : ".py"
      },
      "org" : null,
      "kernelspec" : {
         "display_name" : "Python 3",
         "name" : "python3",
         "language" : "python"
      }
   }
}
