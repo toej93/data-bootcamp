{
   "cells" : [
      {
         "source" : [
            "Throughout our time together, a common refrain has been to ****look at\nyour data****.\n\nWe&rsquo;ll look at four data sets today, using our usual tools of `numpy` and `matplotlib`.\n\n"
         ],
         "metadata" : {},
         "cell_type" : "markdown"
      },
      {
         "execution_count" : 1,
         "metadata" : {},
         "source" : [
            "import numpy as np\nimport matplotlib.pyplot as plt"
         ],
         "outputs" : [],
         "cell_type" : "code"
      },
      {
         "cell_type" : "markdown",
         "metadata" : {},
         "source" : [
            "## Some sample data\n\n"
         ]
      },
      {
         "metadata" : {},
         "source" : [
            "Here are four datasets known as **Anscombe&rsquo;s quartet** constructed in\n1973 by the statistician Francis Anscombe.  Each dataset consists of\neleven **(x,y)** pairs.\n\n"
         ],
         "cell_type" : "markdown"
      },
      {
         "execution_count" : 1,
         "source" : [
            "x1 = [10.0,8.0,13.0,9.0,11.0,14.0,6.0,4.0,12.0,7.0,5.0]\ny1 = [8.04,6.95,7.58,8.81,8.33,9.96,7.24,4.26,10.84,4.82,5.68]\n\nx2 = [10.0,8.0,13.0,9.0,11.0,14.0,6.0,4.0,12.0,7.0,5.0]\ny2 = [9.14,8.14,8.74,8.77,9.26,8.10,6.13,3.10,9.13,7.26,4.74]\n\nx3 = [10.0,8.0,13.0,9.0,11.0,14.0,6.0,4.0,12.0,7.0,5.0]\ny3 = [7.46,6.77,12.74,7.11,7.81,8.84,6.08,5.39,8.15,6.42,5.73]\n\nx4 = [8.0,8.0,8.0,8.0,8.0,8.0,8.0,19.0,8.0,8.0,8.0]\ny4 = [6.58,5.76,7.71,8.84,8.47,7.04,5.25,12.50,5.56,7.91,6.89]\n\nxs = [x1,x2,x3,x4]\nys = [y1,y2,y3,y4]"
         ],
         "metadata" : {},
         "outputs" : [],
         "cell_type" : "code"
      },
      {
         "cell_type" : "markdown",
         "source" : [
            "## Some statistics\n\n"
         ],
         "metadata" : {}
      },
      {
         "source" : [
            "Many descriptive statistics for these four data sets are the same.\nLet&rsquo;s check this.\n\n"
         ],
         "metadata" : {},
         "cell_type" : "markdown"
      },
      {
         "source" : [
            "### mean of the *x*'s\n\n"
         ],
         "metadata" : {},
         "cell_type" : "markdown"
      },
      {
         "cell_type" : "code",
         "source" : [
            "np.mean(xs,axis=1)"
         ],
         "metadata" : {},
         "outputs" : [],
         "execution_count" : 1
      },
      {
         "metadata" : {},
         "source" : [
            "### mean of the *y*'s\n\n"
         ],
         "cell_type" : "markdown"
      },
      {
         "source" : [
            "np.mean(ys,axis=1)"
         ],
         "outputs" : [],
         "metadata" : {},
         "cell_type" : "code",
         "execution_count" : 1
      },
      {
         "cell_type" : "markdown",
         "source" : [
            "### variance\n\n"
         ],
         "metadata" : {}
      },
      {
         "execution_count" : 1,
         "metadata" : {},
         "source" : [
            "np.var(xs,axis=1)"
         ],
         "outputs" : [],
         "cell_type" : "code"
      },
      {
         "execution_count" : 1,
         "outputs" : [],
         "source" : [
            "np.var(ys,axis=1)"
         ],
         "metadata" : {},
         "cell_type" : "code"
      },
      {
         "cell_type" : "markdown",
         "metadata" : {},
         "source" : [
            "### correlations\n\n"
         ]
      },
      {
         "execution_count" : 1,
         "source" : [
            "print(np.correlate(x1,y1)) \nprint(np.correlate(x2,y2)) \nprint(np.correlate(x3,y3)) \nprint(np.correlate(x4,y4))"
         ],
         "outputs" : [],
         "metadata" : {},
         "cell_type" : "code"
      },
      {
         "cell_type" : "markdown",
         "metadata" : {},
         "source" : [
            "### linear regression\n\n"
         ]
      },
      {
         "source" : [
            "print(np.linalg.lstsq([[x,1] for x in x1],y1,rcond=-1)[0])\nprint(np.linalg.lstsq([[x,1] for x in x2],y2,rcond=-1)[0])\nprint(np.linalg.lstsq([[x,1] for x in x3],y3,rcond=-1)[0])\nprint(np.linalg.lstsq([[x,1] for x in x4],y4,rcond=-1)[0])"
         ],
         "metadata" : {},
         "outputs" : [],
         "cell_type" : "code",
         "execution_count" : 1
      },
      {
         "cell_type" : "markdown",
         "source" : [
            "## Look at the data!\n\n"
         ],
         "metadata" : {}
      },
      {
         "execution_count" : 1,
         "cell_type" : "code",
         "source" : [
            "plt.scatter(x1,y1)\nplt.show()"
         ],
         "metadata" : {},
         "outputs" : []
      },
      {
         "execution_count" : 1,
         "outputs" : [],
         "source" : [
            "plt.scatter(x2,y2)\nplt.show()"
         ],
         "metadata" : {},
         "cell_type" : "code"
      },
      {
         "execution_count" : 1,
         "cell_type" : "code",
         "source" : [
            "plt.scatter(x3,y3)\nplt.show()"
         ],
         "metadata" : {},
         "outputs" : []
      },
      {
         "cell_type" : "code",
         "outputs" : [],
         "source" : [
            "plt.scatter(x4,y4)\nplt.show()"
         ],
         "metadata" : {},
         "execution_count" : 1
      }
   ],
   "metadata" : {
      "kernelspec" : {
         "language" : "python",
         "display_name" : "Python 3",
         "name" : "python3"
      },
      "language_info" : {
         "version" : "3.5.2",
         "file_extension" : ".py",
         "codemirror_mode" : {
            "version" : 3,
            "name" : "ipython"
         },
         "nbconvert_exporter" : "python",
         "mimetype" : "text/x-python",
         "pygments_lexer" : "ipython3",
         "name" : "python"
      },
      "org" : null
   },
   "nbformat_minor" : 0,
   "nbformat" : 4
}
