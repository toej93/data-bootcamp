{
   "cells" : [
      {
         "metadata" : {},
         "cell_type" : "markdown",
         "source" : [
            "We&rsquo;ve seen some overfitting before.  Now we have a potential solution:\nregularization.\n\n"
         ]
      },
      {
         "cell_type" : "markdown",
         "source" : [
            "## Training and testing to detect overfitting\n\n"
         ],
         "metadata" : {}
      },
      {
         "metadata" : {},
         "cell_type" : "markdown",
         "source" : [
            "Let&rsquo;s produce some more fake data.\n\n"
         ]
      },
      {
         "cell_type" : "code",
         "source" : [
            "import numpy as np\n\nN = 25\nX = np.random.uniform(0,np.pi,N)\ny = np.sin(X) + np.random.normal(0,0.1,N)"
         ],
         "outputs" : [],
         "execution_count" : 1,
         "metadata" : {}
      },
      {
         "cell_type" : "markdown",
         "source" : [
            "Plot it!\n\n"
         ],
         "metadata" : {}
      },
      {
         "metadata" : {},
         "outputs" : [],
         "execution_count" : 1,
         "source" : [
            "import matplotlib.pyplot as plt\nplt.scatter(X,y)\nplt.show()"
         ],
         "cell_type" : "code"
      },
      {
         "metadata" : {},
         "cell_type" : "markdown",
         "source" : [
            "Replace each entry $x$ in `X` with powers of $x$.\n\n"
         ]
      },
      {
         "source" : [
            "from sklearn.preprocessing import PolynomialFeatures\npolynomial_features= PolynomialFeatures(degree=10)\nX_poly = polynomial_features.fit_transform(X.reshape(N,-1))"
         ],
         "cell_type" : "code",
         "metadata" : {},
         "outputs" : [],
         "execution_count" : 1
      },
      {
         "metadata" : {},
         "source" : [
            "We split this into a training and a testing set.\n\n"
         ],
         "cell_type" : "markdown"
      },
      {
         "cell_type" : "code",
         "source" : [
            "from sklearn.model_selection import train_test_split\nX_train, X_test, y_train, y_test = train_test_split(X_poly, y, test_size = 0.3)"
         ],
         "execution_count" : 1,
         "outputs" : [],
         "metadata" : {}
      },
      {
         "metadata" : {},
         "source" : [
            "We fit a model using the training data.\n\n"
         ],
         "cell_type" : "markdown"
      },
      {
         "source" : [
            "from sklearn.linear_model import LinearRegression\nmodel = LinearRegression().fit( X_train, y_train )"
         ],
         "cell_type" : "code",
         "metadata" : {},
         "outputs" : [],
         "execution_count" : 1
      },
      {
         "metadata" : {},
         "source" : [
            "It fits well on the training data!\n\n"
         ],
         "cell_type" : "markdown"
      },
      {
         "metadata" : {},
         "execution_count" : 1,
         "outputs" : [],
         "source" : [
            "model.score( X_train, y_train )"
         ],
         "cell_type" : "code"
      },
      {
         "metadata" : {},
         "cell_type" : "markdown",
         "source" : [
            "Not so well on the testing set.\n\n"
         ]
      },
      {
         "cell_type" : "code",
         "source" : [
            "model.score( X_test, y_test )"
         ],
         "execution_count" : 1,
         "outputs" : [],
         "metadata" : {}
      },
      {
         "cell_type" : "markdown",
         "source" : [
            "## Regularization ftw\n\n"
         ],
         "metadata" : {}
      },
      {
         "source" : [
            "Perhaps unsurprisingly, when fitting a high-degree polynomial, we&rsquo;re\noverfitting.\n\nRegularization is helpful here.\n\nOur usual linear regression involves the cost function $||X w -\ny||_2^2$.  But for &ldquo;ridge regression&rdquo; we instead minimize the cost\nfunction\n\n${ \\frac{1}{2n}} ||X w - y||_2^2 + \\alpha ||w||_2^2}$.\n\n"
         ],
         "cell_type" : "markdown",
         "metadata" : {}
      },
      {
         "metadata" : {},
         "outputs" : [],
         "execution_count" : 1,
         "source" : [
            "from sklearn.linear_model import Ridge\nmodel = Ridge().fit( X_train, y_train )"
         ],
         "cell_type" : "code"
      },
      {
         "source" : [
            "It does worse on the training data.\n\n"
         ],
         "cell_type" : "markdown",
         "metadata" : {}
      },
      {
         "metadata" : {},
         "outputs" : [],
         "execution_count" : 1,
         "source" : [
            "model.score( X_train, y_train )"
         ],
         "cell_type" : "code"
      },
      {
         "cell_type" : "markdown",
         "source" : [
            "But better on the testing set.\n\n"
         ],
         "metadata" : {}
      },
      {
         "source" : [
            "model.score( X_test, y_test )"
         ],
         "cell_type" : "code",
         "metadata" : {},
         "outputs" : [],
         "execution_count" : 1
      },
      {
         "cell_type" : "markdown",
         "source" : [
            "## Choosing alpha\n\n"
         ],
         "metadata" : {}
      },
      {
         "metadata" : {},
         "source" : [
            "Let&rsquo;s see how the fit depends on the choice of $\\alpha$.\n\n"
         ],
         "cell_type" : "markdown"
      },
      {
         "source" : [
            "from sklearn.linear_model import Ridge\n\nalphas = np.linspace(0.00001,1,100)\nscores = []\nfor alpha in alphas:\n    model = Ridge(alpha=alpha).fit( X_train, y_train )\n    scores.append( model.score( X_test, y_test ) )\n\nplt.scatter( alphas, scores )\nplt.show()"
         ],
         "cell_type" : "code",
         "metadata" : {},
         "outputs" : [],
         "execution_count" : 1
      },
      {
         "source" : [
            "Does `Lasso` work as well?\n\n"
         ],
         "cell_type" : "markdown",
         "metadata" : {}
      }
   ],
   "metadata" : {
      "kernelspec" : {
         "language" : "python",
         "display_name" : "Python 3",
         "name" : "python3"
      },
      "language_info" : {
         "pygments_lexer" : "ipython3",
         "nbconvert_exporter" : "python",
         "codemirror_mode" : {
            "version" : 3,
            "name" : "ipython"
         },
         "file_extension" : ".py",
         "name" : "python",
         "version" : "3.5.2",
         "mimetype" : "text/x-python"
      },
      "org" : null
   },
   "nbformat" : 4,
   "nbformat_minor" : 0
}
