{
   "nbformat_minor" : 0,
   "cells" : [
      {
         "source" : [
            "We learn to identify political comments versus science comments.\n\n"
         ],
         "cell_type" : "markdown",
         "metadata" : {}
      },
      {
         "source" : [
            "## Load some text data\n\n"
         ],
         "cell_type" : "markdown",
         "metadata" : {}
      },
      {
         "cell_type" : "markdown",
         "metadata" : {},
         "source" : [
            "One source for text data is reddit.  Download some comments from\n[comments from reddit]([http://files.pushshift.io/reddit/comments/](http://files.pushshift.io/reddit/comments/)) and\nuse `bz2` to decompress them.  Here, I loaded a large file called\n`RC_2010-10.bz2`.  Each line of the decompressed data is a JSON\nobject, which can be decoded using `json.loads` in Python.\n\nI load over 250k comments from the &ldquo;politics&rdquo; and &ldquo;science&rdquo;\nsubreddits.\n\n"
         ]
      },
      {
         "metadata" : {},
         "cell_type" : "code",
         "execution_count" : 1,
         "outputs" : [],
         "source" : [
            "import json\nimport bz2\ncomments = []\nwith bz2.open('/home/jim/downloads/RC_2010-10.bz2', 'r') as f:\n    for line in f:\n        comment = json.loads(line.strip())\n        if comment['subreddit'] in ['politics', 'science']:\n            comments.append( comment )"
         ]
      },
      {
         "source" : [
            "JSON is a popular format, so it behooves us to be comfortable with it.\n\nBut `comment['body']` is a string of text, so we convert it to a\nvector.\n\n"
         ],
         "cell_type" : "markdown",
         "metadata" : {}
      },
      {
         "metadata" : {},
         "cell_type" : "code",
         "execution_count" : 1,
         "source" : [
            "from sklearn.feature_extraction.text import HashingVectorizer\nvectorizer = HashingVectorizer(n_features=2**18)\ncorpus = [comment['body'] for comment in comments]\nX = vectorizer.fit_transform(corpus)"
         ],
         "outputs" : []
      },
      {
         "source" : [
            "We want to learn `y`, the subreddit.\n\n"
         ],
         "cell_type" : "markdown",
         "metadata" : {}
      },
      {
         "metadata" : {},
         "cell_type" : "code",
         "execution_count" : 1,
         "outputs" : [],
         "source" : [
            "import numpy as np\ny = np.array([comment['subreddit'] == 'politics' for comment in comments])"
         ]
      },
      {
         "source" : [
            "## Evaluating the model\n\n"
         ],
         "metadata" : {},
         "cell_type" : "markdown"
      },
      {
         "metadata" : {},
         "cell_type" : "markdown",
         "source" : [
            "Let&rsquo;s see how well this works.\n\n"
         ]
      },
      {
         "cell_type" : "code",
         "metadata" : {},
         "execution_count" : 1,
         "outputs" : [],
         "source" : [
            "from sklearn.model_selection import train_test_split \nfrom sklearn import linear_model\nmodel = linear_model.SGDClassifier(alpha=1e-05)\n\nX_train, X_test, y_train, y_test = train_test_split(X, y, test_size = 0.3, stratify=y)\nmodel.fit( X_train, y_train )\ny_pred = model.predict(X_test)\n\nfrom sklearn.metrics import accuracy_score, f1_score, confusion_matrix\n\nprint(\"Accuracy: {:.2f}%\".format(accuracy_score(y_test, y_pred) * 100))\nprint(\"F1 Score: {:.2f}\".format(f1_score(y_test, y_pred) * 100))\nprint(\"Confusion Matrix:\\n\", confusion_matrix(y_test, y_pred))"
         ]
      },
      {
         "cell_type" : "markdown",
         "metadata" : {},
         "source" : [
            "## Fitting the final model\n\n"
         ]
      },
      {
         "cell_type" : "markdown",
         "metadata" : {},
         "source" : [
            "When we&rsquo;re happy with our model, we fit it on **all** the data.\n\n"
         ]
      },
      {
         "source" : [
            "from sklearn import linear_model\nmodel = linear_model.SGDClassifier(alpha=1e-05)\nmodel.fit(X,y)"
         ],
         "outputs" : [],
         "metadata" : {},
         "cell_type" : "code",
         "execution_count" : 1
      },
      {
         "cell_type" : "markdown",
         "metadata" : {},
         "source" : [
            "You may want to save the model for later.  Let&rsquo;s dump it to disk using\n`joblib`, part of scikit-learn.\n\n"
         ]
      },
      {
         "outputs" : [],
         "source" : [
            "from sklearn.externals import joblib\n_ = joblib.dump(model, \"science-versus-politics.model\", compress=9)"
         ],
         "cell_type" : "code",
         "metadata" : {},
         "execution_count" : 1
      },
      {
         "source" : [
            "We can reload it.\n\n"
         ],
         "metadata" : {},
         "cell_type" : "markdown"
      },
      {
         "metadata" : {},
         "cell_type" : "code",
         "execution_count" : 1,
         "source" : [
            "model = joblib.load(\"science-versus-politics.model\")"
         ],
         "outputs" : []
      },
      {
         "cell_type" : "markdown",
         "metadata" : {},
         "source" : [
            "And we can use it to classify text.\n\n"
         ]
      },
      {
         "metadata" : {},
         "execution_count" : 1,
         "cell_type" : "code",
         "outputs" : [],
         "source" : [
            "def classify(text):\n    if model.predict(vectorizer.fit_transform([text]))[0]:\n        return 'politics'\n    else:\n        return 'science'"
         ]
      },
      {
         "metadata" : {},
         "cell_type" : "markdown",
         "source" : [
            "This is probably `politics`.\n\n"
         ]
      },
      {
         "source" : [
            "classify('Who will win the election?')"
         ],
         "outputs" : [],
         "metadata" : {},
         "cell_type" : "code",
         "execution_count" : 1
      },
      {
         "cell_type" : "markdown",
         "metadata" : {},
         "source" : [
            "I hope this is `science`.\n\n"
         ]
      },
      {
         "execution_count" : 1,
         "metadata" : {},
         "cell_type" : "code",
         "outputs" : [],
         "source" : [
            "classify('Is there any relationship between matter and energy?')"
         ]
      }
   ],
   "nbformat" : 4,
   "metadata" : {
      "language_info" : {
         "nbconvert_exporter" : "python",
         "file_extension" : ".py",
         "codemirror_mode" : {
            "name" : "ipython",
            "version" : 3
         },
         "mimetype" : "text/x-python",
         "name" : "python",
         "pygments_lexer" : "ipython3",
         "version" : "3.5.2"
      },
      "kernelspec" : {
         "language" : "python",
         "name" : "python3",
         "display_name" : "Python 3"
      },
      "org" : null
   }
}
