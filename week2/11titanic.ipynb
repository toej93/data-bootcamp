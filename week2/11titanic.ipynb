{
   "nbformat" : 4,
   "cells" : [
      {
         "source" : [
            "One great source of both data **and** community is Kaggle.\n\nGo to [https://www.kaggle.com/c/titanic/data>](https://www.kaggle.com/c/titanic/data>)to download data\ndescribing passengers from the Titanic, and whether or not they\nsurvived their voyage.  Can you use logistic regression (or any other\ntechniques!) to predict who surived?  (Perhaps &ldquo;predict&rdquo; is something\nof a misnomer since the Titanic has already sunk!)\n\n"
         ],
         "cell_type" : "markdown",
         "metadata" : {}
      }
   ],
   "metadata" : {
      "kernelspec" : {
         "language" : "python",
         "display_name" : "Python 3",
         "name" : "python3"
      },
      "language_info" : {
         "version" : "3.5.2",
         "file_extension" : ".py",
         "mimetype" : "text/x-python",
         "name" : "python",
         "codemirror_mode" : {
            "version" : 3,
            "name" : "ipython"
         },
         "pygments_lexer" : "ipython3",
         "nbconvert_exporter" : "python"
      },
      "org" : null
   },
   "nbformat_minor" : 0
}
