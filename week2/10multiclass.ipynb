{
   "nbformat_minor" : 0,
   "nbformat" : 4,
   "metadata" : {
      "kernelspec" : {
         "language" : "python",
         "name" : "python3",
         "display_name" : "Python 3"
      },
      "org" : null,
      "language_info" : {
         "pygments_lexer" : "ipython3",
         "version" : "3.5.2",
         "nbconvert_exporter" : "python",
         "name" : "python",
         "codemirror_mode" : {
            "name" : "ipython",
            "version" : 3
         },
         "file_extension" : ".py",
         "mimetype" : "text/x-python"
      }
   },
   "cells" : [
      {
         "metadata" : {},
         "source" : [
            "What we&rsquo;ve seen so far lets us perform **binary** classification.  What\nif we want to perform classification with three or more classes?\nThere are many methods!\n\n****Warning:**** `scikit-learn` classifiers does multiclass classification\nout-of-the-box.  But pedagogically, we want to make sure we are\n&ldquo;opening the black boxes&rdquo; and understanding how these things work.\n\n****Warning 2:**** multiclass does not mean multi-label, which is itself\nan incredibly important problem to solve.  A multiclass classification\nproblem assigns to an image a single word from among many possible\nwords; a multi-label classification problem could assign multiple\nwords to each image, which is often important since a picture could\ninclude multiple things to identify.\n\n"
         ],
         "cell_type" : "markdown"
      },
      {
         "source" : [
            "## Sample data\n\n"
         ],
         "cell_type" : "markdown",
         "metadata" : {}
      },
      {
         "metadata" : {},
         "source" : [
            "Let&rsquo;s generate some fake data to classify.\n\n"
         ],
         "cell_type" : "markdown"
      },
      {
         "metadata" : {},
         "execution_count" : 1,
         "source" : [
            "import numpy as np\n\nK = 8 # classes\nN = 35 # in each class\n\ndata = []\n\nfor i in range(K):\n    x = np.cos(2 * np.pi * i/K)\n    y = np.sin(2 * np.pi * i/K)\n    data.append( np.random.normal( [x,y], 0.1, size=(N,2) ) )\n\nX = np.array( data ).reshape( K*N, 2 )\ny = np.repeat( range(K), N )"
         ],
         "outputs" : [],
         "cell_type" : "code"
      },
      {
         "metadata" : {},
         "cell_type" : "markdown",
         "source" : [
            "Let&rsquo;s see it!\n\n"
         ]
      },
      {
         "metadata" : {},
         "execution_count" : 1,
         "source" : [
            "import matplotlib.pyplot as plt\nplt.scatter( X[:,0], X[:,1] )\nplt.show()"
         ],
         "outputs" : [],
         "cell_type" : "code"
      },
      {
         "metadata" : {},
         "cell_type" : "markdown",
         "source" : [
            "Can you add color to the plot?\n\nThere are many ways of producing fake data with `scikit-learn`.  For\ninstance, we can achieve the above with\n\n"
         ]
      },
      {
         "source" : [
            "from sklearn.datasets import make_blobs\n\nK = 8 # classes\nN = 35 # in each class\nangles = np.linspace(0,2*np.pi,K,endpoint=False)\ncenters = np.transpose( [np.cos(angles), np.sin(angles)] )\nX, y = make_blobs(n_samples=N*K, centers=centers, cluster_std=0.1, n_features=2)"
         ],
         "outputs" : [],
         "cell_type" : "code",
         "execution_count" : 1,
         "metadata" : {}
      },
      {
         "metadata" : {},
         "cell_type" : "markdown",
         "source" : [
            "&ldquo;Programming&rdquo; often means understanding not only the &ldquo;language&rdquo; and\nits syntax, but also the ecosystem of various packages, libraries,\netc.  In this case, `scikit-learn` offers other ways of producing fake\ndata which you should explore for homework.  A classic for binary\nclassification is `make_moons`.\n\n"
         ]
      },
      {
         "source" : [
            "## From binary to multiclass\n\n"
         ],
         "cell_type" : "markdown",
         "metadata" : {}
      },
      {
         "metadata" : {},
         "source" : [
            "Again, a ****warning:**** multinomial logistic regression is a thing.\nScikit-learn supports multiclass regression without doing any of what\nfollows.\n\nThis is just for fun and because it is important to open the boxes and\nunderstand how scikit-learn works its magic.\n\n"
         ],
         "cell_type" : "markdown"
      },
      {
         "cell_type" : "markdown",
         "source" : [
            "### One-versus-rest (OvR aka OvA meaning one-versus-all)\n\n"
         ],
         "metadata" : {}
      },
      {
         "cell_type" : "markdown",
         "source" : [
            "For each class $i$, train a single binary classifier for which class\n$i$ is positive and all others are negative.  Then to make a\nprediction on unseen data, apply all the binary classifiers and choose\nthe class with the highest probability.\n\nGood languages encourage composition, and Python is no exception.  With `scikit-learn`, we can feed a binary model to `OneVsRestClassifier` to get a classifier that handles more classes.\n\n"
         ],
         "metadata" : {}
      },
      {
         "cell_type" : "code",
         "source" : [
            "from sklearn.multiclass import OneVsRestClassifier\nfrom sklearn.svm import SVC\nmodel = OneVsRestClassifier(SVC(kernel='linear')).fit(X, y)"
         ],
         "outputs" : [],
         "execution_count" : 1,
         "metadata" : {}
      },
      {
         "cell_type" : "markdown",
         "source" : [
            "Let&rsquo;s plot it, and color the background so we can see the **decision\nboundaries**.\n\n"
         ],
         "metadata" : {}
      },
      {
         "metadata" : {},
         "execution_count" : 1,
         "source" : [
            "x_min, x_max = X[:, 0].min() - .5, X[:, 0].max() + .5\ny_min, y_max = X[:, 1].min() - .5, X[:, 1].max() + .5\nh = 0.1\nxx, yy = np.meshgrid(np.arange(x_min, x_max, h), np.arange(y_min, y_max, h))\n\nZ = model.predict(np.c_[xx.ravel(), yy.ravel()])\n\nZ = Z.reshape(xx.shape)\nplt.figure(1, figsize=(4, 3))\nplt.pcolormesh(xx, yy, Z, cmap=plt.cm.Paired)\nplt.scatter( X[:,0], X[:,1] )\nplt.show()"
         ],
         "outputs" : [],
         "cell_type" : "code"
      },
      {
         "metadata" : {},
         "source" : [
            "### One-versus-one (OvO)\n\n"
         ],
         "cell_type" : "markdown"
      },
      {
         "metadata" : {},
         "source" : [
            "For $N$ classes, train $\\binom{N}{2} = \\frac{N(N-1)}{2}$ binary\nclassifiers which is trained to distinguish each pair of classes.\n\nTo make a prediction, the $\\binom{N}{2}$ classifers all vote.  Ties\nare frustrating.\n\n"
         ],
         "cell_type" : "markdown"
      },
      {
         "metadata" : {},
         "execution_count" : 1,
         "cell_type" : "code",
         "outputs" : [],
         "source" : [
            "from sklearn.multiclass import OneVsOneClassifier\nfrom sklearn.svm import SVC\nmodel = OneVsOneClassifier(SVC(kernel='linear')).fit(X, y)"
         ]
      },
      {
         "cell_type" : "markdown",
         "source" : [
            "Let&rsquo;s plot it, and color the background so we can see the **decision\nboundaries**.\n\n"
         ],
         "metadata" : {}
      },
      {
         "source" : [
            "x_min, x_max = X[:, 0].min() - .5, X[:, 0].max() + .5\ny_min, y_max = X[:, 1].min() - .5, X[:, 1].max() + .5\nh = 0.1\nxx, yy = np.meshgrid(np.arange(x_min, x_max, h), np.arange(y_min, y_max, h))\n\nZ = model.predict(np.c_[xx.ravel(), yy.ravel()])\n\nZ = Z.reshape(xx.shape)\nplt.figure(1, figsize=(4, 3))\nplt.pcolormesh(xx, yy, Z, cmap=plt.cm.Paired)\nplt.scatter( X[:,0], X[:,1] )\nplt.show()"
         ],
         "outputs" : [],
         "cell_type" : "code",
         "metadata" : {},
         "execution_count" : 1
      },
      {
         "metadata" : {},
         "source" : [
            "## Your Homework\n\n"
         ],
         "cell_type" : "markdown"
      },
      {
         "metadata" : {},
         "source" : [
            "Put another blob in the middle.\n\n"
         ],
         "cell_type" : "markdown"
      },
      {
         "cell_type" : "code",
         "outputs" : [],
         "source" : [
            "X = np.vstack( [X, np.random.normal( 0, 0.1, size=(N,2) )] )\ny = np.repeat( range(K+1), N )"
         ],
         "execution_count" : 1,
         "metadata" : {}
      },
      {
         "source" : [
            "Plot this!\n\nDoes it still work as well?  Why is it so broken?\n\n"
         ],
         "cell_type" : "markdown",
         "metadata" : {}
      }
   ]
}
